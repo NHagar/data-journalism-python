{
 "cells": [
  {
   "cell_type": "markdown",
   "id": "e2197974",
   "metadata": {},
   "source": [
    "# Data Journalism Lesson 5: Filters\n",
    "\n",
    "Learn how to narrow in on what's important and remove what isn't."
   ]
  },
  {
   "cell_type": "code",
   "execution_count": null,
   "id": "d5e8f97b",
   "metadata": {
    "tags": [
     "hide-input",
     "thebe-init"
    ]
   },
   "outputs": [],
   "source": [
    "import pandas as pd\n",
    "from IPython.display import display, HTML\n",
    "\n",
    "def check_filter(result, expected):\n",
    "    \"\"\"Check if the result of a groupby/sum operation matches the expected result.\"\"\"\n",
    "    try:\n",
    "        pd.testing.assert_frame_equal(result.reset_index(), expected.reset_index(), check_dtype=False, check_like=True, rtol=1e-3)\n",
    "        display(HTML('<div style=\"background-color: #dff0d8; padding: 10px; border-radius: 5px;\">' +\n",
    "                 '<strong>Great work!</strong></div>'))\n",
    "    except AssertionError as e:\n",
    "        # print(e) # Uncomment for debugging\n",
    "        display(HTML('<div style=\"background-color: #f2dede; padding: 10px; border-radius: 5px;\">' +\n",
    "                 '<strong>Not quite!</strong> Check your column, operator, and value.</div>'))"
   ]
  },
  {
   "cell_type": "code",
   "execution_count": null,
   "id": "7198992b",
   "metadata": {
    "tags": [
     "thebe-init",
     "hide-input"
    ]
   },
   "outputs": [],
   "source": [
    "import pandas as pd\n",
    "\n",
    "state = \"Minnesota\"\n",
    "\n",
    "df = pd.read_csv(f\"../_static/rural-grants/{state.lower()}.csv\")\n",
    "total = df.investment_dollars.sum()\n",
    "rows = df.shape[0]\n",
    "cols = df.shape[1]\n",
    "single_family = df[df.program_area == \"Single Family Housing\"]\n",
    "single_family_entities = len(single_family)\n",
    "single_family_investments = single_family.number_of_investments.sum()\n",
    "single_multi_family = df[df[\"program_area\"].isin([\"Single Family Housing\", \"Multifamily Housing\"])]\n",
    "contains_housing = df[df['program_area'].str.contains(\"Housing\", na=False)]\n",
    "\n",
    "areas_of_interest = [\"Single Family Housing\", \"Multifamily Housing\", \"Community Facilities\"]\n",
    "is_in_list = df[df['program_area'].isin(areas_of_interest)]\n",
    "\n",
    "county_summary_expected = (df[df[\"program_area\"].isin(areas_of_interest)]\n",
    "                    .groupby(\"county\")\n",
    "                    .agg(total_investment_dollars=(\"investment_dollars\", 'sum'))\n",
    "                    .sort_values(\"total_investment_dollars\", ascending=False)\n",
    "                    )\n",
    "\n",
    "top_county = county_summary_expected.index[0]\n",
    "top_county_investment = county_summary_expected.iloc[0, 0]\n",
    "\n",
    "investments_col_filtered_expected = df[[\"county\", \"program_area\", \"investment_dollars\"]]\n",
    "top_10_counties_expected = county_summary_expected.head(10)"
   ]
  },
  {
   "cell_type": "code",
   "execution_count": null,
   "id": "16898d50",
   "metadata": {
    "tags": [
     "hide-input",
     "hide-output"
    ]
   },
   "outputs": [],
   "source": [
    "from myst_nb import glue\n",
    "\n",
    "# Glue variables for use elsewhere in the notebook\n",
    "glue(\"state\", state, display=False)\n",
    "glue(\"investment_total\", f\"{total:,}\", display=False)\n",
    "glue(\"investment_rows\", f\"{rows:,}\", display=False)\n",
    "glue(\"investment_cols\", f\"{cols:,}\", display=False)\n",
    "glue(\"single_family_entities\", f\"{single_family_entities:,}\", display=False)\n",
    "glue(\"single_family_investments\", f\"{single_family_investments:,}\", display=False)\n",
    "glue(\"top_county\", top_county, display=False)\n",
    "glue(\"top_county_investment\", f\"{top_county_investment:,}\", display=False)"
   ]
  },
  {
   "cell_type": "markdown",
   "id": "8cd215f1",
   "metadata": {},
   "source": [
    "## The Goal\n",
    "\n",
    "In this lesson, you'll learn about filtering data - a crucial skill for focusing your analysis on specific subsets of information. By the end of this tutorial, you'll understand how to use boolean indexing and the `.query()` method in pandas to narrow down your DataFrame based on various criteria. You'll practice filtering with exact matches, partial matches using string methods, and filtering with lists. You'll also learn how to combine multiple filters and use column selection to simplify your data view. These skills will enable you to efficiently extract the most relevant information from large datasets, a key ability in data journalism."
   ]
  },
  {
   "cell_type": "markdown",
   "id": "62353b6c",
   "metadata": {},
   "source": [
    "## What is Data Journalism?\n",
    "\n",
    "Chad Day's career has taken him from covering the night cops beat in Little Rock Arkansas to the chief elections analyst for the Associated Press, going from data analysis about crimes in a mid-South city to the most consequential event in American democracy. Between those two jobs, he was part of team that won a Pulitzer Prize at the Wall Street Journal. \n",
    "\n",
    "So I asked him, how often does he work with data and not use group by, summarize, arrange and what this tutorial covers, filtering?\n",
    "\n",
    "\"I think almost never,\" he said. \"I mean, I do it all the time, right? There's never a time where I don't use it, I should say.\"\n",
    "\n",
    "Every data journalist I talked to said the same. \n",
    "\n",
    "There's an old expression in music that all you need is three chords and the truth to make a song. Data journalism is not that far off. I'd make the argument it's more like five chords, but those chords -- group by, summarize, arrange, filter and mutating -- are the foundation to nearly everything. \n",
    "\n",
    "What is filtering? It focuses our data down to what we care about, what we're curious about, what we want to know. An example: Safe to say if we're working for a specific state's news organization, we should focus on that state's data. People care about where they live. They do not care about what's going on a thousand miles away. They *really* care about what's going on their neighborhood, their city, their county and so on. With filtering, we can take a national dataset and focus it on where you live."
   ]
  },
  {
   "cell_type": "markdown",
   "id": "2b73f9fa",
   "metadata": {},
   "source": [
    "## The Basics\n",
    "\n",
    "More often than not, we have more data than we want. Sometimes we need to be rid of that data. In `pandas`, there's two main ways to go about this: filtering rows and selecting columns.\n",
    "\n",
    "**Filtering creates a subset of the data based on criteria (selecting rows)**. All records where the count is greater than 10. All records that match \"Nebraska\". Something like that. \n",
    "\n",
    "**Selecting simply returns only the columns named**. So if you only want to see School and Attendance, you select those columns. When you look at your data again, you'll have two columns. If you try to use one of your columns that you had before you used selection, you'll get an error if you overwrote the original DataFrame."
   ]
  },
  {
   "cell_type": "markdown",
   "id": "c8f85184",
   "metadata": {},
   "source": [
    "Let's work on some examples using a dataset of rural investments made by the U.S. Department of Agriculture. If you aren't from a rural place or state with lot of rural areas, a lot of small towns are shrinking. One of the reasons? A lack of housing in those places. There may be people or businesses that want to move to a small community but there aren't places for them to live. With this data, we can look at what the federal government is doing about that through the Department of Agriculture.\n",
    "\n",
    "What kind of money are we talking? In {glue:text}`state`, since 2019, the USDA has invested ${glue:text}`investment_total` in rural business development, housing, energy and other areas."
   ]
  },
  {
   "cell_type": "markdown",
   "id": "ebdc8057",
   "metadata": {},
   "source": [
    "First we'll need pandas. Your first step is always loading libraries and you’ll need to run this step in nearly every single thing you do."
   ]
  },
  {
   "cell_type": "code",
   "execution_count": null,
   "id": "886f7ff6",
   "metadata": {
    "tags": [
     "skip-execution"
    ]
   },
   "outputs": [],
   "source": [
    "import pandas as pd"
   ]
  },
  {
   "cell_type": "markdown",
   "id": "32f3b16d",
   "metadata": {},
   "source": [
    "Now import the data. As with other datasets, you can swap in your state name if you'd like – lowercase letters, dashes for spaces."
   ]
  },
  {
   "cell_type": "code",
   "execution_count": null,
   "id": "860d2e30",
   "metadata": {
    "tags": [
     "skip-execution"
    ]
   },
   "outputs": [],
   "source": [
    "investments = pd.read_csv('../_static/rural-grants/minnesota.csv')"
   ]
  },
  {
   "cell_type": "markdown",
   "id": "5a6e7a75",
   "metadata": {},
   "source": [
    "First things first, let's look investments in building houses in rural {glue:text}`state`. How do we go from {glue:text}`investment_rows` rows of investments, which includes everything, down to just grants and loans for houses? We do that with filtering using boolean indexing, some logic that at first will seem a little weird, but you'll get used to pretty quickly."
   ]
  },
  {
   "cell_type": "markdown",
   "id": "4480564a",
   "metadata": {},
   "source": [
    "Filtering in pandas often involves creating a boolean Series (True/False values) based on a condition, and then using that Series to index the DataFrame.\n",
    "\n",
    "A condition contains three parts: \n",
    "1. A column name (accessed like `df['column_name']` or `df.column_name`).\n",
    "2. A comparison operator.\n",
    "3. The value to compare against.\n",
    "\n",
    "Here are the common comparison operators in Python/pandas:\n",
    "\n",
    "| Operator | Explanation              |\n",
    "|----------|--------------------------|\n",
    "| ==       | equal to                 |\n",
    "| !=       | not equal to             |\n",
    "| >        | greater than             |\n",
    "| >=       | greater than or equal to |\n",
    "| <        | less than                |\n",
    "| <=       | less than or equal to    |\n",
    "\n",
    "The tough one to remember is equal to. In conditional statements, equal to is `==` not `=`. If you haven’t noticed, `=` is a variable assignment operator, not a conditional statement. So equal is `==` and NOT equal is `!=`. You can also combine greater than and equal to. So, for instance, if you want all values that are 10 or greater, you can use `>= 10`, which is the same thing as `> 9`. Both will include 10 and everything greater. But one is more clear – `>= 10` – and one is a trick. Always be clear."
   ]
  },
  {
   "cell_type": "markdown",
   "id": "b58a98f2",
   "metadata": {},
   "source": [
    "What we want to do is look at all rows where the `program_area` column exactly matches \"Single Family Housing\".\n",
    "\n",
    "First, let's use `.head()` to give us a peek at the data and column names."
   ]
  },
  {
   "cell_type": "code",
   "execution_count": null,
   "id": "d5478b33",
   "metadata": {
    "tags": [
     "skip-execution"
    ]
   },
   "outputs": [],
   "source": [
    "investments.head()"
   ]
  },
  {
   "cell_type": "markdown",
   "id": "560550b3",
   "metadata": {},
   "source": [
    "Now that we can see the column names, the one we're looking for is `program_area` which is a simple label for what the program is trying to do. What does that mean? For our example, Single Family Housing as a program area can be funded by several different programs, which is the next column after `program_area`. In other words, Single Family Homes can get funding from the Guaranteed Loans program, or the Repair Grants program. Labels like this are often a handy way for data analysts to focus down on a particular subject."
   ]
  },
  {
   "cell_type": "markdown",
   "id": "e825273d",
   "metadata": {},
   "source": [
    "### Exercise 1: Building houses \n",
    "\n",
    "Filter the `investments` DataFrame to show only rows where the `program_area` is exactly \"Single Family Housing\". Remember the three parts: DataFrame and column, comparison operator, and the value."
   ]
  },
  {
   "cell_type": "code",
   "execution_count": null,
   "id": "0586f490",
   "metadata": {
    "tags": [
     "skip-execution"
    ]
   },
   "outputs": [],
   "source": [
    "investments_single_family = investments[investments[_____] _____ _____]\n",
    "print(investments_single_family.head())\n",
    "\n",
    "check_filter(investments_single_family, single_family)"
   ]
  },
  {
   "cell_type": "markdown",
   "id": "1f88a132",
   "metadata": {},
   "source": [
    "There might be too many rows to show all the data, but the USDA gave {glue:text}`single_family_entities` entities money through grants or loans for single family housing investments in {glue:text}`state` since 2019. We have to be careful with how we word that, because each row is money going to a single entity. That single entity can subdivide that investment into smaller investments. If we look at the `number_of_investments` column, the number of investments made in single family housing in {glue:text}`state` grows to {glue:text}`single_family_investments`. A key lesson in data journalism – being very precise with your wording."
   ]
  },
  {
   "cell_type": "markdown",
   "id": "1639873e",
   "metadata": {},
   "source": [
    "### Exercise 2: Filter more than one thing, the standard way\n",
    "\n",
    "If you look at the rural investments data, you'll notice that single family housing isn't the only kind of housing investments the USDA makes in rural areas. They also make investments in multi-family housing -- apartments, duplexes and the like. \n",
    "\n",
    "But how do you write a filter that captures both single family housing and multifamily housing? You can combine conditions using logical operators.\n",
    "\n",
    "In Python and pandas:\n",
    "*   `&` means AND (both conditions must be true)\n",
    "*   `|` means OR (at least one condition must be true)\n",
    "*   `~` means NOT (reverses the condition)\n",
    "\n",
    "**Important:** When combining conditions, you MUST put parentheses `()` around each individual condition.\n",
    "\n",
    "We want all investments that are \"Single Family Housing\" OR \"Multifamily Housing\". Filter the `investments` DataFrame accordingly."
   ]
  },
  {
   "cell_type": "code",
   "execution_count": null,
   "id": "16e7c58a",
   "metadata": {
    "tags": [
     "skip-execution"
    ]
   },
   "outputs": [],
   "source": [
    "investments_filtered_multi = investments[(investments[\"program_area\"] == _____) | (investments[\"program_area\"] == _____)]\n",
    "print(investments_filtered_multi.head())\n",
    "\n",
    "check_filter(investments_filtered_multi, single_multi_family)"
   ]
  },
  {
   "cell_type": "markdown",
   "id": "e3f86540",
   "metadata": {},
   "source": [
    "As you can see, you get both program areas now, but see what I mean about wordy? You have to repeat the entire filter condition every time you want to add something. So if we wanted to add another program area into this, we’d add another | and have to repeat that it’s a program_area we’re looking in and so on. Why do that?\n",
    "\n",
    "Because filters are flexible. Our first filter could be on one column of information, but the next one does not have to be. We could look for things in column A, column B and column C all at the same time. We can switch back and forth between OR and AND depending on what we need. Complex filters are a logic puzzle."
   ]
  },
  {
   "cell_type": "markdown",
   "id": "37401765",
   "metadata": {},
   "source": [
    "### Exercise 3: Filtering using string methods\n",
    "\n",
    "Another way we can filter is using just the text in the column. We’ve been doing EXACT matches, meaning if the USDA misspells Single in one record, our search won’t find it. We’ll talk more about that problem later in the course. But note something about the two program areas we’re looking for – they both end with the word “Housing”. Couldn’t we use that to find both without having to do all that boolean business?\n",
    "\n",
    "We can!\n",
    "\n",
    "Pandas Series have a `.str` accessor that provides string processing methods. The `.str.contains()` method checks if a substring is present in the string in each element of the Series. It returns a boolean Series (True/False), just like our comparison operators did.\n",
    "\n",
    "Filter the `investments` DataFrame to find rows where the `program_area` column *contains* the word \"Housing\". "
   ]
  },
  {
   "cell_type": "code",
   "execution_count": null,
   "id": "35e85027",
   "metadata": {
    "tags": [
     "skip-execution"
    ]
   },
   "outputs": [],
   "source": [
    "investments_contains_housing = investments[investments['program_area'].str.contains(_____)]\n",
    "\n",
    "print(investments_contains_housing.head())\n",
    "\n",
    "check_filter(investments_contains_housing, contains_housing)"
   ]
  },
  {
   "cell_type": "markdown",
   "id": "1b6c4e17",
   "metadata": {},
   "source": [
    "And, lo and behold, we get the same answer (assuming no other program areas contain \"Housing\"). Writing code is often a battle between writing code that is clear and easy to understand and writing only enough code to make it all work. Every organization that writes code has their preference. Mine is to be clear, but `.str.contains()` can be very useful."
   ]
  },
  {
   "cell_type": "markdown",
   "id": "04f5b51d",
   "metadata": {},
   "source": [
    "### Exercise 4: Filtering with a list (`.isin()`)\n",
    "\n",
    "What if the story we want to look at is how the USDA is reshaping communities in rural areas? What if there are three program areas we're interested in? Or four? \n",
    "\n",
    "We could just go back to our OR filter and add more conditions with `|`. But that's starting to get repetitive. What if we could give the filter a list of the things we wanted and it would give us rows matching anything in that list? \n",
    "\n",
    "Good news! Totally doable with the `.isin()` method.\n",
    "\n",
    "We can create a Python list containing the values we want to match. Then, we use the `.isin()` method on the DataFrame column, passing our list as the argument. This returns a boolean Series which is True for rows where the column value is present in the list.\n",
    "\n",
    "Create a list called `areas_of_interest` containing \"Single Family Housing\", \"Multifamily Housing\", and \"Community Facilties\". Then, filter the `investments` DataFrame to keep only rows where the `program_area` is in this list."
   ]
  },
  {
   "cell_type": "code",
   "execution_count": null,
   "id": "08810160",
   "metadata": {
    "tags": [
     "skip-execution"
    ]
   },
   "outputs": [],
   "source": [
    "areas_of_interest = [_____, _____, _____]\n",
    "investments_in_list = investments[investments['program_area'].isin(_____)]\n",
    "    \n",
    "print(investments_in_list.head())\n",
    "\n",
    "check_filter(investments_in_list, is_in_list)"
   ]
  },
  {
   "cell_type": "markdown",
   "id": "1216cb52",
   "metadata": {},
   "source": [
    "Okay, so we now have three different program areas. What now? \n",
    "\n",
    "What now is we can use what we learned in the previous tutorials (grouping and aggregation) and start adding and counting on this filtered data."
   ]
  },
  {
   "cell_type": "markdown",
   "id": "ff7c99fb",
   "metadata": {},
   "source": [
    "### Exercise 5: How is the USDA impacting communities?\n",
    "\n",
    "Your editor wants to know how much money the USDA has poured into {glue:text}`state` counties since 2019 through the three programs we just filtered for. The clues are in the way that sentence is written – counties. We need a county column. How much money? We need a dollar figure column. And how much means we’re going to be adding all that money up.\n",
    "\n",
    "It’s been a while since we looked at our data, and we need some new column names, so let’s do that again quick to find what we need:"
   ]
  },
  {
   "cell_type": "code",
   "execution_count": null,
   "id": "76d6a6b2",
   "metadata": {
    "tags": [
     "skip-execution"
    ]
   },
   "outputs": [],
   "source": [
    "investments.head()"
   ]
  },
  {
   "cell_type": "markdown",
   "id": "38d6d0b3",
   "metadata": {},
   "source": [
    "Finding the county column should be pretty easy. Scroll right and you’ll find the dollar figure column. All we’re doing is adding the grouping, aggregation, and sorting to do what we did last time."
   ]
  },
  {
   "cell_type": "code",
   "execution_count": null,
   "id": "7f439400",
   "metadata": {
    "tags": [
     "skip-execution"
    ]
   },
   "outputs": [],
   "source": [
    "areas_of_interest = [\"Single Family Housing\", \"Multifamily Housing\", \"Community Facilities\"]\n",
    "\n",
    "# Chain the operations: filter, groupby, aggregate, sort\n",
    "county_summary = (investments[investments[_____].isin(_____)]\n",
    "                    .groupby(_____)\n",
    "                    .agg(total_investment_dollars=(_____, 'sum'))\n",
    "                    .sort_values(_____, ascending=False)\n",
    "                    )\n",
    "\n",
    "print(county_summary.head()) # Show the top counties\n",
    "\n",
    "check_filter(county_summary, county_summary_expected)"
   ]
  },
  {
   "cell_type": "markdown",
   "id": "9a493901",
   "metadata": {},
   "source": [
    "Looks like {glue:text}`top_county` county received the most investment, with ${glue:text}`top_county_investment`.00 going there since 2019 for housing and community facilities."
   ]
  },
  {
   "cell_type": "markdown",
   "id": "ac58032e",
   "metadata": {},
   "source": [
    "## Selecting columns to make it easier to read\n",
    "\n",
    "Our data here has {glue:text}`investment_cols` columns. As datasets go, that's not a lot. Some have *thousands* of columns. What if you only want to see two? What if your editor has a severe case of undiagnosed ADHD and showing more than what is absolutely necessary can derail a story meeting?\n",
    "\n",
    "Column selection to the rescue.\n",
    "\n",
    "```{admonition} Key Concept\n",
    "Filtering (like `df[condition]`, `.isin()`, `.str.contains()`) limits the number of **rows**, while column selection (like `df[['col1', 'col2']]`) limits the number of **columns**.\n",
    "```"
   ]
  },
  {
   "cell_type": "markdown",
   "id": "58652e94",
   "metadata": {},
   "source": [
    "### Exercise 6: Select to simplify \n",
    "\n",
    "Using column selection is easy -- just provide a list of the column names you want to keep inside square brackets `[]`. What if we just wanted to see the county, the program area and the investment dollars columns?"
   ]
  },
  {
   "cell_type": "code",
   "execution_count": null,
   "id": "4106e66e",
   "metadata": {
    "tags": [
     "skip-execution"
    ]
   },
   "outputs": [],
   "source": [
    "investments_col_filtered = investments[[_____, _____, _____]]\n",
    "print(investments_col_filtered.head())\n",
    "\n",
    "check_filter(investments_col_filtered, investments_col_filtered_expected)"
   ]
  },
  {
   "cell_type": "markdown",
   "id": "fd1663d2",
   "metadata": {},
   "source": [
    "If you have truly massive data, pandas offers more advanced ways to select columns (e.g., using `.loc`, `.iloc`, `filter()`, selecting by data type), but for most common cases, providing a list of names is sufficient."
   ]
  },
  {
   "cell_type": "markdown",
   "id": "5c9795fe",
   "metadata": {},
   "source": [
    "## Top list\n",
    "\n",
    "One last little pandas trick that's nice to have in the toolbox is a shortcut for selecting only the top values from your dataset after sorting. Want to make a Top 10 List? Or Top 25? Or Top Whatever You Want? It's easy using `.head()` after sorting.\n",
    "\n",
    "*(Note: R's `top_n` has slightly different behavior, especially with ties. In pandas, the standard approach is to sort and then take the head.)*"
   ]
  },
  {
   "cell_type": "markdown",
   "id": "b1efe8d0",
   "metadata": {},
   "source": [
    "### Exercise 7: Top N lists\n",
    "\n",
    "So what are the top 10 counties for community investment based on the `county_summary` DataFrame we created in Exercise 5? \n",
    "\n",
    "Since `county_summary` is already sorted in descending order by `total_investment_dollars`, we can simply use the `.head()` method."
   ]
  },
  {
   "cell_type": "code",
   "execution_count": null,
   "id": "37bd675c",
   "metadata": {
    "tags": [
     "skip-execution"
    ]
   },
   "outputs": [],
   "source": [
    "top_10_counties = county_summary._____(_____)    \n",
    "print(top_10_counties)\n",
    "\n",
    "check_filter(top_10_counties, top_10_counties_expected)"
   ]
  },
  {
   "cell_type": "markdown",
   "id": "4df64deb",
   "metadata": {},
   "source": [
    "Editors love top 10 lists. Like catnip."
   ]
  },
  {
   "cell_type": "markdown",
   "id": "562a5f9c",
   "metadata": {},
   "source": [
    "## The Recap\n",
    "\n",
    "Throughout this lesson, you've learned how to use filters to focus on specific parts of your dataset using pandas. You've practiced filtering with exact matches (boolean indexing), using `.str.contains()` for partial matches, and filtering with lists using `.isin()`. You've also learned how to chain multiple operations together and use column selection (`df[['col1', ...]]`) to simplify your data view. Remember, filtering is a powerful tool that allows you to zoom in on the most relevant data for your story. You'll find these filtering techniques invaluable for uncovering specific trends and patterns within larger datasets."
   ]
  },
  {
   "cell_type": "markdown",
   "id": "380a83bc",
   "metadata": {},
   "source": [
    "## Terms to Know\n",
    "\n",
    "- **Boolean Indexing**: Using a boolean Series (True/False) to select rows from a DataFrame (e.g., `df[df['col'] > 10]`).\n",
    "- **Column Selection**: Choosing specific columns from a DataFrame (e.g., `df[['col_a', 'col_b']]`).\n",
    "- **`.str.contains()`**: A pandas string method used for partial string matching within a Series.\n",
    "- **Comparison Operators**: Symbols used in filtering (e.g., `==`, `!=`, `>`, `<`) to compare values.\n",
    "- **Logical Operators**: Used to combine boolean conditions (`&` for AND, `|` for OR, `~` for NOT).\n",
    "- **`.isin()`**: A pandas method used to check if values in a Series are present in a given list or set.\n",
    "- **List**: A Python data structure used to hold an ordered sequence of items (`[]`).\n",
    "- **Method Chaining**: Connecting multiple pandas operations together, often making code more readable.\n",
    "- **`.head(N)`**: A pandas method used to select the first N rows of a DataFrame or Series."
   ]
  }
 ],
 "metadata": {
  "language_info": {
   "name": "python"
  }
 },
 "nbformat": 4,
 "nbformat_minor": 5
}
