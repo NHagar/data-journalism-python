{
    "cells": [
        {
            "cell_type": "markdown",
            "metadata": {},
            "source": [
                "# Data Journalism Lesson 19: Dumbbell charts\n",
                "\n",
                "Making quick graphics for publication by showing the difference between two points."
            ]
        },
        {
            "cell_type": "code",
            "execution_count": null,
            "metadata": {
                "tags": [
                    "hide-input",
                    "thebe-init"
                ]
            },
            "outputs": [],
            "source": [
                "import warnings\n",
                "from IPython.core.interactiveshell import InteractiveShell\n",
                "\n",
                "# Keep hold of the real method\n",
                "_orig_should_run = InteractiveShell.should_run_async\n",
                "\n",
                "# Wrap it so that any DeprecationWarning it emits is silenced\n",
                "def should_run_async(self, code, *args, **kwargs):\n",
                "    with warnings.catch_warnings():\n",
                "        warnings.simplefilter(\"ignore\", category=DeprecationWarning)\n",
                "        return _orig_should_run(self, code, *args, **kwargs)\n",
                "\n",
                "# Apply the monkey‑patch\n",
                "InteractiveShell.should_run_async = should_run_async"
            ]
        },
        {
            "cell_type": "code",
            "execution_count": null,
            "metadata": {
                "tags": [
                    "hide-input",
                    "thebe-init",
                    "skip-execution"
                ]
            },
            "outputs": [],
            "source": [
                "import micropip\n",
                "await micropip.install('plotly')\n",
                "await micropip.install(\"nbformat>=4.2.0\")"
            ]
        },
        {
            "cell_type": "code",
            "execution_count": null,
            "metadata": {
                "tags": [
                    "hide-input",
                    "thebe-init"
                ]
            },
            "outputs": [],
            "source": [
                "from IPython.display import display, HTML\n",
                "import pandas as pd\n",
                "\n",
                "# --- Simple Grading/Checking Functions ---\n",
                "def display_feedback(correct, message_correct, message_incorrect):\n",
                "    if correct:\n",
                "        display(HTML(f'<div style=\"background-color: #dff0d8; padding: 10px; border-radius: 5px;\"><strong>Correct!</strong> {message_correct}</div>'))\n",
                "    else:\n",
                "        display(HTML(f'<div style=\"background-color: #f2dede; padding: 10px; border-radius: 5px;\"><strong>Not quite!</strong> {message_incorrect}</div>'))\n",
                "\n",
                "def check_df_exists(df, df_name, expected_rows=None):\n",
                "    if not isinstance(df, pd.DataFrame) or df.empty:\n",
                "        display_feedback(False, f'{df_name} DataFrame is not loaded correctly or is empty.', 'Please check the loading process.')\n",
                "        return False\n",
                "    msg = f'{df_name} DataFrame loaded successfully.'\n",
                "    correct = True\n",
                "    if expected_rows is not None and len(df) != expected_rows:\n",
                "        msg += f' Expected {expected_rows} rows, got {len(df)}.'\n",
                "        correct = False\n",
                "    \n",
                "    if correct:\n",
                "        display_feedback(True, msg, '')\n",
                "    else:\n",
                "        display_feedback(False, '', msg)\n",
                "    return correct\n",
                "\n",
                "def check_figure_creation(fig, fig_object_type, num_traces_expected=None, trace_types_expected=None):\n",
                "    if not isinstance(fig, fig_object_type):\n",
                "        display_feedback(False, f'The figure is not of the expected type ({fig_object_type.__name__}).', 'Please ensure you are creating the figure correctly.')\n",
                "        return False\n",
                "    correct = True\n",
                "    msg_correct = 'Figure created correctly.'\n",
                "    msg_incorrect_list = []\n",
                "\n",
                "    if num_traces_expected is not None and len(fig.data) != num_traces_expected:\n",
                "        correct = False\n",
                "        msg_incorrect_list.append(f'Expected {num_traces_expected} traces, found {len(fig.data)}.')\n",
                "    \n",
                "    if trace_types_expected is not None:\n",
                "        actual_trace_types = [type(trace) for trace in fig.data]\n",
                "        for i, expected_type in enumerate(trace_types_expected):\n",
                "            if i < len(actual_trace_types):\n",
                "                if not isinstance(fig.data[i], expected_type):\n",
                "                    correct = False\n",
                "                    msg_incorrect_list.append(f'Trace {i} is type {type(fig.data[i]).__name__}, expected {expected_type.__name__}.')\n",
                "            elif i >= len(actual_trace_types) and expected_type is not None: # Expected more traces than found\n",
                "                 correct = False\n",
                "                 msg_incorrect_list.append(f'Missing expected trace of type {expected_type.__name__}.')\n",
                "                 \n",
                "    if correct:\n",
                "        display_feedback(True, msg_correct, '')\n",
                "    else:\n",
                "        display_feedback(False, '', ' '.join(msg_incorrect_list))\n",
                "    return correct\n"
            ]
        },
        {
            "cell_type": "code",
            "execution_count": null,
            "metadata": {
                "tags": [
                    "hide-input",
                    "thebe-init"
                ]
            },
            "outputs": [],
            "source": [
                "# --- State Setup and Data Loading ---\n",
                "state_abbr = 'MN'\n",
                "state_full_name = 'Minnesota'\n",
                "\n",
                "colleges_data_url = f\"../_static/colleges/{state_full_name.lower().replace(' ', '-')}.csv\"\n",
                "\n",
                "colleges_df_initial = pd.read_csv(colleges_data_url)\n",
                "\n",
                "collegerows_expected = len(colleges_df_initial)"
            ]
        },
        {
            "cell_type": "code",
            "execution_count": null,
            "id": "d1763329",
            "metadata": {
                "tags": [
                    "hide-input",
                    "hide-output"
                ]
            },
            "outputs": [],
            "source": [
                "from myst_nb import glue\n",
                "\n",
                "glue(\"state_full_name\", state_full_name, display=False)\n",
                "glue(\"colleges_csv_name\", f\"{state_full_name.lower().replace(' ', '-')}.csv\", display=False)\n",
                "glue(\"collegerows_expected\", collegerows_expected, display=False)"
            ]
        },
        {
            "cell_type": "markdown",
            "metadata": {},
            "source": [
                "## The Goal\n",
                "\n",
                "In this lesson, you'll learn how to create dumbbell charts, a powerful tool for visualizing the difference between two related values. By the end of this tutorial, you'll understand when to use dumbbell charts, how to prepare your data for this type of visualization, and how to create and customize dumbbell charts using `plotly.graph_objects`. You'll practice filtering data, reordering chart elements, and adding color to enhance the visual story. These skills will enable you to effectively communicate comparisons and gaps in your data, a crucial ability for data journalists looking to highlight meaningful differences."
            ]
        },
        {
            "cell_type": "markdown",
            "metadata": {},
            "source": [
                "## Why Visualize Data?\n",
                "\n",
                "Coulter Jones has worked in tiny newspapers, trade publications and in public radio. He's also worked at two of the largest news organizations in the world -- Bloomberg News and the Wall Street Journal. In smaller places, it's much more common for someone with some data skills to take a graphic all the way to publication. But Bloomberg and the WSJ have graphics staffs larger than most newspapers these days. There's zero chance of Jones turning some data he has into a graphic that faces the public.\n",
                "\n",
                "And yet, he makes graphics all the time.\n",
                "\n",
                "\"I would say almost every time I do an analysis, right?\" he said. \n",
                "\n",
                "As a data analyst, one of the most important things you can do -- and one of the easiest once you get some practice -- is to convert your data into a picture. You learned this from Tukey. You learned this from Playfair. You learned this from Tufte. Data journalists do this all the time, and it's one of the best reasons to learn these tools. \n",
                "\n",
                "\"One of the things that I did not appreciate at first, but then quickly learned to love about R (and similar tools like Python with Plotly) is, oh, this is a visual platform too,\" Jones might say. \"So I can very easily just do a histogram. I can do a two factor line or point, sort of like show me age and sex or something like that.\n",
                "\n",
                "\"If you just chart it, you can sometimes just see the story immediately.\""
            ]
        },
        {
            "cell_type": "markdown",
            "metadata": {},
            "source": [
                "## The Basics\n",
                "\n",
                "Second to my love of waffle charts because of their name, and I'm always hungry, dumbbell charts are an excellently named way of **showing the difference between two things on a number line** -- a start and a finish, for instance. Or the difference between two related things. When the gap between numbers is the news, dumbbell charts are what you want.\n",
                "\n",
                "Plotly Express doesn't have a direct `px.dumbbell()` function. However, we can construct dumbbell charts using `plotly.graph_objects` by combining line segments and markers. We'll need `pandas` for data and `plotly.graph_objects as go`.\n",
                "\n",
                "Let's give it a whirl."
            ]
        },
        {
            "cell_type": "code",
            "execution_count": null,
            "metadata": {
                "tags": [
                    "skip-execution"
                ]
            },
            "outputs": [],
            "source": [
                "import pandas as pd\n",
                "import plotly.graph_objects as go"
            ]
        },
        {
            "cell_type": "markdown",
            "metadata": {},
            "source": [
                "For this, let's use a list of colleges from the Department of Education's College Scorecard. The dataset is massive -- there are nearly 6,500 colleges and universities in the dataset, which in the grand scheme of data isn't that many rows. But there's more than 3,300 *columns* of data. In other words, there's that many things about each college being tracked.\n",
                "\n",
                "Let's focus on a couple of the most important things -- do people graduate? And what does it cost to go there?\n",
                "\n",
                "We'll load the data for your state: {glue:text}`state_full_name`. I've cut down the number of columns to just what we need, and limited the colleges to those granting associate and bachelor's degrees. Two other limitations: If a college didn't report data, they were dropped. And the number of colleges for a state is capped at 20 (the 20 largest by undergraduate enrollment). Dumbbell charts can only hold so many."
            ]
        },
        {
            "cell_type": "code",
            "execution_count": null,
            "metadata": {
                "tags": [
                    "skip-execution"
                ]
            },
            "outputs": [],
            "source": [
                "colleges_df = pd.read_csv(\"../_static/colleges/Minnesota.csv\")"
            ]
        },
        {
            "cell_type": "markdown",
            "metadata": {},
            "source": [
                "Let's look at what we've got here:"
            ]
        },
        {
            "cell_type": "code",
            "execution_count": null,
            "metadata": {
                "tags": [
                    "skip-execution"
                ]
            },
            "outputs": [],
            "source": [
                "display(____.head())"
            ]
        },
        {
            "cell_type": "markdown",
            "metadata": {},
            "source": [
                "For this example, let's look at the difference between a school's in-state tuition vs. out-of-state tuition. Most public colleges charge more for people who don't live there. The obvious reason is giving people who pay taxes in the state a break, and charging more for people who don't pay taxes there. Private schools don't have to do that, but some do. \n",
                "\n",
                "### Exercise 1: The first dumbbell\n",
                "\n",
                "To create a dumbbell chart with `plotly.graph_objects`, we'll construct it piece by piece:\n",
                "1.  A line segment for each college connecting `TUITIONFEE_IN` and `TUITIONFEE_OUT`.\n",
                "2.  Markers (points) at each end of these segments.\n",
                "\n",
                "We'll iterate through our `colleges_df` and add a line trace for each college. Then, we'll add two scatter traces for all the 'IN' points and all the 'OUT' points.\n",
                "\n",
                "- `y`: `INSTNM` (Institution Name) - this will be our categorical axis.\n",
                "- `x`: `TUITIONFEE_IN` for one set of points and `TUITIONFEE_OUT` for the other. The lines will connect these x-values for each y-value."
            ]
        },
        {
            "cell_type": "code",
            "execution_count": null,
            "metadata": {
                "tags": [
                    "skip-execution"
                ]
            },
            "outputs": [],
            "source": [
                "fig_ex1 = go.Figure()\n",
                "\n",
                "# Add line segments for each college\n",
                "for index, row in colleges_df.iterrows():\n",
                "    fig_ex1.add_trace(go.Scatter(\n",
                "        x=[row[____], row[____]],\n",
                "        y=[row[____], row[____]],\n",
                "        mode='lines',\n",
                "        line=dict(color='grey', width=1),\n",
                "        showlegend=False\n",
                "    ))\n",
                "\n",
                "# Add markers for In-State Tuition\n",
                "fig_ex1.add_trace(go.Scatter(\n",
                "    x=colleges_df[____],\n",
                "    y=colleges_df[____],\n",
                "    mode='markers',\n",
                "    marker=dict(color='blue', size=8),\n",
                "    name='In-State Tuition'\n",
                "))\n",
                "\n",
                "# Add markers for Out-of-State Tuition\n",
                "fig_ex1.add_trace(go.Scatter(\n",
                "    x=colleges_df[____],\n",
                "    y=colleges_df[____],\n",
                "    mode='markers',\n",
                "    marker=dict(color='red', size=8),\n",
                "    name='Out-of-State Tuition'\n",
                "))\n",
                "\n",
                "fig_ex1.update_layout(\n",
                "    title_text='In-State vs. Out-of-State Tuition Fees',\n",
                "    xaxis_title='Tuition Fee',\n",
                "    yaxis_title='Institution Name',\n",
                "    height=max(400, len(colleges_df) * 30) # Adjust height based on number of colleges\n",
                ")\n",
                "\n",
                "fig_ex1.show()"
            ]
        },
        {
            "cell_type": "markdown",
            "metadata": {},
            "source": [
                "Well, that's a chart alright. But what dot is the in-state tuition and what is the out of state? We used blue for in-state and red for out-of-state in the legend, which helps. But we can refine this further.\n",
                "\n",
                "### Exercise 2: Colors and size\n",
                "\n",
                "Let's refine the colors and marker size:\n",
                "- Connecting line: `grey`\n",
                "- `TUITIONFEE_IN` point: `green`\n",
                "- `TUITIONFEE_OUT` point: `red`\n",
                "- Marker size: Let's use `size=10` for better visibility.\n",
                "\n",
                "Rebuild the figure with these specific color and size settings."
            ]
        },
        {
            "cell_type": "code",
            "execution_count": null,
            "metadata": {
                "tags": [
                    "skip-execution"
                ]
            },
            "outputs": [],
            "source": [
                "fig_ex2 = go.Figure()\n",
                "marker_size = 10 # R's size=2 is small for Plotly markers\n",
                "line_color_ex2 = ____ # 'grey'\n",
                "in_state_marker_color_ex2 = ____ # 'green'\n",
                "out_state_marker_color_ex2 = ____ # 'red'\n",
                "\n",
                "for index, row in colleges_df.iterrows():\n",
                "    fig_ex2.add_trace(go.Scatter(\n",
                "        x=[row['TUITIONFEE_IN'], row['TUITIONFEE_OUT']],\n",
                "        y=[row['INSTNM'], row['INSTNM']],\n",
                "        mode='lines',\n",
                "        line=dict(color=line_color_ex2, width=1),\n",
                "        showlegend=False\n",
                "    ))\n",
                "\n",
                "fig_ex2.add_trace(go.Scatter(\n",
                "    x=colleges_df['TUITIONFEE_IN'],\n",
                "    y=colleges_df['INSTNM'],\n",
                "    mode='markers',\n",
                "    marker=dict(color=in_state_marker_color_ex2, size=marker_size),\n",
                "    name='In-State Tuition'\n",
                "))\n",
                "\n",
                "fig_ex2.add_trace(go.Scatter(\n",
                "    x=colleges_df['TUITIONFEE_OUT'],\n",
                "    y=colleges_df['INSTNM'],\n",
                "    mode='markers',\n",
                "    marker=dict(color=out_state_marker_color_ex2, size=marker_size),\n",
                "    name='Out-of-State Tuition'\n",
                "))\n",
                "\n",
                "fig_ex2.update_layout(\n",
                "    title_text='In-State (Green) vs. Out-of-State (Red) Tuition Fees',\n",
                "    xaxis_title='Tuition Fee',\n",
                "    yaxis_title='Institution Name',\n",
                "    height=max(400, len(colleges_df) * 30) \n",
                ")\n",
                "fig_ex2.show()"
            ]
        },
        {
            "cell_type": "markdown",
            "metadata": {},
            "source": [
                "And now we have a chart that is trying to tell a story. We know, logically, that green on the left is good, because it means cheaper tuition. A long distance between green and red? That shows a gap between what in-state students pay and what out-of-state students pay. In some cases, that's small. In some it's *huge*. But what about the colleges that have just red dots? The issue there is that they don't have in-state and out-of-state tuition (or `TUITIONFEE_IN` is NaN/missing). They just have ... tuition (which might be in `TUITIONFEE_OUT`). The green dot might be there if `TUITIONFEE_IN` equals `TUITIONFEE_OUT`, just getting covered by the red dot if plotted last for that category, or missing if NaN.\n",
                "\n",
                "### Exercise 3: Arrange helps tell the story\n",
                "\n",
                "But what if we sort it by out-of-state tuition, so we see them in order of cost? In Plotly, we can control the order of categories on the y-axis by setting `categoryorder` and `categoryarray` in `update_yaxes()`.\n",
                "\n",
                "First, create a sorted list of institution names (`INSTNM`) based on `TUITIONFEE_IN` (ascending). Then apply this order to the y-axis of your figure from Exercise 2."
            ]
        },
        {
            "cell_type": "code",
            "execution_count": null,
            "metadata": {
                "tags": [
                    "skip-execution"
                ]
            },
            "outputs": [],
            "source": [
                "fig_ex3 = go.Figure(fig_ex2) # Start with the correctly colored figure\n",
                "\n",
                "\n",
                "sorted_colleges_df = colleges_df.sort_values(by=____)\n",
                "ordered_institution_names = sorted_colleges_df[____].tolist()\n",
                "\n",
                "fig_ex3.update_layout(\n",
                "    yaxis=dict(\n",
                "        categoryorder='array',\n",
                "        categoryarray=ordered_institution_names\n",
                "    ),\n",
                "    title_text='Tuition Fees Sorted by In-State Cost'\n",
                ")\n",
                "fig_ex3.show()"
            ]
        },
        {
            "cell_type": "markdown",
            "id": "4f96e85b",
            "metadata": {},
            "source": [
                "Now we can start asking questions. What story is this telling? What is the most expensive place to go to college in {glue:text}`state_full_name` for in-state students, at least among this list? What colleges have the widest gaps between in-state and out-of-state tuition?"
            ]
        },
        {
            "cell_type": "markdown",
            "metadata": {},
            "source": [
                "## The Recap\n",
                "\n",
                "Throughout this lesson, you've learned how to create and customize dumbbell charts to visualize differences between two related values using `plotly.graph_objects`. You've practiced creating basic dumbbell charts by combining line and marker traces, and enhancing them with color and size adjustments. You've also seen how reordering the chart elements using `update_layout` can help tell a clearer story, as demonstrated with the comparison of in-state and out-of-state tuition costs across colleges. Remember, dumbbell charts are particularly effective when the gap between two values is the key story you want to tell. Consider how this visualization technique can help you highlight important comparisons in your datasets."
            ]
        },
        {
            "cell_type": "markdown",
            "metadata": {},
            "source": [
                "## Terms to Know\n",
                "\n",
                "- **Dumbbell chart**: A type of chart that displays the difference or gap between two related data points for multiple categories, visually resembling a dumbbell.\n",
                "- **`plotly.graph_objects` (as `go`)**: A Plotly module that provides more fine-grained control over chart creation compared to Plotly Express. Used here to construct dumbbell charts from basic shapes (lines and markers).\n",
                "- **`go.Scatter()`**: A versatile trace type in `plotly.graph_objects` used to create scatter plots (markers), line plots, or combinations. Essential for building dumbbell charts.\n",
                "- **`mode='lines'`**: A parameter for `go.Scatter()` to draw lines connecting the points.\n",
                "- **`mode='markers'`**: A parameter for `go.Scatter()` to draw markers (points).\n",
                "- **`x` and `y` arguments (in `go.Scatter`)**: Define the coordinates for points or line segments. For dumbbell lines, `x` will be `[value1, value2]` and `y` will be `[category_name, category_name]`.\n",
                "- **`line=dict(color=...)`**: Used to style the line part of a `go.Scatter` trace.\n",
                "- **`marker=dict(color=..., size=...)`**: Used to style the marker part of a `go.Scatter` trace.\n",
                "- **`fig.update_layout()`**: A Plotly method to modify various aspects of the figure's layout, such as titles, axis labels, and category order on axes.\n",
                "- **`yaxis=dict(categoryorder='array', categoryarray=...)`**: Used within `update_layout` to specify a custom order for categories on the y-axis."
            ]
        }
    ],
    "metadata": {
        "kernelspec": {
            "display_name": "Python 3",
            "language": "python",
            "name": "python3"
        },
        "language_info": {
            "codemirror_mode": {
                "name": "ipython",
                "version": 3
            },
            "file_extension": ".py",
            "mimetype": "text/x-python",
            "name": "python",
            "nbconvert_exporter": "python",
            "pygments_lexer": "ipython3",
            "version": "3.11"
        },
        "mystnb": {
            "execution_mode": "cache"
        }
    },
    "nbformat": 4,
    "nbformat_minor": 5
}
