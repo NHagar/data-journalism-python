{
    "cells": [
        {
            "cell_type": "markdown",
            "metadata": {},
            "source": [
                "# Data Journalism Lesson 25: Color\n",
                "\n",
                "Learn how to add color to draw attention."
            ]
        },
        {
            "cell_type": "code",
            "execution_count": null,
            "metadata": {
                "tags": [
                    "hide-input",
                    "thebe-init"
                ]
            },
            "outputs": [],
            "source": [
                "import warnings\n",
                "from IPython.core.interactiveshell import InteractiveShell\n",
                "\n",
                "# Keep hold of the real method\n",
                "_orig_should_run = InteractiveShell.should_run_async\n",
                "\n",
                "# Wrap it so that any DeprecationWarning it emits is silenced\n",
                "def should_run_async(self, code, *args, **kwargs):\n",
                "    with warnings.catch_warnings():\n",
                "        warnings.simplefilter(\"ignore\", category=DeprecationWarning)\n",
                "        return _orig_should_run(self, code, *args, **kwargs)\n",
                "\n",
                "# Apply the monkey‑patch\n",
                "InteractiveShell.should_run_async = should_run_async"
            ]
        },
        {
            "cell_type": "code",
            "execution_count": null,
            "metadata": {
                "tags": [
                    "hide-input",
                    "thebe-init",
                    "skip-execution"
                ]
            },
            "outputs": [],
            "source": [
                "import micropip\n",
                "await micropip.install('plotly')\n",
                "await micropip.install('nbformat>=4.2.0') "
            ]
        },
        {
            "cell_type": "code",
            "execution_count": null,
            "metadata": {
                "tags": [
                    "hide-input",
                    "thebe-init"
                ]
            },
            "outputs": [],
            "source": [
                "from IPython.display import display, HTML\n",
                "import pandas as pd\n",
                "\n",
                "# --- Simple Grading/Checking Functions ---\n",
                "def display_feedback(correct, message_correct, message_incorrect):\n",
                "    \"\"\"Displays feedback message in an HTML div based on correctness.\"\"\"\n",
                "    if correct:\n",
                "        display(HTML(f'<div style=\"background-color: #dff0d8; color: #3c763d; border: 1px solid #d6e9c6; padding: 10px; border-radius: 5px;\"><strong>Correct!</strong> {message_correct}</div>'))\n",
                "    else:\n",
                "        display(HTML(f'<div style=\"background-color: #f2dede; color: #a94442; border: 1px solid #ebccd1; padding: 10px; border-radius: 5px;\"><strong>Not quite.</strong> {message_incorrect}</div>'))\n",
                "\n",
                "def check_df_rows(inputted_df, expected_rows, df_name=\"DataFrame\"):\n",
                "    \"\"\"Checks if the DataFrame has the expected number of rows.\"\"\"\n",
                "    if isinstance(inputted_df, pd.DataFrame) and len(inputted_df) == expected_rows:\n",
                "        display_feedback(True, f\"{df_name} has the correct number of rows ({expected_rows}).\", \"\")\n",
                "        return True\n",
                "    elif not isinstance(inputted_df, pd.DataFrame):\n",
                "        display_feedback(False, \"\", f\"The variable '{df_name}' is not a DataFrame.\")\n",
                "        return False\n",
                "    else:\n",
                "        display_feedback(False, \"\", f\"{df_name} has {len(inputted_df)} rows, but expected {expected_rows} rows.\")\n",
                "        return False\n",
                "\n",
                "def check_column_exists_and_type(df, column_name, expected_type_str, df_name=\"DataFrame\"):\n",
                "    \"\"\"Checks if a column exists and is of a broadly expected numeric type.\"\"\"\n",
                "    if column_name not in df.columns:\n",
                "        display_feedback(False, \"\", f\"Column '{column_name}' is missing from {df_name}.\")\n",
                "        return False\n",
                "    # Basic type check (e.g., numeric for 'percent_uninsured')\n",
                "    if expected_type_str == \"numeric\" and pd.api.types.is_numeric_dtype(df[column_name]):\n",
                "        display_feedback(True, f\"Column '{column_name}' exists in {df_name} and is numeric.\", \"\")\n",
                "        return True\n",
                "    else:\n",
                "        display_feedback(False, \"\", f\"Column '{column_name}' in {df_name} is not of the expected type (numeric). It is {df[column_name].dtype}.\")\n",
                "        return False\n",
                "\n",
                "def check_plot_bar_params(fig, expected_params):\n",
                "    \"\"\"Checks specific parameters for bar charts in Plotly.\"\"\"\n",
                "    messages = []\n",
                "    all_correct = True\n",
                "    num_traces = len(fig.data)\n",
                "\n",
                "    if \"num_traces\" in expected_params and num_traces != expected_params[\"num_traces\"]:\n",
                "        messages.append(f\"Incorrect number of traces. Expected {expected_params['num_traces']}, got {num_traces}.\")\n",
                "        all_correct = False\n",
                "    \n",
                "    if \"bar_colors\" in expected_params: # List of expected colors for traces\n",
                "        for i, color in enumerate(expected_params[\"bar_colors\"]):\n",
                "            if i < num_traces:\n",
                "                actual_color = fig.data[i].marker.color\n",
                "                if actual_color == color:\n",
                "                    messages.append(f\"Trace {i} color ('{actual_color}') is correct.\")\n",
                "                else:\n",
                "                    messages.append(f\"Trace {i} color is incorrect. Expected '{color}', got '{actual_color}'.\")\n",
                "                    all_correct = False\n",
                "            else:\n",
                "                messages.append(f\"Expected color for trace {i} but trace does not exist.\")\n",
                "                all_correct = False\n",
                "\n",
                "    if \"y_axis_categoryorder\" in expected_params:\n",
                "        if fig.layout.yaxis.categoryorder == expected_params[\"y_axis_categoryorder\"]:\n",
                "            messages.append(\"Y-axis category order is correct.\")\n",
                "        else:\n",
                "            messages.append(f\"Y-axis category order is incorrect. Expected '{expected_params['y_axis_categoryorder']}', got '{fig.layout.yaxis.categoryorder}'.\")\n",
                "            all_correct = False\n",
                "            \n",
                "    if \"template\" in expected_params:\n",
                "        if fig.layout.template.name == expected_params[\"template\"]:\n",
                "            messages.append(f\"Plot template ('{fig.layout.template.name}') is correct.\")\n",
                "        else:\n",
                "            messages.append(f\"Plot template is incorrect. Expected '{expected_params['template']}', got '{fig.layout.template.name}'.\")\n",
                "            all_correct = False\n",
                "\n",
                "    if \"orientation\" in expected_params:\n",
                "        is_horizontal = all(trace.orientation == 'h' for trace in fig.data if hasattr(trace, 'orientation'))\n",
                "        if expected_params[\"orientation\"] == 'h' and is_horizontal:\n",
                "            messages.append(\"Bar orientation is correctly horizontal.\")\n",
                "        elif expected_params[\"orientation\"] != 'h' and not is_horizontal:\n",
                "             messages.append(\"Bar orientation is correctly vertical (or not specified as horizontal).\")\n",
                "        else:\n",
                "            messages.append(f\"Bar orientation is incorrect. Expected horizontal: {expected_params['orientation'] == 'h'}. Actual: {is_horizontal}\")\n",
                "            all_correct = False\n",
                "\n",
                "    if all_correct:\n",
                "        display_feedback(True, \"All checked plot elements are correct!\", \"\")\n",
                "    else:\n",
                "        feedback_msg = \"Some plot elements are incorrect or missing:<ul>\" + \"\".join([f\"<li>{m}</li>\" for m in messages]) + \"</ul>\"\n",
                "        display_feedback(False, \"\", feedback_msg)\n",
                "    return all_correct\n",
                "\n",
                "# --- Data Loading and Initial Preparation ---\n",
                "default_state_abbr = 'MN' # Default from RMD\n",
                "state_full_name_glue = \"Minnesota\"\n",
                "\n",
                "data_url = f\"../_static/uninsured/{state_full_name_glue.lower().replace(' ', '-')}.csv\"\n",
                "\n",
                "uninsured_df = pd.read_csv(data_url)\n",
                "uninsured_rows_expected = len(uninsured_df)\n",
                "\n",
                "uninsured_df['percent_uninsured'] = uninsured_df['nui_pt'] / (uninsured_df['nui_pt'] + uninsured_df['nic_pt'])\n",
                "# Ensure percent_uninsured is not NaN for sorting, fill with 0 for top_n if necessary\n",
                "top20_df = uninsured_df.fillna({'percent_uninsured': 0}).nlargest(20, 'percent_uninsured').copy()\n",
                "\n",
                "# Find the county with the max number of uninsured people within the top 20 by percentage\n",
                "top_county_df = top20_df.loc[[top20_df['nui_pt'].idxmax()]].copy() if not top20_df['nui_pt'].empty else pd.DataFrame()\n",
                "top_county_name_glue = top_county_df['ctyname'].iloc[0]"
            ]
        },
        {
            "cell_type": "code",
            "execution_count": null,
            "id": "60251c66",
            "metadata": {
                "tags": [
                    "hide-input",
                    "hide-output"
                ]
            },
            "outputs": [],
            "source": [
                "from myst_nb import glue\n",
                "\n",
                "glue(\"state_full_name\", state_full_name_glue, display=False)\n",
                "glue(\"top_county_name\", top_county_name_glue, display=False)"
            ]
        },
        {
            "cell_type": "markdown",
            "metadata": {},
            "source": [
                "## The Goal\n",
                "\n",
                "In this lesson, you'll learn how to effectively use color in data visualizations to enhance storytelling and guide reader attention. By the end of this tutorial, you'll understand key principles of color usage in charts, including limiting color palette, using contrast for emphasis, and avoiding overuse of color. You'll practice applying these concepts by creating a bar chart of uninsured rates, using color strategically to highlight specific data points. These skills will enable you to create more impactful and clear visualizations in your data journalism projects."
            ]
        },
        {
            "cell_type": "markdown",
            "metadata": {},
            "source": [
                "## Why Visualize Data?\n",
                "\n",
                "The main focus of this whole class -- indeed the whole journalism major -- is to tell a story. If the chart is not telling a story, then it doesn't serve a purpose and we've failed. And if our chart does tell a story, but the reader can't find it, then that means we've still failed the main purpose. \n",
                "\n",
                "Some charts do a lot of work showing the reader what the story is before we even do anything to it. Some need more help. One way we can offer that help is to use color. \n",
                "\n",
                "Color can be quite powerful. It can also ruin a graphic. And the right use of color isn't science -- it's art. That means color has been argued about for centuries, even in the world of graphics. \n",
                "\n",
                "The basic rules of color we're going to use are:\n",
                "\n",
                "1. Limit the number of colors. The fewer the better. If everything is a color, nothing is a color. \n",
                "2. Use contrasting colors to draw attention. A color in a sea of grey stands out. \n",
                "3. Don't abuse color. Choose appropriate colors, avoid the defaults.\n",
                "\n",
                "Where do these rules come from? Experience of people who have made graphics before. Looking at what has succeeded and what has failed. \n",
                "\n",
                "**Rule 1:** Alberto Cairo, a professor in the University of Miami School of Communication and expert in data visualization, wrote in his book The Functional Art that limiting color was \"not just a minimalist aesthetic choice, but a practical one. Limiting the amount of colors and different fonts in your graphics will help you create a sense of unity in the composition.\"\n",
                "\n",
                "He went on: \n",
                "\n",
                "\"The best way to disorient your readers is to fill your graphic with objects colored in pure accent tones. Pure colors are uncommon in nature, so limit them to highlight whatever is important in your graphics, and use subdued hues — grays, light blues, and greens — for everything else. In other words: If you know that the brain prioritizes what it pays attention to, prioritize beforehand.\"\n",
                "\n",
                "**Rule 2:** Swiss cartographer Eduard Imhof wrote in 1982 his first rule of of color composition: \"Pure, bright or very strong colors have loud unbearable effects when they stand unrelieved over large areas adjacent to each other, but extraordinary effects can be achieved when they are used sparingly on or between dull background tones.\"\n",
                "\n",
                "**Rule 3:** Edward Tufte, in Envisioning Information, wrote that adding color was the easy part; adding good color in the right place is hard. \"The often scant benefits derived from coloring data indicate that putting a good color in a good place is a complex matter. Indeed, so difficult and subtle that avoiding catastrophe becomes the first principle in bringing color to information: Above all, do no harm.\""
            ]
        },
        {
            "cell_type": "markdown",
            "metadata": {},
            "source": [
                "## The Basics\n",
                "\n",
                "We're going to build a simple bar chart and layer in color as an example. We're going to look at data on the uninsured population by county.\n",
                "\n",
                "First, ensure your core libraries like pandas and Plotly are ready."
            ]
        },
        {
            "cell_type": "code",
            "execution_count": null,
            "id": "b34311be",
            "metadata": {
                "tags": [
                    "skip-execution"
                ]
            },
            "outputs": [],
            "source": [
                "import pandas as pd\n",
                "import plotly.express as px\n",
                "import plotly.graph_objects as go"
            ]
        },
        {
            "cell_type": "markdown",
            "metadata": {},
            "source": [
                "And the data. We’re going to do three things here: first, we’ll load in the uninsured data."
            ]
        },
        {
            "cell_type": "code",
            "execution_count": null,
            "id": "6aa0e98b",
            "metadata": {
                "tags": [
                    "skip-execution"
                ]
            },
            "outputs": [],
            "source": [
                "uninsured_df = pd._____(\"../_static/uninsured/minnesota.csv\")"
            ]
        },
        {
            "cell_type": "markdown",
            "metadata": {},
            "source": [
                "Now we need a subset of this data.\n",
                "\n",
                "### Exercise 1: Make a top 20 list\n",
                "\n",
                "What we need is a top 20 list of counties. We did this exact same thing in the tables tutorial, except there we used the top 10. We’re going to create a column called `percent_uninsured` and use that same column in the `nlargest`."
            ]
        },
        {
            "cell_type": "code",
            "execution_count": null,
            "metadata": {
                "tags": [
                    "skip-execution"
                ]
            },
            "outputs": [],
            "source": [
                "uninsured_df_calc = uninsured_df.copy()\n",
                "uninsured_df_calc['percent_uninsured'] = uninsured_df_calc['____'] / (uninsured_df_calc['____'] + uninsured_df_calc['____'])\n",
                "\n",
                "top20_df = uninsured_df_calc.nlargest(20, '____')"
            ]
        },
        {
            "cell_type": "markdown",
            "metadata": {},
            "source": [
                "We can see the `top20_df` data with `head()`."
            ]
        },
        {
            "cell_type": "code",
            "execution_count": null,
            "metadata": {
                "tags": [
                    "skip-execution"
                ]
            },
            "outputs": [],
            "source": [
                "_____.head()"
            ]
        },
        {
            "cell_type": "markdown",
            "metadata": {},
            "source": [
                "### Exercise 2: Making the first bar chart\n",
                "\n",
                "Let's start by making a simple horizontal bar chart of `percent_uninsured` for these top 20 counties. We’re going to re-order it and put the labels on the y-axis like we’ve done before."
            ]
        },
        {
            "cell_type": "code",
            "execution_count": null,
            "metadata": {
                "tags": [
                    "skip-execution"
                ]
            },
            "outputs": [],
            "source": [
                "fig_ex2 = go.Figure()\n",
                "\n",
                "top20_sorted_ex2 = top20_df.sort_values(by='____', ascending=True)\n",
                "\n",
                "fig_ex2 = px.bar(\n",
                "    data_frame=top20_sorted_ex2,\n",
                "    x='____', # The value for bar length\n",
                "    y='____', # The category for each bar\n",
                "    orientation='h',\n",
                "    title=f\"Top 20 Counties by Percent Uninsured - {state_full_name_glue}\"\n",
                ")\n",
                "\n",
                "fig_ex2.update_layout(\n",
                "    xaxis_title=\"Percent Uninsured\",\n",
                "    yaxis_title=\"County\",\n",
                "    height=600 # Adjust height as needed for 20 bars\n",
                ")\n",
                "fig_ex2.update_xaxes(tickformat='.0%') # Format x-axis as percentage\n",
                "fig_ex2.show()"
            ]
        },
        {
            "cell_type": "markdown",
            "metadata": {},
            "source": [
                "Now we've got a base. \n",
                "\n",
                "### Exercise 3: Using color to reduce attention\n",
                "\n",
                "Let's make that base fade into the background by changing the color to light grey. With Plotly bar charts, you set the color of the bars using `marker_color` within `px.bar` or by updating traces.\n",
                "\n",
                "Recreate the chart from Exercise 2, but set the `marker_color` for the bars to `\"lightgrey\"`."
            ]
        },
        {
            "cell_type": "code",
            "execution_count": null,
            "metadata": {
                "tags": [
                    "skip-execution"
                ]
            },
            "outputs": [],
            "source": [
                "fig_ex3 = go.Figure()\n",
                "top20_sorted_ex3 = top20_df.sort_values(by='percent_uninsured', ascending=True)\n",
                "\n",
                "fig_ex3 = px.bar(\n",
                "    data_frame=top20_sorted_ex3,\n",
                "    x='percent_uninsured',\n",
                "    y='ctyname',\n",
                "    orientation='h',\n",
                "    title=f\"Top 20 Counties by Percent Uninsured (Faded) - {state_full_name_glue}\",\n",
                "    color_discrete_sequence=[\"____\"]\n",
                ")\n",
                "\n",
                "fig_ex3.update_layout(\n",
                "    xaxis_title=\"Percent Uninsured\",\n",
                "    yaxis_title=\"County\",\n",
                "    height=600\n",
                ")\n",
                "fig_ex3.update_xaxes(tickformat='.0%')\n",
                "fig_ex3.show()"
            ]
        },
        {
            "cell_type": "markdown",
            "metadata": {},
            "source": [
                "Now we can add layers.\n",
                "\n",
                "### Exercise 4: More layers, more colors\n",
                "\n",
                "Now we're going to add a second bar trace to our chart. We want this new trace to stand out from the rest, so we'll make its bars dark green. We’re going to use `top20_df`, but we’re going to add a filter, like we’ve done in previous exercise, that finds the county in the `top20_df` that has the most uninsured people."
            ]
        },
        {
            "cell_type": "code",
            "execution_count": null,
            "metadata": {
                "tags": [
                    "skip-execution"
                ]
            },
            "outputs": [],
            "source": [
                "# Start by recreating the base figure from Exercise 3 to ensure a clean state for this exercise\n",
                "fig_ex4 = go.Figure()\n",
                "top20_sorted_ex4 = top20_df.sort_values(by='percent_uninsured', ascending=True)\n",
                "max_uninsured_county = top20_df['_____'].idxmax()\n",
                "top_county_df = top20_df[top20_df.index == _____].copy()\n",
                "\n",
                "# Base trace: all top 20 counties in lightgrey\n",
                "fig_ex4.add_trace(go.Bar(\n",
                "    x=top20_sorted_ex4['percent_uninsured'],\n",
                "    y=top20_sorted_ex4['ctyname'],\n",
                "    orientation='h',\n",
                "    marker_color='____',\n",
                "    name='Top 20 Counties by % Uninsured'\n",
                "))\n",
                "\n",
                "fig_ex4.add_trace(go.Bar(\n",
                "    x=top_county_df['percent_uninsured'], \n",
                "    y=top_county_df['ctyname'], \n",
                "    orientation='h',\n",
                "    marker_color='____',\n",
                "    name=f\"{top_county_name_glue} (Max Uninsured Count in Top 20%)\"\n",
                "))\n",
                "\n",
                "fig_ex4.update_layout(\n",
                "    title_text=f\"Uninsured Rate: Highlighting {top_county_name_glue} - {state_full_name_glue}\",\n",
                "    xaxis_title=\"Percent Uninsured\",\n",
                "    yaxis_title=\"County\",\n",
                "    height=600,\n",
                "    barmode='overlay', # Ensures the highlight bar is drawn over the grey one if y-values match\n",
                "    legend=dict(x=0.6, y=0.1) # Adjust legend position\n",
                ")\n",
                "fig_ex4.update_xaxes(tickformat='.0%')\n",
                "# Ensure y-axis is sorted by percent_uninsured from the base layer for consistency\n",
                "fig_ex4.update_yaxes(categoryorder='array', categoryarray=top20_sorted_ex4['ctyname'])\n",
                "fig_ex4.show()"
            ]
        },
        {
            "cell_type": "markdown",
            "metadata": {},
            "source": [
                "In {glue:text}`state_full_name`, the county with the most uninsured people (numerically) among the top 20 by percentage is {glue:text}`top_county_name`. The method we used just picked a county to highlight based on this criterion. You could filter differently. For example, counties where there were more than X uninsured people, or you could filter for a specific county by name: `top20_df[top20_df['ctyname'] == \"Some County Name\"]`. The point here is to use color to draw the reader's eye, guiding them to a focal point in your story. Ideally, your narrative would mention {glue:text}`top_county_name` to make this highlighting relevant."
            ]
        },
        {
            "cell_type": "markdown",
            "metadata": {},
            "source": [
                "We've got one last color-based task -- get rid of the grey background.\n",
                "\n",
                "### Exercise 5: Getting out of the way of our colors\n",
                "\n",
                "Plotly's default theme (`plotly`) has a light grey background. I don’t know why, but it’s there. That grey takes away from our contrast and makes the reader’s eye wander more. We want to draw attention to our shapes, and use color to draw the eye to the shape we want them to see. Something that impacts that is bad, so we want to get rid of it.\n",
                "\n",
                "The fastest way is to use pre-made themes. `plotly_white` is a common choice for a minimal theme with a white background.\n",
                "\n",
                "Let's use `plotly_white` here."
            ]
        },
        {
            "cell_type": "code",
            "execution_count": null,
            "metadata": {
                "tags": [
                    "skip-execution"
                ]
            },
            "outputs": [],
            "source": [
                "fig_ex5 = go.Figure()\n",
                "top20_sorted_ex5 = top20_df.sort_values(by='percent_uninsured', ascending=True)\n",
                "\n",
                "fig_ex5.add_trace(go.Bar(\n",
                "    x=top20_sorted_ex5['percent_uninsured'],\n",
                "    y=top20_sorted_ex5['ctyname'],\n",
                "    orientation='h',\n",
                "    marker_color='lightgrey',\n",
                "    name='Top 20 Counties by % Uninsured'\n",
                "))\n",
                "\n",
                "fig_ex5.add_trace(go.Bar(\n",
                "    x=top_county_df['percent_uninsured'], \n",
                "    y=top_county_df['ctyname'], \n",
                "    orientation='h',\n",
                "    marker_color='darkgreen',\n",
                "    name=f\"{top_county_name_glue} (Max Uninsured Count in Top 20%)\"\n",
                "))\n",
                "\n",
                "fig_ex5.update_layout(\n",
                "    title_text=f\"Uninsured Rate (Minimal Theme) - {state_full_name_glue}\",\n",
                "    xaxis_title=\"Percent Uninsured\",\n",
                "    yaxis_title=\"County\",\n",
                "    height=600,\n",
                "    barmode='overlay',\n",
                "    legend=dict(x=0.6, y=0.1),\n",
                "    template=\"____\"\n",
                ")\n",
                "fig_ex5.update_xaxes(tickformat='.0%')\n",
                "fig_ex5.update_yaxes(categoryorder='array', categoryarray=top20_sorted_ex5['ctyname'])\n",
                "fig_ex5.show()"
            ]
        },
        {
            "cell_type": "markdown",
            "metadata": {},
            "source": [
                "This chart has some work left -- headlines, some text to explain the dark green bars, the axis labels could be improved -- but this chart tells a story and our reader can find it. "
            ]
        },
        {
            "cell_type": "markdown",
            "metadata": {},
            "source": [
                "## Using color wrong\n",
                "\n",
                "The best way to know you're using color wrong is to watch what is -- without argument -- the best Pixar movie: The Incredibles. In it, the bad guy tries to not only destroy superheroes but the very idea of them by making everyone a superhero. This is the money quote: \n",
                "\n",
                "<iframe width=\"560\" height=\"315\" src=\"https://www.youtube.com/embed/VYLdI6n2-yQ\" title=\"Syndrome - When Everyone's Super... No One Will Be\" frameborder=\"0\" allow=\"accelerometer; autoplay; clipboard-write; encrypted-media; gyroscope; picture-in-picture; web-share\" referrerpolicy=\"strict-origin-when-cross-origin\" allowfullscreen></iframe>\n",
                "\n",
                "So how do you do that here? By mapping a categorical variable to the `color` argument in `px.bar` without a specific, limited color sequence. This makes everything a different color by default."
            ]
        },
        {
            "cell_type": "markdown",
            "metadata": {},
            "source": [
                "### Exercise 6: Doing it wrong\n",
                "\n",
                "Recreate our bar chart, but this time, map the `color` aesthetic to `ctyname`."
            ]
        },
        {
            "cell_type": "code",
            "execution_count": null,
            "metadata": {
                "tags": [
                    "skip-execution"
                ]
            },
            "outputs": [],
            "source": [
                "fig_ex6 = go.Figure()\n",
                "if not top20_df.empty:\n",
                "    top20_sorted_ex6 = top20_df.sort_values(by='percent_uninsured', ascending=True)\n",
                "    \n",
                "    fig_ex6 = px.bar(\n",
                "        data_frame=top20_sorted_ex6,\n",
                "        x='percent_uninsured',\n",
                "        y='ctyname',\n",
                "        orientation='h',\n",
                "        color='____',\n",
                "        title=\"When Every County is Highlighted...\"\n",
                "    )\n",
                "    \n",
                "    fig_ex6.update_layout(\n",
                "        xaxis_title=\"Percent Uninsured\",\n",
                "        yaxis_title=\"County\",\n",
                "        height=700, # Taller to accommodate legend if it appears\n",
                "        showlegend=False # Usually too many items for a legend to be useful here\n",
                "    )\n",
                "    fig_ex6.update_xaxes(tickformat='.0%')\n",
                "    fig_ex6.show()"
            ]
        },
        {
            "cell_type": "markdown",
            "metadata": {},
            "source": [
                "Good luck reading that. Looks like a pack of crayons from when you were a little kid. Because everything is a color, good luck finding something to focus on. If you give your reader too much to focus on, there's nothing they can focus on. "
            ]
        },
        {
            "cell_type": "markdown",
            "metadata": {},
            "source": [
                "## The Recap\n",
                "\n",
                "Throughout this lesson, you've explored the power of color in data visualization and learned how to use it judiciously to enhance your charts. You've practiced creating a base chart, using color to fade less important elements into the background, and highlighting key data points with contrasting colors. Remember, effective use of color is about balance - drawing attention to the most important aspects of your data while avoiding visual clutter. Consider how thoughtful color choices can make your visualizations more engaging and easier to understand, ultimately helping you tell stronger data-driven stories."
            ]
        },
        {
            "cell_type": "markdown",
            "metadata": {},
            "source": [
                "## Terms to Know\n",
                "\n",
                "- **Color Contrast**: The use of different colors to create visual distinction between elements in a chart. High contrast (e.g., a bright color on a muted background) draws attention.\n",
                "- **`marker_color`**: In Plotly `go.Bar` or `go.Scatter`, this property sets the fill color of markers or bars. In `px` functions, often controlled by `color` argument or `color_discrete_sequence`.\n",
                "- **`color` (in `px` functions)**: When mapped to a data column in Plotly Express (e.g., `px.bar(..., color='category_column')`), it assigns different colors based on the unique values in that column.\n",
                "- **`color_discrete_sequence`**: An argument in Plotly Express functions to provide a list of specific colors to use for categorical data when `color` is mapped.\n",
                "- **`fig.add_trace(go.Bar(...))`**: Method to add a new bar trace to an existing Plotly figure, allowing for layered charts with different colors or properties per trace.\n",
                "- **Plotly Templates (e.g., `plotly_white`)**: Predefined styles for Plotly charts that control background, fonts, gridlines, etc. Set via `fig.update_layout(template=...)`.\n",
                "- **`barmode='overlay'`**: In `fig.update_layout()`, when multiple bar traces share the same categories, `'overlay'` draws them on top of each other. Useful for highlighting."
            ]
        }
    ],
    "metadata": {
        "kernelspec": {
            "display_name": "Python 3 (ipykernel)",
            "language": "python",
            "name": "python3"
        },
        "language_info": {
            "codemirror_mode": {
                "name": "ipython",
                "version": 3
            },
            "file_extension": ".py",
            "mimetype": "text/x-python",
            "name": "python",
            "nbconvert_exporter": "python",
            "pygments_lexer": "ipython3",
            "version": "3.10"
        },
        "mystnb": {
            "execution_mode": "cache"
        }
    },
    "nbformat": 4,
    "nbformat_minor": 5
}
