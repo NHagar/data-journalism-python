{
    "cells": [
        {
            "cell_type": "markdown",
            "id": "99a55a89",
            "metadata": {},
            "source": [
                "# Data Journalism Lesson 16: Waffle charts\n",
                "\n",
                "Making quick graphics for reporting."
            ]
        },
        {
            "cell_type": "code",
            "execution_count": null,
            "id": "6a936960",
            "metadata": {
                "tags": [
                    "hide-input",
                    "thebe-init"
                ]
            },
            "outputs": [],
            "source": [
                "import warnings\n",
                "from IPython.core.interactiveshell import InteractiveShell\n",
                "\n",
                "# Keep hold of the real method\n",
                "_orig_should_run = InteractiveShell.should_run_async\n",
                "\n",
                "# Wrap it so that any DeprecationWarning it emits is silenced\n",
                "def should_run_async(self, code, *args, **kwargs):\n",
                "    with warnings.catch_warnings():\n",
                "        warnings.simplefilter(\"ignore\", category=DeprecationWarning)\n",
                "        return _orig_should_run(self, code, *args, **kwargs)\n",
                "\n",
                "# Apply the monkey‑patch\n",
                "InteractiveShell.should_run_async = should_run_async"
            ]
        },
        {
            "cell_type": "code",
            "execution_count": null,
            "id": "7d1ef934",
            "metadata": {
                "tags": [
                    "hide-input",
                    "thebe-init",
                    "skip-execution"
                ]
            },
            "outputs": [],
            "source": [
                "import micropip\n",
                "await micropip.install('pywaffle')\n",
                "await micropip.install('matplotlib')\n",
                "await micropip.install(\"nbformat>=4.2.0\")"
            ]
        },
        {
            "cell_type": "code",
            "execution_count": null,
            "id": "c71aea2d",
            "metadata": {
                "tags": [
                    "hide-input",
                    "thebe-init"
                ]
            },
            "outputs": [],
            "source": [
                "from IPython.display import display, HTML\n",
                "import pandas as pd\n",
                "\n",
                "# --- Simple Grading/Checking Functions ---\n",
                "def display_feedback(correct, message_correct, message_incorrect):\n",
                "    if correct:\n",
                "        display(HTML(f'<div style=\"background-color: #dff0d8; padding: 10px; border-radius: 5px;\"><strong>Correct!</strong> {message_correct}</div>'))\n",
                "    else:\n",
                "        display(HTML(f'<div style=\"background-color: #f2dede; padding: 10px; border-radius: 5px;\"><strong>Not quite!</strong> {message_incorrect}</div>'))\n",
                "\n",
                "def check_dict_equality(inputted, expected, exercise_name):\n",
                "    if inputted == expected:\n",
                "        display_feedback(True, f'Great job! The dictionary for {exercise_name} is correct.', '')\n",
                "    else:\n",
                "        display_feedback(False, f'The dictionary for {exercise_name} is not correct. Expected {expected}, got {inputted}', 'Please check your data and try again.')\n",
                "\n",
                "def check_value(inputted, expected, value_name):\n",
                "    if inputted == expected:\n",
                "        display_feedback(True, f'Correct! The value for {value_name} is {inputted}.', '')\n",
                "    else:\n",
                "        display_feedback(False, f'The value for {value_name} is not correct. Expected {expected}, got {inputted}.', 'Please check and try again.')\n",
                "\n",
                "def check_df_shape_and_columns(df, expected_shape, expected_columns, df_name):\n",
                "    shape_correct = df.shape == expected_shape\n",
                "    cols_correct = sorted(list(df.columns)) == sorted(expected_columns)\n",
                "    if shape_correct and cols_correct:\n",
                "        display_feedback(True, f'{df_name} DataFrame has the correct shape and columns.', '')\n",
                "    else:\n",
                "        messages = []\n",
                "        if not shape_correct:\n",
                "            messages.append(f'Expected shape {expected_shape}, got {df.shape}.')\n",
                "        if not cols_correct:\n",
                "            messages.append(f'Expected columns {expected_columns}, got {sorted(list(df.columns))}.')\n",
                "        display_feedback(False, ' '.join(messages), f'Please check your {df_name} DataFrame.')\n",
                "\n",
                "def check_plot_params(params, expected_params, plot_name):\n",
                "    correct = True\n",
                "    feedback_messages = []\n",
                "    for p_name, p_val_expected in expected_params.items():\n",
                "        p_val_actual = params.get(p_name)\n",
                "        if p_name == 'values': # Special handling for dict comparison\n",
                "            if isinstance(p_val_actual, pd.Series):\n",
                "                 p_val_actual = p_val_actual.to_dict()\n",
                "            if p_val_actual == p_val_expected:\n",
                "                feedback_messages.append(f'Correct {p_name} for {plot_name}.')\n",
                "            else:\n",
                "                correct = False\n",
                "                feedback_messages.append(f'Incorrect {p_name} for {plot_name}. Expected {p_val_expected}, got {p_val_actual}.')\n",
                "        elif p_val_actual == p_val_expected:\n",
                "            feedback_messages.append(f'Correct {p_name} for {plot_name}.')\n",
                "        else:\n",
                "            correct = False\n",
                "            feedback_messages.append(f'Incorrect {p_name} for {plot_name}. Expected \\'{p_val_expected}\\', got \\'{p_val_actual}\\'.')\n",
                "    \n",
                "    final_message_correct = f'Plot parameters for {plot_name} are correct!'\n",
                "    final_message_incorrect = ' '.join(feedback_messages)\n",
                "    display_feedback(correct, final_message_correct, final_message_incorrect)"
            ]
        },
        {
            "cell_type": "code",
            "execution_count": null,
            "id": "54067e33",
            "metadata": {
                "tags": [
                    "hide-input",
                    "thebe-init"
                ]
            },
            "outputs": [],
            "source": [
                "# --- State Setup and Data Loading ---\n",
                "default_state_abbr = 'MN'\n",
                "state_full_name = \"Minnesota\"\n",
                "\n",
                "\n",
                "legislatures_df = pd.read_csv(\"../_static/state-legislatures/legislatures.csv\")\n",
                "\n",
                "# U.S. House data\n",
                "house_data_expected = {\"Republicans\": 220, \"Democrats\": 212, \"Vacant\": 3}\n",
                "\n",
                "# State legislature data preparation\n",
                "xgr_df = legislatures_df[legislatures_df['state'] == state_full_name].copy()\n",
                "xgr_rows_expected = len(xgr_df)\n",
                "\n",
                "senate_df = xgr_df[['state', 'senate_dem', 'senate_rep', 'senate_other', 'senate_vacant']].copy()\n",
                "senate_df = senate_df.melt(id_vars=['state'], \n",
                "                            value_vars=['senate_dem', 'senate_rep', 'senate_other', 'senate_vacant'],\n",
                "                            var_name='party',\n",
                "                            value_name='members')\n",
                "# Filter out rows where members might be NaN or 0 if not relevant for waffle (pywaffle typically filters 0s)\n",
                "senate_df = senate_df[senate_df['members'].notna() & (senate_df['members'] > 0)].reset_index(drop=True)\n",
                "senate_df_expected_cols = ['state', 'party', 'members']\n",
                "\n",
                "# Most partisan data preparation\n",
                "most_partisan_df = legislatures_df.copy()\n",
                "most_partisan_df['partisan_lean'] = most_partisan_df.apply(\n",
                "    lambda row: row['senate_dem'] / row['total_senate'] if row['senate_dem'] > row['senate_rep'] \n",
                "    else (row['senate_rep'] / row['total_senate'] if row['total_senate'] > 0 else 0), axis=1\n",
                ")\n",
                "most_partisan_top10_df = most_partisan_df.nlargest(10, 'partisan_lean')\n",
                "most_partisan_senate_df = most_partisan_top10_df[['state', 'senate_dem', 'senate_rep', 'senate_other', 'senate_vacant']].copy()\n",
                "most_partisan_senate_df = most_partisan_senate_df.melt(id_vars=['state'],\n",
                "                                                        value_vars=['senate_dem', 'senate_rep', 'senate_other', 'senate_vacant'],\n",
                "                                                        var_name='party',\n",
                "                                                        value_name='members')\n",
                "most_partisan_senate_df = most_partisan_senate_df[most_partisan_senate_df['members'].notna() & (most_partisan_senate_df['members'] > 0)].reset_index(drop=True)\n",
                "\n",
                "# Combine for xgrs_df\n",
                "if state_full_name in most_partisan_senate_df['state'].unique():\n",
                "    xgrs_df = most_partisan_senate_df.copy()\n",
                "else:\n",
                "    xgrs_df = pd.concat([most_partisan_senate_df, senate_df[senate_df['state'] == state_full_name]], ignore_index=True)\n",
                "\n",
                "xgrs_df_expected_cols = ['state', 'party', 'members']"
            ]
        },
        {
            "cell_type": "code",
            "execution_count": null,
            "id": "f7e2a86f",
            "metadata": {
                "tags": [
                    "hide-input",
                    "hide-output"
                ]
            },
            "outputs": [],
            "source": [
                "from myst_nb import glue\n",
                "\n",
                "glue(\"state_full_name\", state_full_name, display=False)\n",
                "glue(\"xgr_rows\", xgr_rows_expected, display=False)\n",
                "glue(\"house_data_expected_str\", str(house_data_expected), display=False) # For checking exercises"
            ]
        },
        {
            "cell_type": "markdown",
            "id": "a7102154",
            "metadata": {},
            "source": [
                "## The Goal\n",
                "\n",
                "In this lesson, you'll learn how to create waffle charts, an effective alternative to pie charts for visualizing proportions. By the end of this tutorial, you'll understand how to use the `pywaffle` library in Python to construct single and comparative waffle charts. You'll practice creating these charts with real data, learning how to adjust chart parameters for clarity and how to handle uneven data comparisons. This skill will enable you to present proportional data in a clear, visually appealing format that's easier to interpret than traditional pie charts."
            ]
        },
        {
            "cell_type": "markdown",
            "id": "27fd6dae",
            "metadata": {},
            "source": [
                "## Why Visualize Data?\n",
                "\n",
                "Show me someone who has a job in data visualization, and I'll show you someone who has Edward Tufte's *The Visualization of Quantitative Information* on their bookshelf. It's one of the most popular, and most influential books on data visualization ever written. As such, it's one of the most referenced, and most criticized, books on the subject. If visualizing data is interesting to you, you have to read it.\n",
                "\n",
                "What will you find? A clearly articulated argument of what makes a data graphic good. So clearly articulated that some call it stifling, rigid, inflexible. Some of his commandments can be taken to extremes, where instead of intelligent and clear graphical excellence, as he describes it, you get something so esoteric it doesn't make sense.\n",
                "\n",
                "But once you realize Tufte -- in spite of his unambiguous language -- is more like the pirate's code in Pirate's of the Caribbean (more of a guideline than a rule), then you'll see the genius of it all.\n",
                "\n",
                "Indeed, page 1, part 1, gives you a taste of his direct style.\n",
                "\n",
                "\"EXCELLENCE in statistical graphics consists of complex ideas communicated with clarity, precision, and efficiency. Graphical displays should\n",
                "\n",
                "-   show the data\n",
                "-   induce the viewer to think about the substance rather than about methodology, graphic design, the technology of graphic production, or something else\n",
                "-   avoid distorting what the data have to say\n",
                "-   present many numbers in a small space\n",
                "-   make large data sets coherent\n",
                "-   encourage the eye to compare different pieces of data\n",
                "-   reveal the data at several levels of detail, from a broad overview to the fine structure\n",
                "-   serve a reasonably clear purpose: description, exploration, tabulation, or decoration\n",
                "-   be closely integrated with the statistical and verbal descriptions of a data set. \"\n",
                "\n",
                "If you can do all that, you're on a great path. Easy right? Not exactly. Doing some of this is easy with the tools we have. Some of this requires a lot of thought.\n",
                "\n",
                "That brings us to today when we come not to praise the pie chart but to bury it. They're terrible, and people abuse them horribly. Using Tufte's own words, pie charts regularly fail to show the data, often distorting it, and are truly horrible at making large datasets coherent.\n",
                "\n",
                "This can lead to what Tufte calls failures of Graphical Integrity. Tufte insists that the early years of graphics were plagued with designers who used them to lie -- intentionally or not -- by covering up bad data or bad results with charts. He credits no less than John Tukey for making graphics respectable again in the late 1960s.\n",
                "\n",
                "I'm here to argue that pie charts are the tool of the liar. But showing proportion of a whole is a very important job for a graphic. Fortunately, there are better tools. That tool is called the waffle chart, and we introduce those here.\n",
                "\n",
                "As you're working today, keep Tufte's six principles of graphical integrity in mind:\n",
                "\n",
                "\"Graphical integrity is more likely to result if these six principles are followed:\n",
                "\n",
                "-   The representation of numbers, as physically measured on the surface of the graphic itself, should be directly proportional to the numerical quantities represented.\n",
                "-   Clear, detailed, and thorough labeling should be used to defeat graphical distortion and ambiguity. Write out explanations of the data on the graphic itself. Label important events in the data.\n",
                "-   Show data variation, not design variation.\n",
                "-   In time-series displays of money, deflated and standardized units of monetary measurement are nearly always better than nominal units.\n",
                "-   The number of information-carrying (variable) dimensions depicted should not exceed the number of dimensions in the data.\n",
                "-   Graphics must not quote data out of context.\""
            ]
        },
        {
            "cell_type": "markdown",
            "id": "0c0707bb",
            "metadata": {},
            "source": [
                "## The Basics\n",
                "\n",
                "Pie charts are the devil. They should be an instant F in any data visualization class. The problem with them? How carefully can you evaluate angles and area? Unless they are blindingly obvious and only a few categories, not well. If you've got 25 categories, how can you tell the difference between 7 and 9 percent? You can't.\n",
                "\n",
                "So let's introduce a better way: The waffle chart. Why a waffle chart? Because it's made up of small squares, just like a waffle. Some call it a square pie chart. I personally hate that. Waffles it is.\n",
                "\n",
                "A waffle chart is similar to a stacked bar chart. **A waffle chart is designed to show you parts of the whole -- proportionality**. How many things make up the whole. It will also show magnitude, just like a stacked bar.\n",
                "\n",
                "What's the difference?\n",
                "\n",
                "The truth is, there really isn't one. If I had to stand before a judge and come up with an answer or go to jail, I'd say that a stacked bar chart can get more things in it -- more counties, more states, more schools, etc. The waffle chart demands focus -- which you'll see in a minute -- and so you can really only handle a small number of waffle charts at once. Two is great. Three is fine. Five is pushing it. Ten has to be something really special. But with a stacked bar, 10 is easily doable.\n",
                "\n",
                "What that boils down to is that a waffle chart is a visually different form that accomplishes the same goal as a stacked bar chart, but works best when there's only a couple of things to compare. A two-bar stacked bar chart would look silly. A two-stack waffle chart would look great.\n",
                "\n",
                "Waffle charts are not built into common high-level plotting libraries like Plotly Express in the same way bar charts are. Instead, we use specialized libraries like `pywaffle`. `pywaffle` is built on top of Matplotlib, Python's foundational plotting library. While Matplotlib is very powerful, `pywaffle` makes creating waffle charts much simpler.\n",
                "\n",
                "The `pywaffle` library might have a slightly different approach than libraries you've used before. It often involves creating a dictionary of your data and then passing it to the `Waffle` class.\n",
                "\n",
                "To start, we load the necessary libraries: `pandas` for data handling, `matplotlib.pyplot` for basic plotting framework, and `Waffle` from `pywaffle`."
            ]
        },
        {
            "cell_type": "code",
            "execution_count": null,
            "id": "ebd9e827",
            "metadata": {
                "tags": [
                    "skip-execution"
                ]
            },
            "outputs": [],
            "source": [
                "import pandas as pd\n",
                "import matplotlib.pyplot as plt\n",
                "from pywaffle import Waffle"
            ]
        },
        {
            "cell_type": "markdown",
            "id": "87f832f3",
            "metadata": {},
            "source": [
                "We're going to try this waffle chart several different ways. The first way is by directly creating the data as a Python dictionary.\n",
                "\n",
                "For this, we're going to look at the partisan breakdown of the U.S. House of Representatives. The House, without editorializing, is a mess, precisely because it's almost evenly divided (history nerd note: The House is supposed to be a mess. It was designed that way by the Founders. This is nothing new). For any measure to pass the House, the majority party has to have all of its members on board. They can't have people voting against. So what does that look visually?\n",
                "\n",
                "First, we'll make our dictionary. The pattern is `{\"Category Name\": value}`. So there's 220 Republican members of the House, 212 Democrats and 3 seats are vacant as of this writing."
            ]
        },
        {
            "cell_type": "code",
            "execution_count": null,
            "id": "f28b04e4",
            "metadata": {
                "tags": [
                    "skip-execution"
                ]
            },
            "outputs": [],
            "source": [
                "house_data = ____ # Fill in the dictionary: e.g., {\"Category1\": value1, \"Category2\": value2, ...}\n",
                "\n",
                "display(house_data)\n",
                "check_dict_equality(house_data, house_data_expected, 'U.S. House Data')"
            ]
        },
        {
            "cell_type": "markdown",
            "id": "70f91ee6",
            "metadata": {},
            "source": [
                "So what does the breakdown look like visually?\n",
                "\n",
                "### Exercise 1: Make a waffle chart\n",
                "\n",
                "The `pywaffle` library can break this down in a way that's easier on the eyes than a pie chart. We use `plt.figure()` and pass `FigureClass=Waffle`. Key parameters for `Waffle` include:\n",
                "- `values`: The dictionary or list of data values.\n",
                "- `rows`: The number of rows in the waffle grid (10 is a good start).\n",
                "- `title`: For the chart title.\n",
                "- `labels`: For the legend.\n",
                "- `colors`: A list or tuple of colors. Here, red for Republicans, blue for Democrats, and grey for vacant.\n",
                "- `legend`: A dictionary to control legend properties.\n",
                "\n",
                "We'll also use `plt.xlabel()` to add a label."
            ]
        },
        {
            "cell_type": "code",
            "execution_count": null,
            "id": "808a3b43",
            "metadata": {
                "tags": [
                    "skip-execution"
                ]
            },
            "outputs": [],
            "source": [
                "fig_ex1 = plt.figure(\n",
                "    FigureClass=Waffle,\n",
                "    values=____, \n",
                "    rows=____, \n",
                "    colors=____, # Tuple of colors: e.g., (\"red\", \"blue\", \"grey\")\n",
                "    title={'label': 'Partisan breakdown of the House', 'loc': 'left', 'fontsize': 14},\n",
                "    labels=[f\"{k} ({v})\" for k, v in house_data.items()],\n",
                "    legend={'loc': 'lower left', 'bbox_to_anchor': (0, -0.25), 'ncol': len(house_data), 'framealpha': 0.7, 'fontsize': 10}\n",
                ")\n",
                "plt.xlabel(\"1 square = 1 representative\", fontsize=10)\n",
                "plt.show()"
            ]
        },
        {
            "cell_type": "markdown",
            "id": "9f3a4cb8",
            "metadata": {},
            "source": [
                "Now, this chart is attempting to put 435 dots on a chart, so they get kind of small. Can we control that? The answer is: a little. How do we do that? Division.\n",
                "\n",
                "### Exercise 2: Divide by\n",
                "\n",
                "`pywaffle` automatically scales the blocks to fit the figure. If we want each square to represent more than one unit, we need to divide our data values *before* passing them to `Waffle`. Want one dot to equal 3 members of Congress? Divide your values by 3. Note, however -- there are three vacancies. If you divide by 3, `3 // 3` is 1, so it will appear as one block. If we divided by 10, `3 // 10` (using integer division) would be 0, and it wouldn't appear. Let's solve that by dividing by 3.\n",
                "\n",
                "You'll need to create a new dictionary `house_data_divided` where each value is divided by 3 (use integer division `//`)."
            ]
        },
        {
            "cell_type": "code",
            "execution_count": null,
            "id": "abd91d58",
            "metadata": {
                "tags": [
                    "skip-execution"
                ]
            },
            "outputs": [],
            "source": [
                "# house_data = {\"Republicans\": 220, \"Democrats\": 212, \"Vacant\": 3}\n",
                "division_factor = 3\n",
                "house_data_divided = {key: value ____ division_factor for key, value in house_data.items()}\n",
                "\n",
                "fig_ex2 = plt.figure(\n",
                "    FigureClass=Waffle,\n",
                "    values=____, # Use the divided data\n",
                "    rows=10, \n",
                "    colors=(\"red\", \"blue\", \"grey\"), \n",
                "    title={'label': 'Partisan breakdown of the House (scaled)', 'loc': 'left', 'fontsize': 14},\n",
                "    labels=[f\"{k} (~{v*division_factor})\" for k, v in house_data_divided.items()], # Adjust labels to reflect original numbers\n",
                "    legend={'loc': 'lower left', 'bbox_to_anchor': (0, -0.25), 'ncol': len(house_data_divided), 'framealpha': 0.7, 'fontsize': 10}\n",
                ")\n",
                "plt.xlabel(f\"1 square = {division_factor} representatives\", fontsize=10)\n",
                "plt.show()"
            ]
        },
        {
            "cell_type": "markdown",
            "id": "37f142be",
            "metadata": {},
            "source": [
                "And now you have a waffle chart that shows the partisan breakdown of the People's House. A very good question to ask yourself right now -- is it a *good* chart? What story is it telling? Is that clear? Here's another question -- do we need this chart to tell this story? The House is nearly evenly divided. We've made a chart, dividing by 3, where it would take a beat or two for you to see that there's almost exactly the same number of dots for each party. Do we need to represent that visually?\n",
                "\n",
                "I would say no. If your chart doesn't show some kind of difference -- tell some kind of story -- then a sentence in your story will do the same job with less code and with the same impact."
            ]
        },
        {
            "cell_type": "markdown",
            "id": "d02a54ff",
            "metadata": {},
            "source": [
                "## Now With DataFrames and `pywaffle`\n",
                "\n",
                "What does it look like if we try to use a pandas DataFrame instead of a manually created dictionary? And how can we create multiple waffle charts, similar to faceting in other libraries?\n",
                "\n",
                "First, for this to work with `pywaffle`, your data typically needs to be in a format where you can easily extract categories (for labels/colors) and corresponding values. A dictionary is often the most direct input, but you can create this dictionary from a DataFrame.\n",
                "\n",
                "Instead of Congress, let's look at the partisan breakdown of the {glue:text}`state_full_name` Senate. Why the senate and not the house? Well, not every state has a house (cough, cough Nebraska), so to make it easier, we'll focus on the chamber everyone has. This data comes from the National Conference of State Legislature's data on partisan control of state legislatures.\n",
                "\n",
                "We're going to grab the data and filter all in one step. You just need to ensure your `legislatures_df` is loaded and then filter it for the state: {glue:text}`state_full_name`."
            ]
        },
        {
            "cell_type": "code",
            "execution_count": null,
            "id": "917b3bc0",
            "metadata": {
                "tags": [
                    "skip-execution"
                ]
            },
            "outputs": [],
            "source": [
                "legislatures_df = pd.read_csv(\"../_static/state-legislatures/legislatures.csv\")\n",
                "current_state_legislature_df = legislatures_df[legislatures_df['state'] == ____].copy()\n",
                "\n",
                "display(current_state_legislature_df)\n",
                "check_value(len(current_state_legislature_df), xgr_rows_expected, f'{state_full_name} legislature data row count')"
            ]
        },
        {
            "cell_type": "markdown",
            "id": "033021da",
            "metadata": {},
            "source": [
                "Let's take a quick look at it. It won't take long -- it's usually one row of data per state. FYI: The data name `xgr` used in the example is one of those old-timey journalism terms from way back in the day. In the Times of Yore, legislature stories from the AP all started with the slug XGR."
            ]
        },
        {
            "cell_type": "code",
            "execution_count": null,
            "id": "4222a37b",
            "metadata": {
                "tags": [
                    "skip-execution"
                ]
            },
            "outputs": [],
            "source": [
                "display(____.head())"
            ]
        },
        {
            "cell_type": "markdown",
            "id": "23730266",
            "metadata": {},
            "source": [
                "The problem we have is that it's one row (wide format) -- and it's got lots of things we don't want or need for the waffle chart values. First, we want to select only senate-related columns. Then, we'll use pandas' `melt` function to make our wide data long. With `melt`, you specify `id_vars` (columns to keep as identifiers, like 'state') and `value_vars` (columns to unpivot). We also give names to the new columns for party and member count.\n",
                "\n",
                "We will store this in `state_senate_long_df`."
            ]
        },
        {
            "cell_type": "code",
            "execution_count": null,
            "id": "2fc659d7",
            "metadata": {
                "tags": [
                    "skip-execution"
                ]
            },
            "outputs": [],
            "source": [
                "columns_to_select = ['state', 'senate_dem', 'senate_rep', 'senate_other', 'senate_vacant']\n",
                "selected_state_data = current_state_legislature_df[columns_to_select].copy()\n",
                "\n",
                "state_senate_long_df = selected_state_data.melt(\n",
                "    id_vars=____, # Column to keep (e.g. 'state')\n",
                "    value_vars=____, # Columns to unpivot (e.g. ['senate_dem', ...])\n",
                "    var_name='party',\n",
                "    value_name='members'\n",
                ")\n",
                "# Remove rows where 'members' is 0 or NaN as they don't contribute to the waffle chart\n",
                "state_senate_long_df = state_senate_long_df[state_senate_long_df['members'].notna() & (state_senate_long_df['members'] > 0)].reset_index(drop=True)\n",
                "\n",
                "display(state_senate_long_df.head())\n",
                "check_df_shape_and_columns(state_senate_long_df, senate_df[senate_df['state']==state_full_name].shape, senate_df_expected_cols, f'{state_full_name} Senate Long DF')"
            ]
        },
        {
            "cell_type": "markdown",
            "id": "bc7b9dcc",
            "metadata": {},
            "source": [
                "Now take a look at `state_senate_long_df`:"
            ]
        },
        {
            "cell_type": "code",
            "execution_count": null,
            "id": "e9c20263",
            "metadata": {
                "tags": [
                    "skip-execution"
                ]
            },
            "outputs": [],
            "source": [
                "display(____.head())"
            ]
        },
        {
            "cell_type": "markdown",
            "id": "54d3bafb",
            "metadata": {},
            "source": [
                "Now we have data in a long format. We can convert this into a dictionary suitable for `pywaffle`.\n",
                "\n",
                "### Exercise 3: Waffle chart from DataFrame\n",
                "\n",
                "Create a waffle chart for your state's senate. You'll first need to create a dictionary from the `state_senate_long_df` where keys are 'party' and values are 'members'. Then use this dictionary with `pywaffle`.\n",
                "\n",
                "We'll define a color map for consistency."
            ]
        },
        {
            "cell_type": "code",
            "execution_count": null,
            "id": "4121f328",
            "metadata": {
                "tags": [
                    "skip-execution"
                ]
            },
            "outputs": [],
            "source": [
                "party_color_map = {\n",
                "    'senate_dem': 'blue',\n",
                "    'senate_rep': 'red',\n",
                "    'senate_other': 'orange', # Or 'green', 'purple' etc.\n",
                "    'senate_vacant': 'grey'\n",
                "}\n",
                "\n",
                "# Create dictionary from the DataFrame\n",
                "state_senate_data_dict = pd.Series(____.values, index=____).to_dict()\n",
                "\n",
                "# Prepare colors in the order of the dictionary items\n",
                "plot_colors_ex3 = [party_color_map.get(party, 'black') for party in state_senate_data_dict.keys()]\n",
                "\n",
                "fig_ex3 = plt.figure(\n",
                "    FigureClass=Waffle,\n",
                "    values=state_senate_data_dict,\n",
                "    rows=5, # n_rows equivalent\n",
                "    colors=plot_colors_ex3,\n",
                "    title={'label': f'{state_full_name} Senate Partisan Breakdown', 'loc': 'left', 'fontsize': 12},\n",
                "    labels=[f\"{k.replace('senate_', '').capitalize()} ({v})\" for k, v in state_senate_data_dict.items()],\n",
                "    legend={'loc': 'lower left', 'bbox_to_anchor': (0, -0.3), 'ncol': len(state_senate_data_dict), 'framealpha': 0.7},\n",
                "    block_arranging_style='snake', # Example: try 'normal', 'new-line'\n",
                "    figsize=(7, 4)\n",
                ")\n",
                "plt.show()"
            ]
        },
        {
            "cell_type": "markdown",
            "id": "52ebdff6",
            "metadata": {},
            "source": [
                "Now we have a similar chart for your state's senate. Which party has the majority? Is that clear from your chart?"
            ]
        },
        {
            "cell_type": "markdown",
            "id": "dd9aa5c9",
            "metadata": {},
            "source": [
                "## The Recap\n",
                "\n",
                "Throughout this lesson, you've learned how to create and customize waffle charts using Python's `pywaffle` library with Matplotlib. You've practiced making single waffle charts to display proportions within a dataset, such as the partisan makeup of the U.S. House of Representatives. You've also learned how to create comparative waffle charts by manually setting up subplots, allowing you to visually compare proportions across different facets (states). You've discovered how to adjust your data and chart parameters to handle issues like scale differences and visual clarity. Remember, waffle charts offer a more precise and visually appealing alternative to pie charts for displaying proportional data, making them a valuable tool in your data visualization toolkit."
            ]
        },
        {
            "cell_type": "markdown",
            "id": "4ba80c50",
            "metadata": {},
            "source": [
                "## Terms to Know\n",
                "\n",
                "-   **Waffle chart**: A chart type that represents data as squares (or other icons) in a grid, where each square represents a proportion of the whole.\n",
                "-   **`pywaffle`**: A Python library for creating waffle charts, built on Matplotlib.\n",
                "-   **`matplotlib.pyplot`**: A collection of functions that make Matplotlib work like MATLAB, providing a convenient way to create plots and visualizations.\n",
                "-   **`plt.figure(FigureClass=Waffle, ...)`**: The primary way to create a waffle chart using `pywaffle`, by specifying `Waffle` as the figure class.\n",
                "-   **`values` parameter (in `Waffle`)**: A dictionary, list, or pandas Series containing the data values for the waffle chart segments.\n",
                "-   **`rows` parameter (in `Waffle`)**: Determines the number of rows in the waffle grid.\n",
                "-   **`colors` parameter (in `Waffle`)**: A list or tuple specifying the colors for each category in the data.\n",
                "-   **`labels` parameter (in `Waffle`)**: Used to provide labels for the legend.\n",
                "-   **`legend` parameter (in `Waffle`)**: A dictionary to customize the legend's appearance and position.\n",
                "-   **Python Dictionary**: A data structure used to store data as key-value pairs, often used as input for `pywaffle`.\n",
                "-   **Pandas DataFrame `melt()`**: A function to transform a DataFrame from wide format to long format, useful for preparing data for some types of plotting.\n",
                "-   **Matplotlib Subplots (`plt.subplots()`)**: Used to create a figure with multiple individual plots (axes) arranged in a grid, allowing for manual faceting."
            ]
        }
    ],
    "metadata": {
        "kernelspec": {
            "display_name": "Python 3",
            "language": "python",
            "name": "python3"
        },
        "language_info": {
            "codemirror_mode": {
                "name": "ipython",
                "version": 3
            },
            "file_extension": ".py",
            "mimetype": "text/x-python",
            "name": "python",
            "nbconvert_exporter": "python",
            "pygments_lexer": "ipython3",
            "version": "3.11"
        }
    },
    "nbformat": 4,
    "nbformat_minor": 5
}
