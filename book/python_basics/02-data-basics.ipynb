{
 "cells": [
  {
   "cell_type": "markdown",
   "id": "12f37b94",
   "metadata": {},
   "source": [
    "# Data Journalism Lesson 2: Data Basics\n",
    "\n",
    "Learn some basic terminology about data that will help you all class long."
   ]
  },
  {
   "cell_type": "code",
   "execution_count": null,
   "id": "e6dbed7b",
   "metadata": {
    "tags": [
     "thebe-init",
     "hide-input"
    ]
   },
   "outputs": [],
   "source": [
    "# Setup code for the notebook\n",
    "import pandas as pd"
   ]
  },
  {
   "cell_type": "markdown",
   "id": "1f17739e",
   "metadata": {},
   "source": [
    "## The Goal\n",
    "\n",
    "The goal of this lesson is to introduce you to fundamental concepts and terminology related to data in the context of data journalism. By the end of this tutorial, you'll understand the basic structure of datasets, including rows and columns, and how to view and inspect data in Python. You'll learn about different data types you'll encounter, how to import data into Python, and key functions like `head()` and `info()` for exploring your data."
   ]
  },
  {
   "cell_type": "markdown",
   "id": "240f313a",
   "metadata": {},
   "source": [
    "## What is Data Journalism?\n",
    "\n",
    "In the last tutorial, data journalism was using data as a source. In our computerized present, data is everywhere. But, like a human source, you need to know if your data actually knows the thing you want to know. Just because you have data doesn't mean you have answers.\n",
    "\n",
    "The first step in data journalism is finding data. Sometimes you can do that on your own -- governments have created open data portals to make it easier. Sometimes you need to ask around -- interview the humans that work at an agency and see what they track and if they have the data. That might require a public records request at the state or local level, or a Freedom of Information Act request at the federal level.\n",
    "\n",
    "Step 2 in data journalism is looking at what exactly is in your data. This process is so important that it requires multiple different lessons to come back to the same question: What is in my data? And is it what I need?\n",
    "\n",
    "\"You have to explore the data to understand what questions can you even ask the data to begin with,\" said MaryJo Webster of the Minneapolis Star Tribune. \"What's the knowledge that this source has? What are the fields of information? What's the breadth of knowledge? You know, all the different fields, the columns that might have different variables that will tell you something more deep. How rich is that? How far back in time does the data go? Geographically, is it the entire state? Is it just one county? That's that breadth of knowledge.\"\n",
    "\n",
    "\"You've got to explore that first to even think about what you could do with it.\""
   ]
  },
  {
   "cell_type": "markdown",
   "id": "f52933ba",
   "metadata": {},
   "source": [
    "## The Basics\n",
    "\n",
    "Data are everywhere (and data is plural of datum, thus the use of the verb are in that statement). It surrounds you. Every time you use your phone, you are creating data. Lots of it. Your online life. Any time you buy something. It's everywhere. News, like life, is no different. Modernity is drowning in data, and more comes along all the time.\n",
    "\n",
    "In news, and in this class, we'll be dealing largely with two kinds of data: **event level data and summary data**. It's not hard to envision event level data. A car accident. A crime. A fire. They are the events that make up the whole. Combine them together -- summarize them -- and you'll have some notion of how the year went. What we usually see is summary data -- who wants to scroll through 365 days of crime data to figure out if crime was up or down?\n",
    "\n",
    "To start with, we need to understand the shape of data."
   ]
  },
  {
   "cell_type": "markdown",
   "id": "c6f0570f",
   "metadata": {},
   "source": [
    "## Getting Data\n",
    "\n",
    "Python is a programming language that is purpose built for data analysis.\n",
    "\n",
    "The main library we will use for data analysis is `pandas`. It allows us to read, analyze, and manipulate data easily.\n",
    "\n",
    "```{admonition} Key Concept\n",
    "Put all your library imports at the top of your notebooks in a single block.\n",
    "```\n",
    "\n",
    "To load pandas, use this line at the top of your notebook:\n",
    "\n",
    "```python\n",
    "import pandas as pd\n",
    "```\n",
    "\n",
    "From now on, if that library is not the first line of your notebook, you're probably doing it wrong."
   ]
  },
  {
   "cell_type": "markdown",
   "id": "9f40e22c",
   "metadata": {},
   "source": [
    "## Loading Data\n",
    "\n",
    "The first thing we need to do is get some data to work with. We do that by reading it in. In our case, we're going to read data from a CSV file -- a comma-separated values file. Most of the data we'll use in this class will come from CSV files.\n",
    "\n",
    "The code looks like this:\n",
    "\n",
    "```python\n",
    "census = pd.read_csv('../_static/census-estimates/minnesota.csv')\n",
    "```\n",
    "\n",
    "Let's unpack that.\n",
    "\n",
    "The first part -- `census` -- is the **name of your variable**. A variable is just a name of a thing that stores stuff. In this case, our variable is a DataFrame, which is pandas' way of storing tabular data.\n",
    "\n",
    "The `=` bit is the variable assignment operator. It's how we know we're assigning something to a word. Think of the equals sign as saying \"Take everything on the right of this equals sign and stuff it into the thing on the left.\"\n",
    "\n",
    "The `pd.read_csv` bits are pretty obvious, except for one thing. What happens in the quote marks is the path to the data. In there, I have to tell Python where it will find the data. The easiest thing to do when you are working on your own computer, if you are confused about how to find your data, is to put your data in the same folder as your notebook. If you do that, then you just need to put the name of the file in there (filename.csv). For this exercise, we're pulling the data from a local folder.\n",
    "\n",
    "```{admonition} Key Concept\n",
    "The name of the file goes inside `read_csv` in quotes.\n",
    "```"
   ]
  },
  {
   "cell_type": "code",
   "execution_count": null,
   "id": "1c359bbf",
   "metadata": {
    "tags": [
     "skip-execution"
    ]
   },
   "outputs": [],
   "source": [
    "# Import the census data\n",
    "census = pd.read_csv('../_static/census-estimates/minnesota.csv')\n",
    "census.head()  # Show the first few rows to check it loaded"
   ]
  },
  {
   "cell_type": "markdown",
   "id": "b76e8ed5",
   "metadata": {},
   "source": [
    "## Inspecting Data\n",
    "\n",
    "Now we can inspect the data we imported. What does it look like? What's in it? What do we have to work with?\n",
    "\n",
    "To see our data, we use the function `head()` and put the name of the variable we created above between the parenthesis to show the headers and the first six rows of data.\n",
    "\n",
    "\n",
    "```{admonition} Key Concept\n",
    "`head()` only shows you the first six rows.\n",
    "```"
   ]
  },
  {
   "cell_type": "code",
   "execution_count": null,
   "id": "a2006fc1",
   "metadata": {
    "tags": [
     "skip-execution"
    ]
   },
   "outputs": [],
   "source": [
    "# Show the first six rows\n",
    "census.head()"
   ]
  },
  {
   "cell_type": "markdown",
   "id": "b7afad91",
   "metadata": {},
   "source": [
    "That header row is *incredibly* important for what's to come. When your data is wider than what you can see in the window, you may need to scroll right to see more.\n",
    "\n",
    "## Using info() to see your data\n",
    "\n",
    "There is another way to \"see\" your data that looks different than a table, but provides important information nonetheless.\n",
    "\n",
    "Why use this? It gives us a glimpse of the data. The `info()` method provides a concise summary of a DataFrame, including the column names and data types.\n",
    "\n",
    "```{admonition} Key Concept\n",
    "`info()` shows you the column names and data types.\n",
    "```"
   ]
  },
  {
   "cell_type": "code",
   "execution_count": null,
   "id": "555cf359",
   "metadata": {
    "tags": [
     "skip-execution"
    ]
   },
   "outputs": [],
   "source": [
    "# Get a summary of the DataFrame\n",
    "census.info()"
   ]
  },
  {
   "cell_type": "markdown",
   "id": "c4c5cb46",
   "metadata": {},
   "source": [
    "This time, you get two very important pieces of information immediately on each line -- the name of the column and what kind of data is in there.\n",
    "\n",
    "Why use this over `head()`? Seeing the data itself is sometimes better -- easier to see and understand instinctively -- and sometimes less convenient. Sometimes, what we need is the name of the column, not the data, not anything else. What works best is what works best for you. There's not really a wrong answer on which you should use.\n",
    "\n",
    "Either of these will guide you with what you have to work with in the coming problems."
   ]
  },
  {
   "cell_type": "markdown",
   "id": "a2da288e",
   "metadata": {},
   "source": [
    "## Rows\n",
    "\n",
    "Data, oversimplifying it a bit, is information organized. Generally speaking, it's organized into rows and columns. Rows, generally, are individual elements. A state. A date. A number. Columns, generally, are components of the data, sometimes called variables or fields. So if each row is a county, the first column might be their state name. The second is what county the data covers. The third could be the population number. And so on.\n",
    "\n",
    "One of the critical components of data analysis, especially for beginners, is having a mental picture of your data. What does each row mean? What does each column in each row signify? How many rows do you have? How many columns?\n",
    "\n",
    "```{admonition} Key Concept\n",
    "If you want to see your data in a spreadsheet format, use `.head()` or `.to_csv()` to export and view in Excel.\n",
    "```"
   ]
  },
  {
   "cell_type": "markdown",
   "id": "01416d20",
   "metadata": {},
   "source": [
    "## Columns\n",
    "\n",
    "If your data is properly formed, the first row of your data will be the header row. The header row is the most important row in your data.\n",
    "\n",
    "```{admonition} Key Concept\n",
    "An absolutely essential concept you need to understand for the whole course is that **every column has a name**. That name is in the header row, the first row of your data when you are looking at it.\n",
    "```\n",
    "\n",
    "So the names of every county in this dataset are in the `CTYNAME` column. Want to know what county has the most people? You'll need the `POPESTIMATE2023` column. Looking at that first row for those names is something you're going to do over and over again."
   ]
  },
  {
   "cell_type": "markdown",
   "id": "bf289b17",
   "metadata": {},
   "source": [
    "## Types\n",
    "\n",
    "There are many data types in the world, and pandas has them. In this class, we're primarily going to be dealing with DataFrames, and each element of our DataFrames will have a data type.\n",
    "\n",
    "Typically, they'll be one of four types of data:\n",
    "\n",
    "* Numeric: a number, like the number of people in a place or dollars in the budget.\n",
    "* Object (string): Text, like a name, a county, a type\n",
    "* DateTime: Fully formed dates -- 2019-01-01 -- have a special date type. Elements of a date, like a year (ex. 2019) are not technically dates, so they'll appear as numeric data types.\n",
    "* Boolean: Rare, but every now and then we'll have a data type that's Yes or No, True or False, etc.\n",
    "\n",
    "**Question:** Is a zip code a number? Is a phone number a number? Trick question, because the answer is no. Numbers are things we do math on. Can you add two phone numbers together? If the thing you want is not something you're going to do math on, then make it a string. If you don't, most every software system on the planet will drop leading zeros. For example, every zip code in Boston starts with 0. If you record that as a number, your zip code will become a four digit number, which isn't a zip code anymore."
   ]
  },
  {
   "cell_type": "markdown",
   "id": "aba0bfe8",
   "metadata": {},
   "source": [
    "## Recap\n",
    "\n",
    "In this lesson, you've learned essential concepts for working with data in Python. We covered how to import data using `pd.read_csv()`, and explored ways to inspect your data using `head()` and `info()`. You now understand that data are typically organized into rows (individual elements like counties) and columns (variables or attributes). We discussed the importance of the header row in naming your columns, which is crucial for data manipulation. You've also been introduced to common data types you'll encounter: numeric, object (string), datetime, and boolean. Remember, always start by loading the pandas library, give your imported data a descriptive name, and take time to understand the structure of your dataset. These foundational skills will be vital as you progress in your data analysis journey."
   ]
  },
  {
   "cell_type": "markdown",
   "id": "7b2435fd",
   "metadata": {},
   "source": [
    "## Terms To Know\n",
    "\n",
    "- `pd.read_csv()`: Function used to import CSV data into Python\n",
    "- DataFrame: pandas' primary structure for storing tabular data\n",
    "- `head()`: Function to view the first six rows of a dataset\n",
    "- `info()`: Function that provides a concise summary of a dataset's structure\n",
    "- pandas: A Python library designed for data science workflows"
   ]
  }
 ],
 "metadata": {
  "language_info": {
   "name": "python"
  }
 },
 "nbformat": 4,
 "nbformat_minor": 5
}
