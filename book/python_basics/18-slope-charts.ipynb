{
    "cells": [
        {
            "cell_type": "markdown",
            "metadata": {},
            "source": [
                "# Data Journalism Lesson 18: Slope charts\n",
                "\n",
                "Comparing one time period to another."
            ]
        },
        {
            "cell_type": "code",
            "execution_count": null,
            "metadata": {
                "tags": [
                    "hide-input",
                    "thebe-init"
                ]
            },
            "outputs": [],
            "source": [
                "import warnings\n",
                "from IPython.core.interactiveshell import InteractiveShell\n",
                "\n",
                "# Keep hold of the real method\n",
                "_orig_should_run = InteractiveShell.should_run_async\n",
                "\n",
                "# Wrap it so that any DeprecationWarning it emits is silenced\n",
                "def should_run_async(self, code, *args, **kwargs):\n",
                "    with warnings.catch_warnings():\n",
                "        warnings.simplefilter(\"ignore\", category=DeprecationWarning)\n",
                "        return _orig_should_run(self, code, *args, **kwargs)\n",
                "\n",
                "# Apply the monkey‑patch\n",
                "InteractiveShell.should_run_async = should_run_async"
            ]
        },
        {
            "cell_type": "code",
            "execution_count": null,
            "metadata": {
                "tags": [
                    "hide-input",
                    "thebe-init",
                    "skip-execution"
                ]
            },
            "outputs": [],
            "source": [
                "import micropip\n",
                "await micropip.install('plotly')\n",
                "await micropip.install(\"nbformat>=4.2.0\")"
            ]
        },
        {
            "cell_type": "code",
            "execution_count": null,
            "metadata": {
                "tags": [
                    "hide-input",
                    "thebe-init"
                ]
            },
            "outputs": [],
            "source": [
                "from IPython.display import display, HTML\n",
                "import pandas as pd\n",
                "\n",
                "# --- Simple Grading/Checking Functions ---\n",
                "def display_feedback(correct, message_correct, message_incorrect):\n",
                "    if correct:\n",
                "        display(HTML(f'<div style=\"background-color: #dff0d8; padding: 10px; border-radius: 5px;\"><strong>Correct!</strong> {message_correct}</div>'))\n",
                "    else:\n",
                "        display(HTML(f'<div style=\"background-color: #f2dede; padding: 10px; border-radius: 5px;\"><strong>Not quite!</strong> {message_incorrect}</div>'))\n",
                "\n",
                "def check_df_exists(df, df_name, expected_rows=None, expected_cols=None):\n",
                "    if not isinstance(df, pd.DataFrame) or df.empty:\n",
                "        display_feedback(False, f'{df_name} DataFrame is not loaded correctly or is empty.', 'Please check the loading process.')\n",
                "        return False\n",
                "    msg = f'{df_name} DataFrame loaded successfully.'\n",
                "    correct = True\n",
                "    if expected_rows is not None and len(df) != expected_rows:\n",
                "        msg += f' Expected {expected_rows} rows, got {len(df)}.'\n",
                "        correct = False\n",
                "    if expected_cols is not None and df.shape[1] != expected_cols:\n",
                "        msg += f' Expected {expected_cols} columns, got {df.shape[1]}.'\n",
                "        correct = False\n",
                "    \n",
                "    if correct:\n",
                "        display_feedback(True, msg, '')\n",
                "    else:\n",
                "        display_feedback(False, '', msg)\n",
                "    return correct\n",
                "\n",
                "def check_plot_params(params, expected_params, plot_name):\n",
                "    correct = True\n",
                "    messages = []\n",
                "    for p_name, p_val_expected in expected_params.items():\n",
                "        p_val_actual = params.get(p_name)\n",
                "        if isinstance(p_val_actual, pd.DataFrame) and isinstance(p_val_expected, pd.DataFrame):\n",
                "            if p_val_actual.equals(p_val_expected):\n",
                "                messages.append(f'Correct DataFrame for {p_name} in {plot_name}.')\n",
                "            else:\n",
                "                correct = False\n",
                "                messages.append(f'Incorrect DataFrame for {p_name} in {plot_name}. Content differs.')\n",
                "        elif p_val_actual == p_val_expected:\n",
                "            messages.append(f'Correct {p_name} for {plot_name}.')\n",
                "        else:\n",
                "            correct = False\n",
                "            messages.append(f'Incorrect {p_name} for {plot_name}. Expected \\'{p_val_expected}\\', got \\'{p_val_actual}\\'.')\n",
                "    final_message_correct = f'Plot parameters for {plot_name} are correct!'\n",
                "    final_message_incorrect = ' '.join(messages)\n",
                "    display_feedback(correct, final_message_correct, final_message_incorrect)"
            ]
        },
        {
            "cell_type": "code",
            "execution_count": null,
            "metadata": {
                "tags": [
                    "hide-input",
                    "thebe-init"
                ]
            },
            "outputs": [],
            "source": [
                "# --- State Setup and Data Loading ---\n",
                "state_abbr = 'MN'\n",
                "state_full_name = 'Minnesota'\n",
                "\n",
                "peak_data_url = \"../_static/peak-unemployment/peak.csv\"\n",
                "peak_df_initial = pd.read_csv(peak_data_url)\n",
                "\n",
                "state_peak_df_initial = peak_df_initial[peak_df_initial['Location'] == state_full_name].copy()\n",
                "staterows_expected = len(state_peak_df_initial)\n"
            ]
        },
        {
            "cell_type": "code",
            "execution_count": null,
            "id": "b3ac6674",
            "metadata": {
                "tags": [
                    "hide-input",
                    "hide-output"
                ]
            },
            "outputs": [],
            "source": [
                "from myst_nb import glue\n",
                "\n",
                "glue(\"state_full_name\", state_full_name, display=False)\n",
                "glue(\"staterows_expected\", staterows_expected, display=False)"
            ]
        },
        {
            "cell_type": "markdown",
            "metadata": {},
            "source": [
                "## The Goal\n",
                "\n",
                "In this lesson, you'll learn how to create slope charts, a powerful tool for visualizing changes between two time periods. By the end of this tutorial, you'll understand when to use slope charts, how to prepare your data, and how to construct these charts using Plotly Express. You'll practice filtering data, manipulating chart elements, and adding informative labels to create clear and impactful visualizations. These skills will enable you to effectively communicate trends and comparisons in your data journalism projects, especially when dealing with before-and-after scenarios or year-over-year changes."
            ]
        },
        {
            "cell_type": "markdown",
            "metadata": {},
            "source": [
                "## Why Visualize Data?\n",
                "\n",
                "Darla Cameron, now the chief product officer at the Texas Tribune, has worked in visual journalism for more than 15 years with stops in Florida, Washington D.C. and now Texas. She's been at ground zero for an awakening in journalism that started in the 80s, got turbocharged by the internet and now seems like it was always so: journalism can be presented graphically. And for some stories, it's vastly better to do it with graphics.\n",
                "\n",
                "\"Visual journalism is important because humans communicate visually. That's how we learn to read. That's how we learn to read our parents' faces when we're babies,\" Cameron said. \"We are really good at understanding visual cues and visual context. So as visual journalists, we have this superpower because we can leverage that, this thing that's so innate inside people's brains, and we can tell them a story with that. It's amazing. It's so cool.\"\n",
                "\n",
                "Learning what makes a better narrative versus a better graphic is a critical skill, one that will make you more valuable in any enterprise that tries to tell stories with data.\n",
                "\n",
                "Or, as Cameron puts it, being able to communicate visually gives you a superpower.\n",
                "\n",
                "\"How do you know that somebody's going to read a long narrative?\" she said. \"You don't. So that's why we need to be thinking about visuals in terms of how we communicate information. It's like a superpower that you can tap into the part of people's brains that can understand information better when they learn it visually. We're visual thinkers. It's so innate.\""
            ]
        },
        {
            "cell_type": "markdown",
            "metadata": {},
            "source": [
                "## The Basics\n",
                "\n",
                "A line chart, as we learned, shows change over time, with the date on the x-axis and each line representing a state or county or some other entity. But sometimes, you have just two time periods -- a line chart of two years is ... not a line chart in the traditional sense of showing a continuous trend. \n",
                "\n",
                "But with some fiddling with lines and points, you can create a new chart type that does show change over two time periods quite well: A slope chart. \n",
                "\n",
                "Think of a slope chart like the meme you see online: How it started vs. how it's going. \n",
                "\n",
                "For purposes of this exercise, we're going to look at unemployment again, but this time, we're just looking at April 2020 and April 2024. April 2020 is the month when unemployment was highest for almost every state. How does that compare four years later? \n",
                "\n",
                "Think of it like playing connect the dots from elementary school.\n",
                "\n",
                "The difference between slope charts and most other chart types in Plotly Express is that there is no dedicated `px.slope()` function. We're going to make one using `px.line()` and then potentially customize it by adding markers and text annotations. This is another example of where layering concepts (achieved through multiple traces or figure updates) will come in handy.\n",
                "\n",
                "We'll need `pandas` for data manipulation and `plotly.express` for plotting."
            ]
        },
        {
            "cell_type": "code",
            "execution_count": null,
            "metadata": {
                "tags": [
                    "skip-execution"
                ]
            },
            "outputs": [],
            "source": [
                "import pandas as pd\n",
                "import plotly.express as px\n",
                "import plotly.graph_objects as go # For more detailed customization if needed"
            ]
        },
        {
            "cell_type": "markdown",
            "metadata": {},
            "source": [
                "And we'll grab the data, which is just one file for the nation, containing unemployment data for two specific time points (April 2020 and April 2024 for each state)."
            ]
        },
        {
            "cell_type": "code",
            "execution_count": null,
            "metadata": {
                "tags": [
                    "skip-execution"
                ]
            },
            "outputs": [],
            "source": [
                "peak_df = pd.read_csv(\"../_static/peak-unemployment/peak.csv\")"
            ]
        },
        {
            "cell_type": "markdown",
            "metadata": {},
            "source": [
                "We should take a quick look at our data so we know what we're working with. We'll use `head()` for that."
            ]
        },
        {
            "cell_type": "code",
            "execution_count": null,
            "metadata": {
                "tags": [
                    "skip-execution"
                ]
            },
            "outputs": [],
            "source": [
                "display(peak_df.head())"
            ]
        },
        {
            "cell_type": "markdown",
            "metadata": {},
            "source": [
                "### Exercise 1: Our first slope chart\n",
                "\n",
                "Our data is in pretty good shape already, so we can go right to making a chart. \n",
                "\n",
                "A slope chart is really made up of lines connecting points for two time periods. With `plotly.express`, we can use `px.line()` and tell it to draw lines for each `Location`. We'll also add markers at each data point.\n",
                "- `x`: `year` (this will be treated as categorical by default if it's just two distinct numbers, which is fine for a slope chart).\n",
                "- `y`: `Unemployment_Rate`.\n",
                "- `color`: `Location` to get a separate line/slope for each state.\n",
                "- `markers`: `True` to show points at the start and end of each slope.\n",
                "\n",
                "We'll also set a default color for these lines to grey for now, which we can do by modifying the figure's traces after creation, or by setting a `color_discrete_sequence` if we map `Location` to `line_group` instead of `color`."
            ]
        },
        {
            "cell_type": "code",
            "execution_count": null,
            "metadata": {
                "tags": [
                    "skip-execution"
                ]
            },
            "outputs": [],
            "source": [
                "fig_ex1 = px.line(\n",
                "    data_frame=____,\n",
                "    x=____,\n",
                "    y=____,\n",
                "    color=____, # Use 'Location' to get a line per state\n",
                "    markers=____, # Set to True\n",
                "    title=\"Unemployment Rate Change (2020 vs 2024)\"\n",
                ")\n",
                "\n",
                "# Set all lines to grey initially\n",
                "fig_ex1.update_traces(line=dict(color='grey'), marker=dict(color='grey'))\n",
                "\n",
                "fig_ex1.show()"
            ]
        },
        {
            "cell_type": "markdown",
            "metadata": {},
            "source": [
                "Well, we got something. But who changed the most? What should we focus on? We don't have anything to guide us here.  \n",
                "\n",
                "Might as well be selfish and focus on {glue:text}`state_full_name`. Unless you work for a major national news organization, you're going to be focusing on where you live -- on the audience you serve. People care about where they are, so give them what they want."
            ]
        },
        {
            "cell_type": "markdown",
            "metadata": {},
            "source": [
                "### Exercise 2: Filtering\n",
                "\n",
                "To let us focus, let’s build a dataframe called `state_peak_df` and filter the `Location` by your state name."
            ]
        },
        {
            "cell_type": "code",
            "execution_count": null,
            "metadata": {
                "tags": [
                    "skip-execution"
                ]
            },
            "outputs": [],
            "source": [
                "state_peak_df = peak_df[peak_df[_____] == _____]\n",
                "\n",
                "display(state_peak_df)\n",
                "check_df_exists(state_peak_df, f'{state_full_name} peak_df', expected_rows=staterows_expected)"
            ]
        },
        {
            "cell_type": "markdown",
            "metadata": {},
            "source": [
                "Now, with a state to focus on, we can modify our previous chart to highlight this specific state. We'll redraw the chart with all states in grey, and then find the trace corresponding to our `state_full_name` and change its color to red.\n",
                "\n",
                "### Exercise 3: Give readers a focus\n",
                "\n",
                "1. Recreate the slope chart from Exercise 1 with all lines/markers initially grey.\n",
                "2. Iterate through the `fig.data` (the traces). If a trace's `name` (which corresponds to `Location`) matches `state_full_name`, update its line and marker color to 'red'."
            ]
        },
        {
            "cell_type": "code",
            "execution_count": null,
            "metadata": {
                "tags": [
                    "skip-execution"
                ]
            },
            "outputs": [],
            "source": [
                "fig_ex3 = px.line(\n",
                "    data_frame=peak_df,\n",
                "    x='year',\n",
                "    y='Unemployment_Rate',\n",
                "    color='Location', \n",
                "    markers=True,\n",
                "    title=f\"Unemployment Rate Change: {state_full_name} vs. Others\"\n",
                ")\n",
                "\n",
                "# Highlight the specific state\n",
                "for trace in fig_ex3.data:\n",
                "    if trace.name == ____: # The name of your state_full_name\n",
                "        trace.line.color = ____ # e.g., 'red'\n",
                "        trace.marker.color = ____ # e.g., 'red'\n",
                "        trace.line.width = 2 # Optional: make highlighted line thicker\n",
                "    else:\n",
                "        trace.line.color = 'lightgrey'\n",
                "        trace.marker.color = 'lightgrey'\n",
                "        trace.opacity = 0.7 # Optional: make other lines slightly transparent\n",
                "\n",
                "fig_ex3.show()"
            ]
        },
        {
            "cell_type": "markdown",
            "metadata": {},
            "source": [
                "Now we can start with our questions: What story does this tell? Is it very clear? \n",
                "\n",
                "### Exercise 4: Getting creative with spacing and breaks\n",
                "\n",
                "Now that we have something to work with, it's time to start improving it. It would be good to label the state we're highlighting. Maybe we label them on each end of the graph to help people follow the line. Given how much space the default Plotly behavior might leave, we might need to make some space or adjust label positioning.\n",
                "\n",
                "We can adjust the x-axis using `fig.update_xaxes()`. \n",
                "- `tickvals`: Sets specific tick locations (e.g., `[2020, 2024]`).\n",
                "- `range`: Sets the visible range of the axis (e.g., `[2019.5, 2024.5]`) to add padding."
            ]
        },
        {
            "cell_type": "code",
            "execution_count": null,
            "metadata": {
                "tags": [
                    "skip-execution"
                ]
            },
            "outputs": [],
            "source": [
                "# We'll apply this to fig_ex3 (our highlighted chart)\n",
                "fig_ex4 = go.Figure(fig_ex3) # Create a copy to modify\n",
                "\n",
                "fig_ex4.update_xaxes(\n",
                "    tickvals=[____, ____],\n",
                "    range=[____, ____]\n",
                ")\n",
                "\n",
                "fig_ex4.show()"
            ]
        },
        {
            "cell_type": "markdown",
            "metadata": {},
            "source": [
                "A ha! Better. We now just have the two years labeled and we have some space to put our state name in there to help people.\n",
                "\n",
                "### Exercise 5: Adding labels\n",
                "\n",
                "To add text labels next to the points of our highlighted state, we can use `fig.add_annotation()`. We'll iterate through the `state_peak_df` (which has two rows for our highlighted state, one for each year) and add an annotation for each point.\n",
                "\n",
                "- `x`, `y`: Coordinates for the annotation (from the DataFrame).\n",
                "- `text`: The label text (the state's `Location`).\n",
                "- `showarrow=False`: To have just text, no arrow.\n",
                "- `xanchor`, `xshift`: To control horizontal position and nudge the text slightly left or right of the point.\n"
            ]
        },
        {
            "cell_type": "code",
            "execution_count": null,
            "metadata": {
                "tags": [
                    "skip-execution"
                ]
            },
            "outputs": [],
            "source": [
                "# We'll apply this to fig_ex4 (our chart with custom x-axis)\n",
                "fig_ex5 = go.Figure(fig_ex4) # Create a copy to modify\n",
                "\n",
                "for index, row in state_peak_df.iterrows():\n",
                "    fig_ex5.add_annotation(\n",
                "        x=row['year'], \n",
                "        y=row['Unemployment_Rate'], \n",
                "        text=row[____],\n",
                "        showarrow=False,\n",
                "        xanchor='left' if row['year'] == state_peak_df['year'].max() else 'right',\n",
                "        xshift=7 if row['year'] == state_peak_df['year'].max() else -7, # Nudge amount in pixels\n",
                "        font=dict(color='red', size=10) # Match highlight color\n",
                "    )\n",
                "\n",
                "fig_ex5.update_layout(showlegend=False) # Hide legend if labels make it redundant\n",
                "fig_ex5.show()"
            ]
        },
        {
            "cell_type": "markdown",
            "metadata": {},
            "source": [
                "And there you have it. A clean and clear slope chart showing how the peak of the pandemic compares to four years later for {glue:text}`state_full_name` relative to other states."
            ]
        },
        {
            "cell_type": "markdown",
            "metadata": {},
            "source": [
                "## The Recap\n",
                "\n",
                "Throughout this lesson, you've mastered the art of creating slope charts to visualize changes between two time periods using Plotly Express and Plotly graph objects. You've learned how to prepare your data, construct the basic chart structure with lines and markers, highlight specific series, customize axes, and add text annotations for clarity. Remember, slope charts are particularly effective for showing how different entities (like states in our example) change relative to each other over two distinct points in time. As you go forward, you'll find slope charts to be a valuable addition to your visualization toolkit, especially when you need to clearly communicate before-and-after comparisons or year-over-year changes in a compelling and easy-to-understand format."
            ]
        },
        {
            "cell_type": "markdown",
            "metadata": {},
            "source": [
                "## Terms to Know\n",
                "\n",
                "- **Slope chart**: A type of chart that shows changes in values for different categories between two time points, connecting the points with lines (slopes).\n",
                "- **`plotly.express.line()` (or `px.line()`)**: Used as the base for creating slope charts by drawing lines between the two time points for each category.\n",
                "- **`markers=True`**: An argument in `px.line()` to display markers at each data point (start and end of the slope).\n",
                "- **`color` argument (in `px.line`)**: Used to differentiate categories (e.g., states) with different colored lines and markers.\n",
                "- **`fig.update_traces()`**: A Plotly method to modify properties (like color, width, opacity) of traces (lines/markers) in a figure.\n",
                "- **`fig.update_xaxes()`**: A Plotly method to customize the x-axis, including `tickvals` (specific tick locations) and `range` (axis limits).\n",
                "- **`fig.add_annotation()`**: A Plotly method to add text labels or other annotations to a figure at specific x/y coordinates.\n",
                "- **`xanchor`, `xshift` (in annotations)**: Properties to control the horizontal alignment and pixel offset of text annotations."
            ]
        }
    ],
    "metadata": {
        "kernelspec": {
            "display_name": "Python 3",
            "language": "python",
            "name": "python3"
        },
        "language_info": {
            "codemirror_mode": {
                "name": "ipython",
                "version": 3
            },
            "file_extension": ".py",
            "mimetype": "text/x-python",
            "name": "python",
            "nbconvert_exporter": "python",
            "pygments_lexer": "ipython3",
            "version": "3.11"
        },
        "mystnb": {
            "execution_mode": "cache"
        }
    },
    "nbformat": 4,
    "nbformat_minor": 5
}
