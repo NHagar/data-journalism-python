{
 "cells": [
  {
   "cell_type": "markdown",
   "id": "43173953",
   "metadata": {},
   "source": [
    "# Data Journalism Lesson 1: The Basics\n",
    "\n",
    "Learn the very basics of Python, tools that will help you down the road in data journalism."
   ]
  },
  {
   "cell_type": "code",
   "execution_count": null,
   "id": "7270458c",
   "metadata": {
    "tags": [
     "hide-input",
     "thebe-init"
    ]
   },
   "outputs": [],
   "source": [
    "# Setup code for the notebook\n",
    "import os\n",
    "from IPython.display import display, HTML\n",
    "\n",
    "# Helper functions for grading exercises\n",
    "def check_addition(result):\n",
    "    if result == 85:\n",
    "        display(HTML('<div style=\"background-color: #dff0d8; padding: 10px; border-radius: 5px;\">' +\n",
    "                 '<strong>Correct!</strong> Great job, you got the right answer.</div>'))\n",
    "    else:\n",
    "        display(HTML('<div style=\"background-color: #f2dede; padding: 10px; border-radius: 5px;\">' +\n",
    "                 '<strong>Not quite!</strong> Try again.</div>'))\n",
    "        \n",
    "def check_percentchange(result, expected):\n",
    "    if abs(result - expected) < 0.0001:  # Account for floating point precision\n",
    "        display(HTML('<div style=\"background-color: #dff0d8; padding: 10px; border-radius: 5px;\">' +\n",
    "                 '<strong>Great work!</strong> You calculated percent change. You now know more useful math than most reporters. I wish I was making that up.</div>'))\n",
    "    else:\n",
    "        display(HTML('<div style=\"background-color: #f2dede; padding: 10px; border-radius: 5px;\">' +\n",
    "                 '<strong>Not quite right!</strong> Try using the formula (new - old)/old.</div>'))\n",
    "        \n",
    "def check_natural_change(result, expected):\n",
    "    if result == expected:\n",
    "        display(HTML('<div style=\"background-color: #dff0d8; padding: 10px; border-radius: 5px;\">' +\n",
    "                 '<strong>Great work!</strong> You calculated the natural population change.</div>'))\n",
    "    else:\n",
    "        display(HTML('<div style=\"background-color: #f2dede; padding: 10px; border-radius: 5px;\">' +\n",
    "                 '<strong>Not quite!</strong> Make sure youre using the correct values.</div>'))"
   ]
  },
  {
   "cell_type": "code",
   "execution_count": null,
   "id": "87db416d",
   "metadata": {
    "tags": [
     "hide-input",
     "thebe-init"
    ]
   },
   "outputs": [
    {
     "ename": "FileNotFoundError",
     "evalue": "[Errno 2] No such file or directory: '_static/census-estimates/minnesota.csv'",
     "output_type": "error",
     "traceback": [
      "\u001b[31m---------------------------------------------------------------------------\u001b[39m",
      "\u001b[31mFileNotFoundError\u001b[39m                         Traceback (most recent call last)",
      "\u001b[36mCell\u001b[39m\u001b[36m \u001b[39m\u001b[32mIn[11]\u001b[39m\u001b[32m, line 9\u001b[39m\n\u001b[32m      6\u001b[39m state = \u001b[33m\"\u001b[39m\u001b[33mMinnesota\u001b[39m\u001b[33m\"\u001b[39m\n\u001b[32m      8\u001b[39m relative_path = Path(\u001b[33m\"\u001b[39m\u001b[33m_static\u001b[39m\u001b[33m\"\u001b[39m) / \u001b[33m\"\u001b[39m\u001b[33mcensus-estimates\u001b[39m\u001b[33m\"\u001b[39m / \u001b[33mf\u001b[39m\u001b[33m\"\u001b[39m\u001b[38;5;132;01m{\u001b[39;00mstate.lower()\u001b[38;5;132;01m}\u001b[39;00m\u001b[33m.csv\u001b[39m\u001b[33m\"\u001b[39m\n\u001b[32m----> \u001b[39m\u001b[32m9\u001b[39m census = \u001b[43mpd\u001b[49m\u001b[43m.\u001b[49m\u001b[43mread_csv\u001b[49m\u001b[43m(\u001b[49m\u001b[43mrelative_path\u001b[49m\u001b[43m)\u001b[49m\n\u001b[32m     11\u001b[39m \u001b[38;5;66;03m# useful variables\u001b[39;00m\n\u001b[32m     12\u001b[39m county_count = census[\u001b[33m\"\u001b[39m\u001b[33mCOUNTY\u001b[39m\u001b[33m\"\u001b[39m].nunique()\n",
      "\u001b[36mFile \u001b[39m\u001b[32m~/Documents/data-journalism-python/.venv/lib/python3.12/site-packages/pandas/io/parsers/readers.py:1026\u001b[39m, in \u001b[36mread_csv\u001b[39m\u001b[34m(filepath_or_buffer, sep, delimiter, header, names, index_col, usecols, dtype, engine, converters, true_values, false_values, skipinitialspace, skiprows, skipfooter, nrows, na_values, keep_default_na, na_filter, verbose, skip_blank_lines, parse_dates, infer_datetime_format, keep_date_col, date_parser, date_format, dayfirst, cache_dates, iterator, chunksize, compression, thousands, decimal, lineterminator, quotechar, quoting, doublequote, escapechar, comment, encoding, encoding_errors, dialect, on_bad_lines, delim_whitespace, low_memory, memory_map, float_precision, storage_options, dtype_backend)\u001b[39m\n\u001b[32m   1013\u001b[39m kwds_defaults = _refine_defaults_read(\n\u001b[32m   1014\u001b[39m     dialect,\n\u001b[32m   1015\u001b[39m     delimiter,\n\u001b[32m   (...)\u001b[39m\u001b[32m   1022\u001b[39m     dtype_backend=dtype_backend,\n\u001b[32m   1023\u001b[39m )\n\u001b[32m   1024\u001b[39m kwds.update(kwds_defaults)\n\u001b[32m-> \u001b[39m\u001b[32m1026\u001b[39m \u001b[38;5;28;01mreturn\u001b[39;00m \u001b[43m_read\u001b[49m\u001b[43m(\u001b[49m\u001b[43mfilepath_or_buffer\u001b[49m\u001b[43m,\u001b[49m\u001b[43m \u001b[49m\u001b[43mkwds\u001b[49m\u001b[43m)\u001b[49m\n",
      "\u001b[36mFile \u001b[39m\u001b[32m~/Documents/data-journalism-python/.venv/lib/python3.12/site-packages/pandas/io/parsers/readers.py:620\u001b[39m, in \u001b[36m_read\u001b[39m\u001b[34m(filepath_or_buffer, kwds)\u001b[39m\n\u001b[32m    617\u001b[39m _validate_names(kwds.get(\u001b[33m\"\u001b[39m\u001b[33mnames\u001b[39m\u001b[33m\"\u001b[39m, \u001b[38;5;28;01mNone\u001b[39;00m))\n\u001b[32m    619\u001b[39m \u001b[38;5;66;03m# Create the parser.\u001b[39;00m\n\u001b[32m--> \u001b[39m\u001b[32m620\u001b[39m parser = \u001b[43mTextFileReader\u001b[49m\u001b[43m(\u001b[49m\u001b[43mfilepath_or_buffer\u001b[49m\u001b[43m,\u001b[49m\u001b[43m \u001b[49m\u001b[43m*\u001b[49m\u001b[43m*\u001b[49m\u001b[43mkwds\u001b[49m\u001b[43m)\u001b[49m\n\u001b[32m    622\u001b[39m \u001b[38;5;28;01mif\u001b[39;00m chunksize \u001b[38;5;129;01mor\u001b[39;00m iterator:\n\u001b[32m    623\u001b[39m     \u001b[38;5;28;01mreturn\u001b[39;00m parser\n",
      "\u001b[36mFile \u001b[39m\u001b[32m~/Documents/data-journalism-python/.venv/lib/python3.12/site-packages/pandas/io/parsers/readers.py:1620\u001b[39m, in \u001b[36mTextFileReader.__init__\u001b[39m\u001b[34m(self, f, engine, **kwds)\u001b[39m\n\u001b[32m   1617\u001b[39m     \u001b[38;5;28mself\u001b[39m.options[\u001b[33m\"\u001b[39m\u001b[33mhas_index_names\u001b[39m\u001b[33m\"\u001b[39m] = kwds[\u001b[33m\"\u001b[39m\u001b[33mhas_index_names\u001b[39m\u001b[33m\"\u001b[39m]\n\u001b[32m   1619\u001b[39m \u001b[38;5;28mself\u001b[39m.handles: IOHandles | \u001b[38;5;28;01mNone\u001b[39;00m = \u001b[38;5;28;01mNone\u001b[39;00m\n\u001b[32m-> \u001b[39m\u001b[32m1620\u001b[39m \u001b[38;5;28mself\u001b[39m._engine = \u001b[38;5;28;43mself\u001b[39;49m\u001b[43m.\u001b[49m\u001b[43m_make_engine\u001b[49m\u001b[43m(\u001b[49m\u001b[43mf\u001b[49m\u001b[43m,\u001b[49m\u001b[43m \u001b[49m\u001b[38;5;28;43mself\u001b[39;49m\u001b[43m.\u001b[49m\u001b[43mengine\u001b[49m\u001b[43m)\u001b[49m\n",
      "\u001b[36mFile \u001b[39m\u001b[32m~/Documents/data-journalism-python/.venv/lib/python3.12/site-packages/pandas/io/parsers/readers.py:1880\u001b[39m, in \u001b[36mTextFileReader._make_engine\u001b[39m\u001b[34m(self, f, engine)\u001b[39m\n\u001b[32m   1878\u001b[39m     \u001b[38;5;28;01mif\u001b[39;00m \u001b[33m\"\u001b[39m\u001b[33mb\u001b[39m\u001b[33m\"\u001b[39m \u001b[38;5;129;01mnot\u001b[39;00m \u001b[38;5;129;01min\u001b[39;00m mode:\n\u001b[32m   1879\u001b[39m         mode += \u001b[33m\"\u001b[39m\u001b[33mb\u001b[39m\u001b[33m\"\u001b[39m\n\u001b[32m-> \u001b[39m\u001b[32m1880\u001b[39m \u001b[38;5;28mself\u001b[39m.handles = \u001b[43mget_handle\u001b[49m\u001b[43m(\u001b[49m\n\u001b[32m   1881\u001b[39m \u001b[43m    \u001b[49m\u001b[43mf\u001b[49m\u001b[43m,\u001b[49m\n\u001b[32m   1882\u001b[39m \u001b[43m    \u001b[49m\u001b[43mmode\u001b[49m\u001b[43m,\u001b[49m\n\u001b[32m   1883\u001b[39m \u001b[43m    \u001b[49m\u001b[43mencoding\u001b[49m\u001b[43m=\u001b[49m\u001b[38;5;28;43mself\u001b[39;49m\u001b[43m.\u001b[49m\u001b[43moptions\u001b[49m\u001b[43m.\u001b[49m\u001b[43mget\u001b[49m\u001b[43m(\u001b[49m\u001b[33;43m\"\u001b[39;49m\u001b[33;43mencoding\u001b[39;49m\u001b[33;43m\"\u001b[39;49m\u001b[43m,\u001b[49m\u001b[43m \u001b[49m\u001b[38;5;28;43;01mNone\u001b[39;49;00m\u001b[43m)\u001b[49m\u001b[43m,\u001b[49m\n\u001b[32m   1884\u001b[39m \u001b[43m    \u001b[49m\u001b[43mcompression\u001b[49m\u001b[43m=\u001b[49m\u001b[38;5;28;43mself\u001b[39;49m\u001b[43m.\u001b[49m\u001b[43moptions\u001b[49m\u001b[43m.\u001b[49m\u001b[43mget\u001b[49m\u001b[43m(\u001b[49m\u001b[33;43m\"\u001b[39;49m\u001b[33;43mcompression\u001b[39;49m\u001b[33;43m\"\u001b[39;49m\u001b[43m,\u001b[49m\u001b[43m \u001b[49m\u001b[38;5;28;43;01mNone\u001b[39;49;00m\u001b[43m)\u001b[49m\u001b[43m,\u001b[49m\n\u001b[32m   1885\u001b[39m \u001b[43m    \u001b[49m\u001b[43mmemory_map\u001b[49m\u001b[43m=\u001b[49m\u001b[38;5;28;43mself\u001b[39;49m\u001b[43m.\u001b[49m\u001b[43moptions\u001b[49m\u001b[43m.\u001b[49m\u001b[43mget\u001b[49m\u001b[43m(\u001b[49m\u001b[33;43m\"\u001b[39;49m\u001b[33;43mmemory_map\u001b[39;49m\u001b[33;43m\"\u001b[39;49m\u001b[43m,\u001b[49m\u001b[43m \u001b[49m\u001b[38;5;28;43;01mFalse\u001b[39;49;00m\u001b[43m)\u001b[49m\u001b[43m,\u001b[49m\n\u001b[32m   1886\u001b[39m \u001b[43m    \u001b[49m\u001b[43mis_text\u001b[49m\u001b[43m=\u001b[49m\u001b[43mis_text\u001b[49m\u001b[43m,\u001b[49m\n\u001b[32m   1887\u001b[39m \u001b[43m    \u001b[49m\u001b[43merrors\u001b[49m\u001b[43m=\u001b[49m\u001b[38;5;28;43mself\u001b[39;49m\u001b[43m.\u001b[49m\u001b[43moptions\u001b[49m\u001b[43m.\u001b[49m\u001b[43mget\u001b[49m\u001b[43m(\u001b[49m\u001b[33;43m\"\u001b[39;49m\u001b[33;43mencoding_errors\u001b[39;49m\u001b[33;43m\"\u001b[39;49m\u001b[43m,\u001b[49m\u001b[43m \u001b[49m\u001b[33;43m\"\u001b[39;49m\u001b[33;43mstrict\u001b[39;49m\u001b[33;43m\"\u001b[39;49m\u001b[43m)\u001b[49m\u001b[43m,\u001b[49m\n\u001b[32m   1888\u001b[39m \u001b[43m    \u001b[49m\u001b[43mstorage_options\u001b[49m\u001b[43m=\u001b[49m\u001b[38;5;28;43mself\u001b[39;49m\u001b[43m.\u001b[49m\u001b[43moptions\u001b[49m\u001b[43m.\u001b[49m\u001b[43mget\u001b[49m\u001b[43m(\u001b[49m\u001b[33;43m\"\u001b[39;49m\u001b[33;43mstorage_options\u001b[39;49m\u001b[33;43m\"\u001b[39;49m\u001b[43m,\u001b[49m\u001b[43m \u001b[49m\u001b[38;5;28;43;01mNone\u001b[39;49;00m\u001b[43m)\u001b[49m\u001b[43m,\u001b[49m\n\u001b[32m   1889\u001b[39m \u001b[43m\u001b[49m\u001b[43m)\u001b[49m\n\u001b[32m   1890\u001b[39m \u001b[38;5;28;01massert\u001b[39;00m \u001b[38;5;28mself\u001b[39m.handles \u001b[38;5;129;01mis\u001b[39;00m \u001b[38;5;129;01mnot\u001b[39;00m \u001b[38;5;28;01mNone\u001b[39;00m\n\u001b[32m   1891\u001b[39m f = \u001b[38;5;28mself\u001b[39m.handles.handle\n",
      "\u001b[36mFile \u001b[39m\u001b[32m~/Documents/data-journalism-python/.venv/lib/python3.12/site-packages/pandas/io/common.py:873\u001b[39m, in \u001b[36mget_handle\u001b[39m\u001b[34m(path_or_buf, mode, encoding, compression, memory_map, is_text, errors, storage_options)\u001b[39m\n\u001b[32m    868\u001b[39m \u001b[38;5;28;01melif\u001b[39;00m \u001b[38;5;28misinstance\u001b[39m(handle, \u001b[38;5;28mstr\u001b[39m):\n\u001b[32m    869\u001b[39m     \u001b[38;5;66;03m# Check whether the filename is to be opened in binary mode.\u001b[39;00m\n\u001b[32m    870\u001b[39m     \u001b[38;5;66;03m# Binary mode does not support 'encoding' and 'newline'.\u001b[39;00m\n\u001b[32m    871\u001b[39m     \u001b[38;5;28;01mif\u001b[39;00m ioargs.encoding \u001b[38;5;129;01mand\u001b[39;00m \u001b[33m\"\u001b[39m\u001b[33mb\u001b[39m\u001b[33m\"\u001b[39m \u001b[38;5;129;01mnot\u001b[39;00m \u001b[38;5;129;01min\u001b[39;00m ioargs.mode:\n\u001b[32m    872\u001b[39m         \u001b[38;5;66;03m# Encoding\u001b[39;00m\n\u001b[32m--> \u001b[39m\u001b[32m873\u001b[39m         handle = \u001b[38;5;28;43mopen\u001b[39;49m\u001b[43m(\u001b[49m\n\u001b[32m    874\u001b[39m \u001b[43m            \u001b[49m\u001b[43mhandle\u001b[49m\u001b[43m,\u001b[49m\n\u001b[32m    875\u001b[39m \u001b[43m            \u001b[49m\u001b[43mioargs\u001b[49m\u001b[43m.\u001b[49m\u001b[43mmode\u001b[49m\u001b[43m,\u001b[49m\n\u001b[32m    876\u001b[39m \u001b[43m            \u001b[49m\u001b[43mencoding\u001b[49m\u001b[43m=\u001b[49m\u001b[43mioargs\u001b[49m\u001b[43m.\u001b[49m\u001b[43mencoding\u001b[49m\u001b[43m,\u001b[49m\n\u001b[32m    877\u001b[39m \u001b[43m            \u001b[49m\u001b[43merrors\u001b[49m\u001b[43m=\u001b[49m\u001b[43merrors\u001b[49m\u001b[43m,\u001b[49m\n\u001b[32m    878\u001b[39m \u001b[43m            \u001b[49m\u001b[43mnewline\u001b[49m\u001b[43m=\u001b[49m\u001b[33;43m\"\u001b[39;49m\u001b[33;43m\"\u001b[39;49m\u001b[43m,\u001b[49m\n\u001b[32m    879\u001b[39m \u001b[43m        \u001b[49m\u001b[43m)\u001b[49m\n\u001b[32m    880\u001b[39m     \u001b[38;5;28;01melse\u001b[39;00m:\n\u001b[32m    881\u001b[39m         \u001b[38;5;66;03m# Binary mode\u001b[39;00m\n\u001b[32m    882\u001b[39m         handle = \u001b[38;5;28mopen\u001b[39m(handle, ioargs.mode)\n",
      "\u001b[31mFileNotFoundError\u001b[39m: [Errno 2] No such file or directory: '_static/census-estimates/minnesota.csv'"
     ]
    }
   ],
   "source": [
    "# Load required data\n",
    "from pathlib import Path\n",
    "\n",
    "import pandas as pd\n",
    "\n",
    "state = \"Minnesota\"\n",
    "\n",
    "relative_path = f\"../_static/census-estimates/{state.lower()}.csv\"\n",
    "census = pd.read_csv(relative_path)\n",
    "\n",
    "# useful variables\n",
    "county_count = census[\"COUNTY\"].nunique()\n",
    "largest_county = census.loc[census[\"POPESTIMATE2023\"].idxmax(), \"CTYNAME\"]\n",
    "largest_county_pop_2023 = census.loc[census[\"CTYNAME\"] == largest_county, \"POPESTIMATE2023\"].values[0]\n",
    "largest_county_pop_2022 = census.loc[census[\"CTYNAME\"] == largest_county, \"POPESTIMATE2022\"].values[0]\n",
    "largest_county_pct_change = (largest_county_pop_2023 - largest_county_pop_2022) / largest_county_pop_2022\n",
    "largest_county_born_2023 = census.loc[census[\"CTYNAME\"] == largest_county, \"BIRTHS2023\"].values[0]\n",
    "largest_county_deaths_2023 = census.loc[census[\"CTYNAME\"] == largest_county, \"DEATHS2023\"].values[0]\n",
    "nat_change = largest_county_born_2023 - largest_county_deaths_2023"
   ]
  },
  {
   "cell_type": "code",
   "execution_count": null,
   "id": "b9354449",
   "metadata": {
    "tags": [
     "hide-input",
     "hide-output"
    ]
   },
   "outputs": [
    {
     "data": {
      "text/plain": [
       "'Minnesota'"
      ]
     },
     "metadata": {
      "scrapbook": {
       "mime_prefix": "",
       "name": "state"
      }
     },
     "output_type": "display_data"
    },
    {
     "data": {
      "text/plain": [
       "87"
      ]
     },
     "metadata": {
      "scrapbook": {
       "mime_prefix": "",
       "name": "county_count"
      }
     },
     "output_type": "display_data"
    },
    {
     "data": {
      "text/plain": [
       "'Hennepin County'"
      ]
     },
     "metadata": {
      "scrapbook": {
       "mime_prefix": "",
       "name": "largest_county"
      }
     },
     "output_type": "display_data"
    },
    {
     "data": {
      "text/plain": [
       "'1,258,713'"
      ]
     },
     "metadata": {
      "scrapbook": {
       "mime_prefix": "",
       "name": "largest_county_pop_2023"
      }
     },
     "output_type": "display_data"
    },
    {
     "data": {
      "text/plain": [
       "'1,257,066'"
      ]
     },
     "metadata": {
      "scrapbook": {
       "mime_prefix": "",
       "name": "largest_county_pop_2022"
      }
     },
     "output_type": "display_data"
    },
    {
     "data": {
      "text/plain": [
       "'largest_county_pct_change'"
      ]
     },
     "metadata": {
      "scrapbook": {
       "mime_prefix": "",
       "name": "largest_county_pct_change"
      }
     },
     "output_type": "display_data"
    }
   ],
   "source": [
    "from myst_nb import glue\n",
    "\n",
    "glue(\"state\", state, display=False)\n",
    "glue(\"county_count\", county_count)\n",
    "glue(\"largest_county\", largest_county, display=False)\n",
    "glue(\"largest_county_pop_2023\", f\"{largest_county_pop_2023:,}\")\n",
    "glue(\"largest_county_pop_2022\", f\"{largest_county_pop_2022:,}\")\n",
    "glue(\"largest_county_pct_change\", f\"{largest_county_pct_change:.2%}\")\n",
    "glue(\"largest_county_born_2023\", f\"{largest_county_born_2023:,}\")\n",
    "glue(\"largest_county_deaths_2023\", f\"{largest_county_deaths_2023:,}\")"
   ]
  },
  {
   "cell_type": "markdown",
   "id": "4ce4af9c",
   "metadata": {},
   "source": [
    "## The Goal\n",
    "\n",
    "Welcome! This introductory lesson aims to familiarize you with the fundamental concepts of Python programming in the context of data journalism. The primary goal is to help learners understand the basic syntax of Python, its function as a calculator, and the crucial concept of variables. By the end of this tutorial, you should be comfortable with simple mathematical operations in Python, understand the importance of order in calculations (PEMDAS), and grasp the basics of creating and using variables to store both numeric and string data."
   ]
  },
  {
   "cell_type": "markdown",
   "id": "17b503d6",
   "metadata": {},
   "source": [
    "## What is Data Journalism?\n",
    "\n",
    "Not to sound overly grandiose, but data journalism is much like our theoretical understanding of the universe itself: Changing and expanding all the time. It is art and science. It is a skill and a philosophy. And it can't be easily summarized in a single section of a textbook, so we're not going to do that. We'll take it in chunks, and maybe we'll get somewhere by the end. \n",
    "\n",
    "A simple way to think about data journalism is to think about it as using data as a source. \n",
    "\n",
    "\"It can be a really powerful and comprehensive source that can give sweeping answers to questions that people can't,\" said Ben Welsh, the news applications editor at Reuters. \"But to get the answers to those questions, we've got to learn how to ask in this more structured language of computer programming and data tables.\n",
    "\n",
    "\"And those methods really aren't that complicated.\"\n",
    "\n",
    "What you're about to learn in this series of tutorials is how to ask questions of data, the same way you would ask a source, using the structured language Ben describes. It's a very specific form, which for most people is unlike anything you've ever done before. \n",
    "\n",
    "But that's not a worry. \n",
    "\n",
    "Ask any data journalist about how they learned, and they'll all tell you they started from square one. MaryJo Webster, the data editor at the Star Tribune in Minneapolis, has been a journalist in the Twin Cities for more than 20 years. When she started as a professional, she had no data skills.\n",
    "\n",
    "\"I didn't even know spreadsheets existed when I was a beginner reporter,\" she said. \"I was covering the police beat, and I had to write about the city budget, and the police department's budget looked like it was going up a lot. So I had done the percentage change calculation year over year and saw that it was very high. Then I wanted to be able to say, how does that compare to all the other departments in the city?\"\n",
    "\n",
    "What did she do? She pulled out a calculator and started doing the calculations one by one. As she was doing this, a colleague walked by and suggested a spreadsheet. He showed her how to write a formula that would calculate percent change, and then how to apply that formula to every city department. Boom -- hours of tedious calculations done in one click.\n",
    "\n",
    "\"My jaw was on the floor going, what?\" Webster said. \"That was amazing to me.\"\n",
    "\n",
    "Soon, you will be able to take tens of thousands of rows of data and turn that into information that you can turn into a story or a graphic. You'll know how to ask questions of data, what number is the right number in this spot, and how to get answers that readers want -- what's the biggest, the smallest, the fastest growing, declining the quickest, the most dangerous, and many, many other things that make news."
   ]
  },
  {
   "cell_type": "markdown",
   "id": "52c6061d",
   "metadata": {},
   "source": [
    "## The Basics\n",
    "\n",
    "Python is a programming language, one specifically geared toward a wide range of applications including data analysis. Like all programming languages, it has certain built-in functions and you can interact with it in multiple ways. The first, and most basic, is the console or \"interpreter\". Think of the console like talking directly to Python. It's direct, but it has some drawbacks and some quirks we'll get into later.\n",
    "\n",
    "For now, we're going to use code cells in this notebook to interact with Python. You'll type commands into the code cells below and run them. Be sure that you're reading closely -- things like spaces, capitalization, and spelling all matter. Some things matter to the point that if you miss them, the code won't work. Other things are stylistic. It takes time and practice to know the difference.\n",
    "\n",
    "To be clear: Everyone makes mistakes. Everyone makes dumb mistakes. Everyone overlooks dumb mistakes for hours only to be shown the missing comma. *You aren't dumb*. You're like every single person who has ever tried to learn how to code.\n",
    "\n",
    "One of the most difficult hurdles for beginning students of mathematics to get over is notation. If you miss a day, tune out for a class, or just never get around to asking what something means, you'll be lost. So let's just cover some bases and make sure we all understand some ultra-basic notation.\n",
    "\n",
    "You might laugh at these, but someone reading them is looking up Gods on Wikipedia to thank. So do yourself a favor and refresh.\n",
    "\n",
    "| Symbol | Meaning        | Example |\n",
    "|--------|----------------|----------|\n",
    "| +      | addition       | 5+2     |\n",
    "| -      | subtraction    | 6-2     |\n",
    "| *      | multiplication | 7*2     |\n",
    "| /      | division       | 8/2     |\n",
    "| **     | exponent       | 2**3    |\n",
    "| sqrt() | square root    | import math; math.sqrt(4) |\n",
    "\n",
    "One of the most important and often overlooked concepts in basic math is the order that you do the calculations. When you have something like `5+5*5**2`, which gets done first?\n",
    "\n",
    "In math, and in code, order matters. If you must do A before you do B, then A needs to appear before and run before B. You need to keep track of when things happen.\n",
    "\n",
    "Thankfully, math teachers have provided us an easy to remember mnemonic that you probably learned in sixth grade and tried to forget until now.\n",
    "\n",
    "**PEMDAS** -- **P**arenthesis, **E**xponents, **M**ultiplication, **D**ivision, **A**ddition, **S**ubtraction\n",
    "\n",
    "What that means is when you look at a mathematical formula you do the calculations in the order PEMDAS tells you. Something in parenthesis? Do that first. Is there an exponent? Do that next. Multiplication or division? It's next and finally addition and subtraction. Knowing PEMDAS will save you from stupid mistakes down the road."
   ]
  },
  {
   "cell_type": "markdown",
   "id": "6ed08dbc",
   "metadata": {},
   "source": [
    "### Exercise 1: Using Python like a calculator\n",
    "\n",
    "*Write the code necessary to add 23 and 62 together.* In this case, it's super simple."
   ]
  },
  {
   "cell_type": "code",
   "execution_count": 7,
   "id": "2ae7c45a",
   "metadata": {},
   "outputs": [],
   "source": [
    "# Your code here"
   ]
  },
  {
   "cell_type": "markdown",
   "id": "b78341a1",
   "metadata": {},
   "source": [
    "Congrats, you've run some code. It's not very complex, and you knew the answer beforehand (maybe, probably), but you get the idea.\n",
    "\n",
    "### Exercise 2: A more complicated example\n",
    "\n",
    "Let's put you in Mary Jo Webster's shoes. Your editor has asked you to look at the latest rounds of population estimates for counties in {glue:text}`state`. There are {glue:text}`county_count` counties in {glue:text}`state`, and as much as I want to make you do all of them, let's just focus on the most populated: {glue:text}`largest_county`.\n",
    "\n",
    "What you need to know, and what Webster learned that day when she discovered data journalism, is the formula for percent change. Why are we using percent change? How can you compare Los Angeles County in California -- the largest by population in the country, and would be the 11th most populous state if it seceded -- to Loving County, Texas, the smallest county in the United States, with about 40 people in it? If 10 people move out of LA, no one is going to notice. If 10 people move out of Loving County, that's catastrophic. To compare them, you have to put them on a level playing field. We do that with percent change. \n",
    "\n",
    "The formula for percent change is easy. It's (new - old)/old. You take the most recent data you have, subtract the number from the oldest time period you're looking at, and the divide it by that same oldest number. \n",
    "\n",
    "As of the latest estimates, {glue:text}`largest_county` had {glue:text}`largest_county_pop_2023` residents in 2023 and {glue:text}`largest_county_pop_2022` in 2022. Fill in numbers into the formula and you'll be able to tell your editor how much {glue:text}`largest_county` changed in one year."
   ]
  },
  {
   "cell_type": "code",
   "execution_count": 8,
   "id": "863cf8d9",
   "metadata": {
    "tags": [
     "skip-execution"
    ]
   },
   "outputs": [
    {
     "ename": "NameError",
     "evalue": "name '____' is not defined",
     "output_type": "error",
     "traceback": [
      "\u001b[31m---------------------------------------------------------------------------\u001b[39m",
      "\u001b[31mNameError\u001b[39m                                 Traceback (most recent call last)",
      "\u001b[36mCell\u001b[39m\u001b[36m \u001b[39m\u001b[32mIn[8]\u001b[39m\u001b[32m, line 3\u001b[39m\n\u001b[32m      1\u001b[39m \u001b[38;5;66;03m# Calculate percent change using the formula (new - old)/old\u001b[39;00m\n\u001b[32m      2\u001b[39m \u001b[38;5;66;03m# Replace ____ with the appropriate values\u001b[39;00m\n\u001b[32m----> \u001b[39m\u001b[32m3\u001b[39m percent_change = (\u001b[43m____\u001b[49m - ____) / ____\n\u001b[32m      4\u001b[39m \u001b[38;5;28mprint\u001b[39m(\u001b[33mf\u001b[39m\u001b[33m\"\u001b[39m\u001b[33mPercent change: \u001b[39m\u001b[38;5;132;01m{\u001b[39;00mpercent_change\u001b[38;5;132;01m:\u001b[39;00m\u001b[33m.4f\u001b[39m\u001b[38;5;132;01m}\u001b[39;00m\u001b[33m\"\u001b[39m)\n\u001b[32m      6\u001b[39m \u001b[38;5;66;03m# This will check your answer\u001b[39;00m\n",
      "\u001b[31mNameError\u001b[39m: name '____' is not defined"
     ]
    }
   ],
   "source": [
    "# Calculate percent change using the formula (new - old)/old\n",
    "# Replace ____ with the appropriate values\n",
    "percent_change = (____ - ____) / ____\n",
    "print(f\"Percent change: {percent_change:.4f}\")\n",
    "\n",
    "# This will check your answer\n",
    "check_percentchange(percent_change, largest_county_pct_change)"
   ]
  },
  {
   "cell_type": "markdown",
   "id": "c673e585",
   "metadata": {},
   "source": [
    "## Variables\n",
    "\n",
    "So we've learned that we can compute things. We can also store things. **In programming languages, these are called variables**. We can assign things to variables using `=`. And then we can do things with them. **The `=` is called an assignment operator**.\n",
    "\n",
    "<div style=\"background-color: #d9edf7; padding: 10px; border-radius: 5px; margin: 10px 0;\">\n",
    "<h4>Key Concept</h4>\n",
    "<p>Variables store data. Could be a word, or number. Could be an entire dataset. And we assign that data to our variable with <code>=</code>.</p>\n",
    "</div>\n",
    "\n",
    "With variables, we can assign names to values. Let's try it.\n",
    "\n",
    "### Exercise 3: Variables\n",
    "\n",
    "One of the key concepts of programming that you'll need to learn is that most things are a pattern. You'll see that doing certain things takes the same form each time, and all you're doing is changing small parts of the pattern to fit what you want to do.\n",
    "\n",
    "Declaring variables is a pattern. The pattern here is `Name_Of_The_Thing = Value_Of_The_Thing`.\n",
    "\n",
    "Names can be anything you want them to be, but they have to be one word, and it's better if they have no numbers or symbols in it. So you can create a variable called {glue:text}`state`IsTheGreatestPlaceOnEarth if you want. But some questions for you: What is that variable going to contain? Is it obvious by the name? And do you want to try and type that again? How about three more times? Yeah, me neither."
   ]
  },
  {
   "cell_type": "markdown",
   "id": "d1064e14",
   "metadata": {},
   "source": [
    "### 5 Rules For Naming Variables\n",
    "\n",
    "1. One word, no spaces (use underscores or camelCase instead).\n",
    "2. If you must use a number, it has to be at the end, never at the beginning.\n",
    "3. No special characters except underscore.\n",
    "4. Keep them short, but never one letter. If your variable is holding the number of voters in a county, don't call it v.\n",
    "5. Make them understandable. If your variable is holding the number of voters in a county, call it `voters`. Keep it simple.\n",
    "\n",
    "The next thing we need to know about are the values. There's a bunch of different kinds of values, but two that we're going to work with the most are **strings** and **numbers**. A string is just text. Your name is a string. Your home address is a string. For the most part, strings aren't hard -- they're anything you wouldn't do math on. So, for example, your phone number is a string, even though it's made up of numbers. If we add your phone number to mine, do we get something meaningful? No. Same with ZIP codes. They're strings.\n",
    "\n",
    "**To record a string, you put it in quotes.** So `myname = \"Matt\"` is how to set the value of the variable myname to Matt.\n",
    "\n",
    "**To record a number, do *not* use quotes.** So `myage = 29` is how to set the value of the variable myage to 29, which is me wishfully thinking through variables.\n",
    "\n",
    "Where this becomes a problem is where you try to make a string into a number or try to do math with strings.\n",
    "\n",
    "In the cell below, create two variables called number1 and number2. Set number1 to 5 and number2 to \"5\" with the quotes. Then try adding number1 + number2. What happens?"
   ]
  },
  {
   "cell_type": "code",
   "execution_count": null,
   "id": "58c76b3b",
   "metadata": {},
   "outputs": [],
   "source": [
    "# Create your variables here and try to add them"
   ]
  },
  {
   "cell_type": "markdown",
   "id": "7d39e687",
   "metadata": {},
   "source": [
    "You get an error. `TypeError: unsupported operand type(s) for +: 'int' and 'str'` is Python's way of saying you tried to add 5 and \"5\" (which could just as easily be \"Zebra\"). You can't add those two things together because one is a number (int) and one is a string (str). To fix it, remove the quotes from the second variable.\n",
    "\n",
    "Let's do something more real and figure out what demographers call the natural population change in {glue:text}`largest_county`. The natural population change is simple -- you take how many people were born and subtract how many people died. If more people were born than died, you get natural population growth. If you get the opposite, you get natural population decline.\n",
    "\n",
    "To do this, we're going to create some variables -- one called born, one called died. In {glue:text}`largest_county`, {glue:text}`largest_county_born_2023` were born in 2023, and {glue:text}`largest_county_deaths_2023` died. Assign those numbers to born and died and then use born and died to calculate the natural population change."
   ]
  },
  {
   "cell_type": "markdown",
   "id": "584ba36e",
   "metadata": {},
   "source": [
    "Couple of things to pay attention to here: born is not Born, as died is not DIED is not DiEd and so on. Capitalization matters. The variables you are creating are `born` and `died`. Second: Commas in your numbers will break your code. Use 12345 not 12,345."
   ]
  },
  {
   "cell_type": "code",
   "execution_count": null,
   "id": "c7ef43b2",
   "metadata": {
    "tags": [
     "skip-execution"
    ]
   },
   "outputs": [],
   "source": [
    "# Create variables for births and deaths\n",
    "____ = ____\n",
    "____ = ____\n",
    "\n",
    "# Calculate natural change\n",
    "natural_change = ____ - ____\n",
    "print(f\"Natural population change: {natural_change}\")\n",
    "\n",
    "# Check your answer\n",
    "check_natural_change(natural_change, nat_change)"
   ]
  },
  {
   "cell_type": "markdown",
   "id": "c3ab86f1",
   "metadata": {},
   "source": [
    "You might be thinking ... that's interesting, but so what? And you'd be right -- you've figured out the natural population change for the largest county or county equivalent in your state. And it wasn't hard, but now do it for all 93 in Nebraska. Less fun, no? There must be a better way to do this. Please? There is, and we'll get there."
   ]
  },
  {
   "cell_type": "markdown",
   "id": "23b31f41",
   "metadata": {},
   "source": [
    "## Notebooks\n",
    "\n",
    "You're actually already working in a notebook! Jupyter Notebooks like this one are a place where we can combine text, where we explain our thinking, with code, where we do our work. Modern data science requires transparency. Notebooks are where we are transparent. Here is my data, here is my code, here is my thinking, you can see it all and judge for yourself.\n",
    "\n",
    "In a Jupyter Notebook:\n",
    "- Text explanations go in markdown cells (like this one)\n",
    "- Code goes in code cells (like the ones you've been using for exercises)\n",
    "- You can run each cell individually by clicking the play button or using Shift+Enter\n",
    "- Results appear below the code cell\n",
    "\n",
    "Jupyter Notebooks are ideal for data journalism because they allow you to:\n",
    "1. Document your process step by step\n",
    "2. Mix narrative and analysis\n",
    "3. Share your work with others who can see both your thinking and your results\n",
    "4. Create reproducible analysis that anyone can verify"
   ]
  },
  {
   "cell_type": "markdown",
   "id": "49356d7e",
   "metadata": {},
   "source": [
    "## The Recap\n",
    "\n",
    "In this lesson, we covered the essentials of Python programming for beginners. We learned how to use Python as a calculator, performing basic arithmetic operations and understanding the order of operations (PEMDAS). We then explored the concept of variables, learning how to create them, name them effectively, and assign different types of values (numbers and strings) to them. We practiced these skills by calculating the percentage change in population and natural population change, demonstrating how these basic concepts can be applied to real-world data analysis tasks. Remember, mastering these fundamentals is crucial as they form the foundation for more complex data journalism techniques we'll explore in future lessons."
   ]
  },
  {
   "cell_type": "markdown",
   "id": "9bbfac32",
   "metadata": {},
   "source": [
    "## Terms to Know\n",
    "\n",
    "- **Python**: A programming language widely used for data analysis, web development, and many other applications.\n",
    "- **Console/Interpreter**: The basic interface for interacting directly with Python, where commands are entered and executed line by line.\n",
    "- **Variable**: A named storage location in a program that holds a value, which can be a number, text, or other data types.\n",
    "- **Assignment operator (=)**: The symbol used in Python to assign a value to a variable (e.g., x = 5).\n",
    "- **String**: A data type representing text, enclosed in quotation marks (e.g., \"Hello, world!\").\n",
    "- **Numeric**: Data types representing numbers that can be used in mathematical operations (integers, floats).\n",
    "- **PEMDAS**: An acronym for the order of operations in mathematics (Parentheses, Exponents, Multiplication, Division, Addition, Subtraction).\n",
    "- **Function**: A reusable block of code that performs a specific task, often taking inputs and returning outputs.\n",
    "- **Syntax**: The set of rules that define how Python code must be written to be valid and executable.\n",
    "- **Data type**: A classification that specifies which type of value a variable can hold (e.g., int, float, str, bool).\n",
    "- **Jupyter Notebook**: An interactive computing environment that allows you to create and share documents containing live code, equations, visualizations, and narrative text."
   ]
  }
 ],
 "metadata": {
  "kernelspec": {
   "display_name": ".venv",
   "language": "python",
   "name": "python3"
  },
  "language_info": {
   "codemirror_mode": {
    "name": "ipython",
    "version": 3
   },
   "file_extension": ".py",
   "mimetype": "text/x-python",
   "name": "python",
   "nbconvert_exporter": "python",
   "pygments_lexer": "ipython3",
   "version": "3.12.4"
  }
 },
 "nbformat": 4,
 "nbformat_minor": 5
}
