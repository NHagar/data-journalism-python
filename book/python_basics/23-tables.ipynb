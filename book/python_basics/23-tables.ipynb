{
    "cells": [
        {
            "cell_type": "markdown",
            "metadata": {},
            "source": [
                "# Data Journalism Lesson 23: Tables\n",
                "\n",
                "Learn how to make a table with visual interestingness."
            ]
        },
        {
            "cell_type": "code",
            "execution_count": null,
            "id": "015e5d0d",
            "metadata": {
                "tags": [
                    "hide-input",
                    "thebe-init"
                ]
            },
            "outputs": [],
            "source": [
                "import warnings\n",
                "from IPython.core.interactiveshell import InteractiveShell\n",
                "\n",
                "# Keep hold of the real method\n",
                "_orig_should_run = InteractiveShell.should_run_async\n",
                "\n",
                "# Wrap it so that any DeprecationWarning it emits is silenced\n",
                "def should_run_async(self, code, *args, **kwargs):\n",
                "    with warnings.catch_warnings():\n",
                "        warnings.simplefilter(\"ignore\", category=DeprecationWarning)\n",
                "        return _orig_should_run(self, code, *args, **kwargs)\n",
                "\n",
                "# Apply the monkey‑patch\n",
                "InteractiveShell.should_run_async = should_run_async"
            ]
        },
        {
            "cell_type": "code",
            "execution_count": null,
            "id": "a46e4662",
            "metadata": {
                "tags": [
                    "hide-input",
                    "thebe-init",
                    "skip-execution"
                ]
            },
            "outputs": [],
            "source": [
                "import micropip\n",
                "await micropip.install('Jinja2')"
            ]
        },
        {
            "cell_type": "code",
            "execution_count": null,
            "metadata": {
                "tags": [
                    "hide-input",
                    "thebe-init"
                ]
            },
            "outputs": [],
            "source": [
                "from IPython.display import display, HTML\n",
                "import pandas as pd\n",
                "\n",
                "# --- Simple Grading/Checking Functions ---\n",
                "def display_feedback(correct, message_correct, message_incorrect):\n",
                "    if correct:\n",
                "        display(HTML(f'<div style=\"background-color: #dff0d8; padding: 10px; border-radius: 5px;\"><strong>Correct!</strong> {message_correct}</div>'))\n",
                "    else:\n",
                "        display(HTML(f'<div style=\"background-color: #f2dede; padding: 10px; border-radius: 5px;\"><strong>Not quite!</strong> {message_incorrect}</div>'))\n",
                "\n",
                "def check_df_creation(df, df_name, expected_shape=None, expected_cols=None, check_col_content=None):\n",
                "    if not isinstance(df, pd.DataFrame):\n",
                "        display_feedback(False, f'{df_name} is not a DataFrame.', 'Check your code.')\n",
                "        return False\n",
                "    correct = True\n",
                "    msg_incorrect_list = []\n",
                "\n",
                "    if expected_shape is not None and df.shape != expected_shape:\n",
                "        msg_incorrect_list.append(f'Expected shape {expected_shape}, got {df.shape}.')\n",
                "        correct = False\n",
                "    if expected_cols is not None:\n",
                "        actual_cols = sorted(list(df.columns))\n",
                "        expected_cols_sorted = sorted(expected_cols)\n",
                "        if actual_cols != expected_cols_sorted:\n",
                "            msg_incorrect_list.append(f'Expected columns {expected_cols_sorted}, got {actual_cols}.')\n",
                "            correct = False\n",
                "    if check_col_content is not None:\n",
                "       col, expected_val = check_col_content # e.g. ('col_name', some_value)\n",
                "       if col not in df.columns:\n",
                "           correct=False; msg_incorrect_list.append(f'Missing column {col}.')\n",
                "       elif not expected_val in df[col].values:\n",
                "           correct=False; msg_incorrect_list.append(f'Expected value {expected_val} not found in {col}.')\n",
                "\n",
                "    if correct:\n",
                "        display_feedback(True, f'{df_name} DataFrame created successfully.', '')\n",
                "    else:\n",
                "        display_feedback(False, '', ' '.join(msg_incorrect_list))\n",
                "    return correct\n",
                "\n",
                "def check_styler_property(styler, check_type, expected_value, property_path=None):\n",
                "    # Basic check for styler properties (e.g., caption, format)\n",
                "    actual_value = None\n",
                "    try:\n",
                "        if check_type == 'caption':\n",
                "            actual_value = styler.caption\n",
                "        elif check_type == 'formatter':\n",
                "            # This is simplified; formatters are complex\n",
                "            actual_value = styler.formatters\n",
                "            # A real check would inspect the formatter dict more deeply\n",
                "            if expected_value in str(actual_value): # Crude check for format string presence\n",
                "                actual_value = expected_value\n",
                "            else:\n",
                "                actual_value = None # Indicate mismatch\n",
                "        # Add more checks for styles, etc. if needed\n",
                "    except Exception as e:\n",
                "        print(f\"Error checking styler property: {e}\")\n",
                "        display_feedback(False, '', f'Could not check {check_type}.')\n",
                "        return\n",
                "\n",
                "    if actual_value == expected_value:\n",
                "        display_feedback(True, f'{check_type.capitalize()} seems correct.', '')\n",
                "    else:\n",
                "        display_feedback(False, '', f'{check_type.capitalize()} seems incorrect. Expected {expected_value}, Got {actual_value}.')\n"
            ]
        },
        {
            "cell_type": "code",
            "execution_count": null,
            "metadata": {
                "tags": [
                    "hide-input",
                    "thebe-init"
                ]
            },
            "outputs": [],
            "source": [
                "# --- State Setup and Data Loading ---\n",
                "default_state_abbr = 'MN'\n",
                "state_full_name = 'Minnesota'\n",
                "\n",
                "uninsured_data_url = f\"../_static/uninsured/{state_full_name.lower().replace(' ', '-')}.csv\"\n",
                "uninsured_df_initial = pd.read_csv(uninsured_data_url)\n",
                "uninsuredrows_expected = len(uninsured_df_initial)\n",
                "\n",
                "# Pre-calculate expected top10 for checks if possible\n",
                "top10_expected_df = pd.DataFrame() # Default to empty\n",
                "temp_df = uninsured_df_initial.copy()\n",
                "# Ensure columns are numeric for calculation\n",
                "temp_df['nui_pt'] = pd.to_numeric(temp_df['nui_pt'], errors='coerce')\n",
                "temp_df['nic_pt'] = pd.to_numeric(temp_df['nic_pt'], errors='coerce')\n",
                "temp_df = temp_df.dropna(subset=['nui_pt', 'nic_pt']) # Drop rows where values are missing\n",
                "denominator = temp_df['nui_pt'] + temp_df['nic_pt']\n",
                "# Avoid division by zero\n",
                "temp_df['percent_uninsured'] = temp_df['nui_pt'].divide(denominator).fillna(0)\n",
                "# Handle cases where denominator might be zero\n",
                "temp_df.loc[denominator == 0, 'percent_uninsured'] = 0 \n",
                "top10_expected_df = temp_df.nlargest(10, 'percent_uninsured')\n",
                "# Ensure expected columns for later steps\n",
                "top10_expected_df = top10_expected_df[['ctyname', 'nic_pt', 'nui_pt', 'percent_uninsured']]\n",
                "top10_expected_df = top10_expected_df.sort_values(by='percent_uninsured', ascending=False).reset_index(drop=True)"
            ]
        },
        {
            "cell_type": "code",
            "execution_count": null,
            "id": "393b04d0",
            "metadata": {
                "tags": [
                    "hide-input",
                    "hide-output"
                ]
            },
            "outputs": [],
            "source": [
                "from myst_nb import glue\n",
                "\n",
                "glue(\"state_full_name\", state_full_name, display=False)\n",
                "glue(\"uninsured_csv_name\", f\"{state_full_name.lower().replace(' ', '-')}.csv\", display=False)\n",
                "glue(\"uninsuredrows_expected\", uninsuredrows_expected, display=False)"
            ]
        },
        {
            "cell_type": "markdown",
            "metadata": {},
            "source": [
                "## The Goal\n",
                "\n",
                "In this lesson, you'll learn how to create informative and visually appealing tables using the pandas Styler API. By the end of this tutorial, you'll understand how to structure data for table creation, customize table elements such as headers and labels using method chaining, and apply styling (like formatting, alignment, and conditional coloring) to enhance readability. You'll practice these skills using real-world data on estimates of people who have health insurance, gaining practical experience in presenting complex information in a clear, tabular format. This ability to create professional-looking tables directly from your DataFrames will be invaluable for effectively communicating data findings in your journalism projects."
            ]
        },
        {
            "cell_type": "markdown",
            "metadata": {},
            "source": [
                "## Why Visualize Data?\n",
                "\n",
                "There are few graphical forms of data more criticized than the data table. For a long time, they were all there was. And they were used heavily – and not particularly creatively. And people knew it wasn’t good.\n",
                "\n",
                "“Information, that is imperfectly acquired, is generally as imperfectly retained; and a man who has carefully investigated a printed table, finds, when done, that he has only a very faint and partial idea of what he has read; and that like a figure imprinted on sand, is soon totally erased and defaced,” Playfair wrote in 1786.\n",
                "\n",
                "Fast forward nearly 200 years, Tufte gives a little more room and grace to the table, but only under limited circumstances. And he has no love for pie charts.\n",
                "\n",
                "“Tables are clearly the best way to show exact numerical values, although the entries can also be arranged in semi-graphical form,” Tufte wrote. “Tables are preferable to graphics for many small data sets. A table is nearly always better than a dumb pie chart; the only worse design than a pie chart is several of them, for then the viewer is asked to compare quantities located in spatial disarray both within and between pies, as in this heavily encoded example from an atlas. Given their low data-density and failure to order numbers along a visual dimension, pie charts should never be used.”\n",
                "\n",
                "So a table is better than a pie chart, which should never be used. Got it.\n",
                "\n",
                "But now more than 40 years after Tufte first published The Visual Display of Quantitative Information, tables have evolved a bit further. Tables are still excellent at showing exact numerical values, but now we can incorporate more. Color, gradients, even graphics in each row.\n",
                "\n",
                "Let’s explore."
            ]
        },
        {
            "cell_type": "markdown",
            "metadata": {},
            "source": [
                "## The Basics\n",
                "\n",
                "A table is the most simple form of data presentation. Tables have been around for millennia. We've improved on them since, so we're not just making a basic table. We're making a table with features.\n",
                "\n",
                "What features you ask? Because the library we're using today (`pandas.style`) is different from plotting libraries like Plotly or Seaborn, we're going to incorporate some best practices for presenting data, including necessary contextual elements. There are some exceptions to this rule, but not many, and used only by people who really, really know what they’re doing. The rest of us should live by every chart having these parts:\n",
                "\n",
                "1. A headline.\n",
                "2. Explanatory text under the headline, called chatter in the business.\n",
                "3. A source line, where you say where you got the data from.\n",
                "4. A credit line, where you put your name on the chart. All the glory and all the blame belong to you.\n",
                "\n",
                "There are more parts that your chart might need – annotations, arrows, shapes to indicate regions – and we’ve talked about using color to draw a reader’s eye, but every chart needs those four. So we’re going to build a table with those four things … and some color to draw the eye.\n",
                "\n",
                "Why a table? Sometimes, the best way to show your data is with a table – simple rows and columns. It allows a reader to compare whatever they want to compare a little easier than a graph where you’ve chosen what to highlight.\n",
                "\n",
                "We will use the pandas library, specifically the `Styler` object available via `DataFrame.style`, which allows method chaining to apply formatting and styles."
            ]
        },
        {
            "cell_type": "code",
            "execution_count": null,
            "metadata": {
                "tags": [
                    "skip-execution"
                ]
            },
            "outputs": [],
            "source": [
                "import pandas as pd"
            ]
        },
        {
            "cell_type": "markdown",
            "metadata": {},
            "source": [
                "This is being written in the middle of a presidential election that seems like it never ended from the last one, and I have a terrible feeling that the next one will start as soon as this one is over. A permanent campaign issue seems to be health care -- who should get it, how it should be paid for, etc. It's such an issue that the Census Bureau has a program called the Small Area Health Insurance Estimates (SAHIE) program, which ... you guessed it ... estimates the number of people who have health insurance in an area. It's an estimate, based on a model, but it's the best we've got if you've got a question about differences in your state when it comes to health insurance coverage. \n",
                "\n",
                "Let's take a look."
            ]
        },
        {
            "cell_type": "code",
            "execution_count": null,
            "metadata": {
                "tags": [
                    "skip-execution"
                ]
            },
            "outputs": [],
            "source": [
                "uninsured_df = pd.read_csv(\"../_static/uninsured/Minnesota.csv\")"
            ]
        },
        {
            "cell_type": "markdown",
            "id": "3c81a5b5",
            "metadata": {},
            "source": [
                "Tables, like bar charts, beeswarms, waffles and a few others, can only fit so many rows of data. Generally speaking, tables are great at top 10 lists. Even top 20 can work if you’ve got the space and your readers have the time. So let’s first take a quick peek at our data and then we’re going to make a list of the 10 counties with the largest percentage of uninsured people."
            ]
        },
        {
            "cell_type": "code",
            "execution_count": null,
            "id": "1da806db",
            "metadata": {
                "tags": [
                    "skip-execution"
                ]
            },
            "outputs": [],
            "source": [
                "display(uninsured_df.head())"
            ]
        },
        {
            "cell_type": "markdown",
            "metadata": {},
            "source": [
                "The column `nic_pt` represents the number of insured people, and the column `nui_pt` represents the number of uninsured people. One thing to realize about this data: If you add up the insured people (`nic_pt`) and the uninsured people (`nui_pt`), you will **not** necessarily get the total population of the county. Why? The answer is pretty simple, once you think about it – in the United States, Medicare kicks in for people 65 and over. If you dig into the SAHIE docs, they cut their data off at 64. What this all means is that the numbers we’re looking at are the estimates of non-Medicare aged people. So something to keep in mind when wording certain things later."
            ]
        },
        {
            "cell_type": "markdown",
            "metadata": {},
            "source": [
                "### Exercise 1: Making a top 10 list\n",
                "\n",
                "To make a top 10 list, we have to convert our numbers into percentages first, then use `nlargest` to get that list. We’re going to calculate the percentage of uninsured people.\n",
                "\n",
                "```{admonition} Key Concept\n",
                "Calculating a percentage is taking the small thing – the component – and dividing it by the total things. So if five students in a class of 20 are left-handed, the percentage is 5/20.\n",
                "```\n",
                "\n",
                "We don’t have the total number of insurable people, so we’ll have to add our two insurance estimate numbers together to get it. Then we’ll name our new dataframe `top10_df`."
            ]
        },
        {
            "cell_type": "code",
            "execution_count": null,
            "metadata": {
                "tags": [
                    "skip-execution"
                ]
            },
            "outputs": [],
            "source": [
                "temp_df = uninsured_df.copy()\n",
                "denominator = temp_df['_____'] + temp_df['_____']\n",
                "temp_df['percent_uninsured'] = temp_df['nui_pt'].divide(_____)\n",
                "\n",
                "# Get top 10\n",
                "top10_df = temp_df.nlargest(n=_____, columns=____)\n",
                "\n",
                "display(top10_df)"
            ]
        },
        {
            "cell_type": "markdown",
            "metadata": {},
            "source": [
                "Now, you can display a basic table in a Jupyter notebook just by having the DataFrame as the last item in a cell. Pandas renders it as HTML."
            ]
        },
        {
            "cell_type": "code",
            "execution_count": null,
            "metadata": {
                "tags": [
                    "skip-execution"
                ]
            },
            "outputs": [],
            "source": [
                "top10_df "
            ]
        },
        {
            "cell_type": "markdown",
            "metadata": {},
            "source": [
                "So there you have it. You made a table. You're done, right? Not hardly. That default table is functional but not very presentable.\n",
                "\n",
                "The pandas Styler API (`df.style`) provides many customization options using method chaining.\n",
                "\n",
                "### Exercise 2: Limiting column names, fixing column names\n",
                "\n",
                "We’ll start with limiting the number of columns. For this table, let’s select the county name, the insured people, the uninsured people, and the percent uninsured in that order. While we’re at it, let’s add an arrange so we get them in order by percent uninsured.\n",
                "\n",
                "Then, the header names for those columns are terrible. No one can read them beyond some very nerdy people (like us). We need to fix them. The way this works is we need to tell cols_label what columns we want to change and what we want to change them into. They go in that order – column name from the data: “New Name I Want To Show People”."
            ]
        },
        {
            "cell_type": "code",
            "execution_count": null,
            "metadata": {
                "tags": [
                    "skip-execution"
                ]
            },
            "outputs": [],
            "source": [
                "cols_to_keep = ['ctyname', 'nic_pt', 'nui_pt', 'percent_uninsured']\n",
                "rename_map = {\n",
                "    'ctyname': 'County',\n",
                "    'nic_pt': 'Insured people',\n",
                "    'nui_pt': 'Uninsured people', \n",
                "    'percent_uninsured': 'Percent uninsured'\n",
                "}\n",
                "\n",
                "top10_formatted_df = top10_df[_____].sort_values(by=____, ascending=____)\n",
                "top10_formatted_df = top10_formatted_df.rename(columns=____)\n",
                "\n",
                "display(top10_formatted_df)\n",
                "\n",
                "check_df_creation(top10_formatted_df, 'top10_formatted_df', \n",
                "                  expected_shape=(len(top10_formatted_df), 4), \n",
                "                  expected_cols=list(rename_map.values()))"
            ]
        },
        {
            "cell_type": "markdown",
            "metadata": {},
            "source": [
                "Better. The columns are selected, sorted, and renamed. Now we can start working with the Styler object to add presentation elements.\n",
                "\n",
                "### Exercise 3: Styling, part 1 - Headers\n",
                "\n",
                "The truth is most of your code in tables is going to be dedicated to styling specific things. First we need: A headline and some chatter. They’re required parts of a graphic so they’re a good place to start. The Styler API uses `.set_caption()` for this. We can use HTML within the caption string for basic formatting like line breaks (`<br>`)."
            ]
        },
        {
            "cell_type": "code",
            "execution_count": null,
            "metadata": {
                "tags": [
                    "skip-execution"
                ]
            },
            "outputs": [],
            "source": [
                "# Start with the formatted DataFrame and apply .style\n",
                "styler_ex3 = top10_formatted_df.style\n",
                "\n",
                "title_text = \"Where are the most uninsured people?\"\n",
                "subtitle_text = \"Here are the top counties in the state by uninsured percentage, according to the Census Bureau.\"\n",
                "caption_html = f\"<b>{title_text}</b><br>{subtitle_text}\"\n",
                "\n",
                "styler_ex3.set_caption(____)\n",
                "\n",
                "display(styler_ex3)"
            ]
        },
        {
            "cell_type": "markdown",
            "metadata": {},
            "source": [
                "We have a headline and some chatter, but … gross. Centered? The extra lines? No real difference in font weight? We can do better.\n",
                "\n",
                "### Exercise 4: Changing typography\n",
                "\n",
                "We can style table elements like the caption using CSS via `.set_table_styles()`. This method takes a list of dictionaries, where each dictionary specifies a CSS selector and the properties to apply.\n",
                "\n",
                "Let's left-align the caption (which contains our title and subtitle). The selector for the caption element is `'caption'`."
            ]
        },
        {
            "cell_type": "code",
            "execution_count": null,
            "metadata": {
                "tags": [
                    "skip-execution"
                ]
            },
            "outputs": [],
            "source": [
                "# Start with the Styler object from Ex 3\n",
                "# styler_ex3 = top10_formatted_df.style.set_caption(caption_html)\n",
                "styler_ex4 = top10_formatted_df.style.set_caption(caption_html) # Recreate for this step\n",
                "\n",
                "styler_ex4.set_table_styles([\n",
                "    {'selector': 'caption', \n",
                "     'props': [('text-align', 'left'), \n",
                "               ('font-size', '1.1em'), # Slightly larger caption\n",
                "               ('font-weight', 'bold'), # Make entire caption bold initially\n",
                "               ('margin-bottom', '10px')]}\n",
                "], overwrite=False)\n",
                "\n",
                "display(styler_ex4)"
            ]
        },
        {
            "cell_type": "markdown",
            "metadata": {},
            "source": [
                "### Exercise 5: Adding source and credit lines\n",
                "\n",
                "The next items on the required elements list are Source and Credit lines. The common ways to add this are:\n",
                "1.  Include it in the caption (often at the end).\n",
                "2.  Add it as a separate markdown cell below the table display.\n",
                "\n",
                "Let's add it to the caption for simplicity in this exercise. We'll use HTML `<em>` tags for italics and line breaks."
            ]
        },
        {
            "cell_type": "code",
            "execution_count": null,
            "metadata": {
                "tags": [
                    "skip-execution"
                ]
            },
            "outputs": [],
            "source": [
                "# Define components\n",
                "title_text = \"Where are the most uninsured people?\"\n",
                "subtitle_text = \"Top counties in the state by uninsured percentage, according to the Census Bureau.\"\n",
                "source_credit_text = \"<em>Source: US Census Bureau | By: Your Name</em>\"\n",
                "\n",
                "# Combine into caption with HTML breaks\n",
                "full_caption_html = f\"<b>{title_text}</b><br>{subtitle_text}<br><br>{source_credit_text}\"\n",
                "\n",
                "# Apply to styler\n",
                "styler_ex5 = top10_formatted_df.style.set_caption(____)\n",
                "\n",
                "# Apply previous alignment style\n",
                "styler_ex5.set_table_styles([\n",
                "    {'selector': 'caption', \n",
                "     'props': [('text-align', 'left'), \n",
                "               ('font-size', '1.0em'), # Reset font size slightly\n",
                "               ('margin-bottom', '10px')]}\n",
                "], overwrite=False)\n",
                "\n",
                "display(styler_ex5)"
            ]
        },
        {
            "cell_type": "markdown",
            "metadata": {},
            "source": [
                "## More styling\n",
                "\n",
                "We can do a lot with table styling. For instance, we can make the headers bold and reduce the size a bit to reduce font congestion in the area."
            ]
        },
        {
            "cell_type": "code",
            "execution_count": null,
            "metadata": {
                "tags": [
                    "skip-execution"
                ]
            },
            "outputs": [],
            "source": [
                "# Start with Styler object from Ex5\n",
                "styler_step7 = top10_formatted_df.style.set_caption(full_caption_html)\n",
                "styler_step7.set_table_styles([\n",
                "    {'selector': 'caption', 'props': [('text-align', 'left'), ('font-size', '1.0em'), ('margin-bottom', '10px')]},\n",
                "    {'selector': 'th', # Target column headers\n",
                "     'props': [('text-align', 'left'), \n",
                "               ('font-weight', 'bold'), \n",
                "               ('font-size', '0.9em'), # Slightly smaller \n",
                "               ('border-bottom', '2px solid black')]}\n",
                "], overwrite=True) # Overwrite previous styles if needed, or set to False to append\n",
                "\n",
                "display(styler_step7)"
            ]
        },
        {
            "cell_type": "markdown",
            "metadata": {},
            "source": [
                "Next up: There’s a lot of lines in this that don’t need to be there. We can get rid of them easily and add in some other readability improvements.\n",
                "\n",
                "We can also format percentages without having to go back to the original data."
            ]
        },
        {
            "cell_type": "code",
            "execution_count": null,
            "metadata": {
                "tags": [
                    "skip-execution"
                ]
            },
            "outputs": [],
            "source": [
                "# Start with Styler object from previous step\n",
                "styler_step8 = top10_formatted_df.style.set_caption(full_caption_html)\n",
                "\n",
                "# Apply formatting first\n",
                "styler_step8.format({'Percent uninsured': \"{:.1%}\", # Format as percentage\n",
                "                      'Insured people': \"{:,.0f}\", # Add comma separators\n",
                "                      'Uninsured people': \"{:,.0f}\"}) # Add comma separators\n",
                "\n",
                "# Apply CSS Styles\n",
                "styler_step8.set_table_styles([\n",
                "    # Caption style\n",
                "    {'selector': 'caption', 'props': [('text-align', 'left'), ('font-size', '1.0em'), ('margin-bottom', '10px')]},\n",
                "    # Header style\n",
                "    {'selector': 'th', 'props': [('text-align', 'left'), ('font-weight', 'bold'), ('font-size', '0.9em'), ('border-bottom', '2px solid black')]},\n",
                "    # Remove cell borders\n",
                "    {'selector': 'td, th', 'props': [('border-style', 'none')]},\n",
                "    # Add row striping (targeting even rows in the table body)\n",
                "    {'selector': 'tbody tr:nth-child(even)', 'props': [('background-color', '#f2f2f2')]}\n",
                "], overwrite=True)\n",
                "\n",
                "# Hide the index\n",
                "styler_step8.hide(axis='index')\n",
                "\n",
                "display(styler_step8)"
            ]
        },
        {
            "cell_type": "markdown",
            "metadata": {},
            "source": [
                "**Conditional Formatting:** Throughout this series, we've been using color and other signals to highlight things. With the Styler's `.apply()` method, we can apply CSS styles conditionally based on data values. \n",
                "\n",
                "Let's highlight the row for the county with the largest *number* of uninsured people (`Uninsured people` column, originally `nui_pt`). We'll define a function that checks if a row's value matches the maximum and returns the CSS string if it does."
            ]
        },
        {
            "cell_type": "code",
            "execution_count": null,
            "metadata": {
                "tags": [
                    "skip-execution"
                ]
            },
            "outputs": [],
            "source": [
                "# Start with Styler object from previous step\n",
                "styler_step9 = top10_formatted_df.style\n",
                "\n",
                "# --- Apply all formatting and styling from previous steps --- \n",
                "styler_step9.format({'Percent uninsured': \"{:.1%}\", \n",
                "                      'Insured people': \"{:,.0f}\", \n",
                "                      'Uninsured people': \"{:,.0f}\"}) \n",
                "styler_step9.set_caption(full_caption_html)\n",
                "styler_step9.set_table_styles([\n",
                "    {'selector': 'caption', 'props': [('text-align', 'left'), ('font-size', '1.0em'), ('margin-bottom', '10px')]},\n",
                "    {'selector': 'th', 'props': [('text-align', 'left'), ('font-weight', 'bold'), ('font-size', '0.9em'), ('border-bottom', '2px solid black')]},\n",
                "    {'selector': 'td, th', 'props': [('border-style', 'none')]},\n",
                "    {'selector': 'tbody tr:nth-child(even)', 'props': [('background-color', '#f2f2f2')]}\n",
                "], overwrite=True)\n",
                "styler_step9.hide(axis='index')\n",
                "# --- End of reapplying previous styles ---\n",
                "\n",
                "# --- Add conditional formatting --- \n",
                "# Find the max value in the original numeric column BEFORE formatting\n",
                "max_uninsured_value = top10_df['nui_pt'].max() # Use original data for comparison\n",
                "\n",
                "def highlight_max_uninsured(row):\n",
                "    # Compare the 'Uninsured people' value in the formatted df \n",
                "    # This requires knowing the *original* column name used to find the max\n",
                "    # We need access to the original DataFrame's value for the comparison row\n",
                "    # A common pattern is to apply based on index or pass the original df\n",
                "    \n",
                "    # Let's re-find the corresponding original value using the County name (assuming unique)\n",
                "    original_nui_value = top10_df.loc[top10_df['ctyname'] == row['County'], 'nui_pt'].iloc[0]\n",
                "    \n",
                "    if original_nui_value == max_uninsured_value:\n",
                "        return ['background-color: red; color: white'] * len(row)\n",
                "    else:\n",
                "        return [''] * len(row) # No style for other rows\n",
                "\n",
                "styler_step9.apply(highlight_max_uninsured, axis=1)\n",
                "\n",
                "display(styler_step9)"
            ]
        },
        {
            "cell_type": "markdown",
            "metadata": {},
            "source": [
                "We’ve arrived where we want to be: We’ve created a clear table that allows a reader to compare counties at will while also using color to draw attention to the thing we want to draw attention to. **We’ve kept it simple so the color has impact.**\n",
                "\n",
                "Note for tables: Copy and paste is your friend. This looks like a lot of code, but 90 percent of it is copy, paste, edit slightly and move on. Once you develop a style on tables, you’ll copy and paste that over and over again and adjust for your new column names. Getting your first one done is a lot of work. Getting your second one done takes minutes."
            ]
        },
        {
            "cell_type": "markdown",
            "metadata": {},
            "source": [
                "## The Recap\n",
                "\n",
                "Throughout this lesson, you’ve mastered the art of creating sophisticated tables using gt. You’ve learned to transform raw data into structured, easy-to-read tables by customizing headers, applying styles, and highlighting key information. Remember, effective tables strike a balance between informativeness and visual appeal. You’ll find that well-designed tables can be powerful tools for presenting complex data in a format that’s accessible to your audience. Keep experimenting with different styling options to find the perfect balance for your specific data and story needs."
            ]
        },
        {
            "cell_type": "markdown",
            "metadata": {},
            "source": [
                "## Terms to Know\n",
                "\n",
                "- **pandas Styler (`DataFrame.style`)**: An object returned by `df.style` that allows applying conditional formatting and other styles to DataFrames for display.\n",
                "- **Method Chaining**: Applying multiple methods sequentially to an object (like the Styler object), e.g., `df.style.format(...).set_caption(...).hide(axis='index')`.\n",
                "- **`.format()`**: A Styler method to apply string formatting (like percentages, commas, decimal places) to specific columns.\n",
                "- **`.set_caption()`**: A Styler method to add a table caption (can include title, subtitle, etc., often using HTML).\n",
                "- **`.set_table_styles()`**: A Styler method to apply CSS styles to table elements (like `caption`, `th`, `td`, `tr`) using selectors.\n",
                "- **`.apply()`**: A Styler method to apply a function row-wise, column-wise, or table-wise to determine CSS styles based on data values (for conditional formatting).\n",
                "- **`.hide(axis='index')`**: A Styler method to hide the DataFrame index when displaying the table.\n",
                "- **CSS Selectors**: Used within `set_table_styles` to target specific HTML elements of the table for styling (e.g., `'th'` for headers, `'tbody tr:nth-child(even)'` for even rows)."
            ]
        }
    ],
    "metadata": {
        "kernelspec": {
            "display_name": "Python 3",
            "language": "python",
            "name": "python3"
        },
        "language_info": {
            "codemirror_mode": {
                "name": "ipython",
                "version": 3
            },
            "file_extension": ".py",
            "mimetype": "text/x-python",
            "name": "python",
            "nbconvert_exporter": "python",
            "pygments_lexer": "ipython3",
            "version": "3.11"
        },
        "mystnb": {
            "execution_mode": "cache"
        }
    },
    "nbformat": 4,
    "nbformat_minor": 5
}
