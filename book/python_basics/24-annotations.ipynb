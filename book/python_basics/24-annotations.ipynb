{
    "cells": [
        {
            "cell_type": "markdown",
            "metadata": {},
            "source": [
                "# Data Journalism Lesson 24: The importance of text\n",
                "\n",
                "Learn how to add important labels and annotations to your charts."
            ]
        },
        {
            "cell_type": "code",
            "execution_count": null,
            "metadata": {
                "tags": [
                    "hide-input",
                    "thebe-init"
                ]
            },
            "outputs": [],
            "source": [
                "import warnings\n",
                "from IPython.core.interactiveshell import InteractiveShell\n",
                "\n",
                "# Keep hold of the real method\n",
                "_orig_should_run = InteractiveShell.should_run_async\n",
                "\n",
                "# Wrap it so that any DeprecationWarning it emits is silenced\n",
                "def should_run_async(self, code, *args, **kwargs):\n",
                "    with warnings.catch_warnings():\n",
                "        warnings.simplefilter(\"ignore\", category=DeprecationWarning)\n",
                "        return _orig_should_run(self, code, *args, **kwargs)\n",
                "\n",
                "# Apply the monkey‑patch\n",
                "InteractiveShell.should_run_async = should_run_async"
            ]
        },
        {
            "cell_type": "code",
            "execution_count": null,
            "metadata": {
                "tags": [
                    "hide-input",
                    "thebe-init",
                    "skip-execution"
                ]
            },
            "outputs": [],
            "source": [
                "import micropip\n",
                "await micropip.install('plotly')\n",
                "await micropip.install('nbformat>=4.2.0') "
            ]
        },
        {
            "cell_type": "code",
            "execution_count": null,
            "metadata": {
                "tags": [
                    "hide-input",
                    "thebe-init"
                ]
            },
            "outputs": [],
            "source": [
                "from IPython.display import display, HTML\n",
                "import pandas as pd\n",
                "\n",
                "# --- Simple Grading/Checking Functions ---\n",
                "def display_feedback(correct, message_correct, message_incorrect):\n",
                "    \"\"\"Displays feedback message in an HTML div based on correctness.\"\"\"\n",
                "    if correct:\n",
                "        display(HTML(f'<div style=\"background-color: #dff0d8; color: #3c763d; border: 1px solid #d6e9c6; padding: 10px; border-radius: 5px;\"><strong>Correct!</strong> {message_correct}</div>'))\n",
                "    else:\n",
                "        display(HTML(f'<div style=\"background-color: #f2dede; color: #a94442; border: 1px solid #ebccd1; padding: 10px; border-radius: 5px;\"><strong>Not quite!</strong> {message_incorrect}</div>'))\n",
                "\n",
                "def check_exercise_dataframe(inputted_df, expected_df_shape=None, expected_columns=None, check_content_sample=None):\n",
                "    \"\"\"Checks if the inputted_df is a DataFrame and meets basic structural expectations.\"\"\"\n",
                "    if not isinstance(inputted_df, pd.DataFrame):\n",
                "        display_feedback(False, \"\", \"The result is not a Pandas DataFrame.\")\n",
                "        return False\n",
                "\n",
                "    if expected_df_shape is not None and inputted_df.shape[0] < expected_df_shape[0]: # Check minimum rows\n",
                "        display_feedback(False, \"\", f\"The DataFrame has {inputted_df.shape[0]} rows, but expected at least {expected_df_shape[0]}.\")\n",
                "        return False\n",
                "\n",
                "    if expected_columns is not None:\n",
                "        missing_cols = [col for col in expected_columns if col not in inputted_df.columns]\n",
                "        if missing_cols:\n",
                "            display_feedback(False, \"\", f\"The DataFrame is missing the following columns: {missing_cols}.\")\n",
                "            return False\n",
                "\n",
                "    # Simple content check (can be expanded)\n",
                "    if check_content_sample is not None:\n",
                "         # This is a placeholder for more complex content checks if needed.\n",
                "         pass\n",
                "\n",
                "    display_feedback(True, \"DataFrame structure and basic checks passed!\", \"\")\n",
                "    return True\n",
                "\n",
                "def check_plot_elements(fig, expected_elements):\n",
                "    \"\"\"Checks various elements of a Plotly figure against expected values.\"\"\"\n",
                "    messages = []\n",
                "    all_correct = True\n",
                "\n",
                "    # Check title\n",
                "    if \"title\" in expected_elements:\n",
                "        if fig.layout.title and fig.layout.title.text and expected_elements[\"title\"] in fig.layout.title.text:\n",
                "            messages.append(\"Title is correct.\")\n",
                "        else:\n",
                "            messages.append(f\"Title is incorrect or missing. Expected to contain: '{expected_elements['title']}', Got: '{fig.layout.title.text if fig.layout.title else None}'.\")\n",
                "            all_correct = False\n",
                "\n",
                "    # Check subtitle (often part of title or as an annotation)\n",
                "    if \"subtitle\" in expected_elements:\n",
                "        subtitle_found = False\n",
                "        if fig.layout.title and fig.layout.title.text and expected_elements[\"subtitle\"] in fig.layout.title.text:\n",
                "            subtitle_found = True\n",
                "            messages.append(\"Subtitle is correct (found in title).\")\n",
                "        else:\n",
                "            for anno in fig.layout.annotations:\n",
                "                if anno.text == expected_elements[\"subtitle\"]:\n",
                "                    subtitle_found = True\n",
                "                    messages.append(\"Subtitle is correct (found as annotation).\")\n",
                "                    break\n",
                "        if not subtitle_found:\n",
                "            messages.append(f\"Subtitle is incorrect or not found. Expected in title or as annotation: '{expected_elements['subtitle']}'.\")\n",
                "            all_correct = False\n",
                "\n",
                "    # Check axis labels\n",
                "    if \"xaxis_title\" in expected_elements:\n",
                "        if fig.layout.xaxis and fig.layout.xaxis.title and fig.layout.xaxis.title.text == expected_elements[\"xaxis_title\"]:\n",
                "            messages.append(\"X-axis label is correct.\")\n",
                "        else:\n",
                "            messages.append(f\"X-axis label is incorrect. Expected: '{expected_elements['xaxis_title']}', Got: '{fig.layout.xaxis.title.text if fig.layout.xaxis and fig.layout.xaxis.title else None}'.\")\n",
                "            all_correct = False\n",
                "    if \"yaxis_title\" in expected_elements:\n",
                "        if fig.layout.yaxis and fig.layout.yaxis.title and fig.layout.yaxis.title.text == expected_elements[\"yaxis_title\"]:\n",
                "            messages.append(\"Y-axis label is correct.\")\n",
                "        else:\n",
                "            messages.append(f\"Y-axis label is incorrect. Expected: '{expected_elements['yaxis_title']}', Got: '{fig.layout.yaxis.title.text if fig.layout.yaxis and fig.layout.yaxis.title else None}'.\")\n",
                "            all_correct = False\n",
                "\n",
                "    # Check caption (usually an annotation)\n",
                "    if \"caption\" in expected_elements:\n",
                "        caption_found = False\n",
                "        for anno in fig.layout.annotations:\n",
                "            if anno.text == expected_elements[\"caption\"]:\n",
                "                caption_found = True\n",
                "                break\n",
                "        if caption_found:\n",
                "            messages.append(\"Caption is present.\")\n",
                "        else:\n",
                "            present_annos = [anno.text for anno in fig.layout.annotations]\n",
                "            messages.append(f\"Caption annotation not found or incorrect. Expected: '{expected_elements['caption']}'. Found annotations: {present_annos}\")\n",
                "            all_correct = False\n",
                "            \n",
                "    # Check for vline\n",
                "    if \"vline_x\" in expected_elements:\n",
                "        vline_found = any(shape.type == 'line' and shape.x0 == expected_elements[\"vline_x\"] and shape.x1 == expected_elements[\"vline_x\"] for shape in fig.layout.shapes if shape.type == 'line')\n",
                "        if vline_found:\n",
                "            messages.append(f\"Vertical line at x={expected_elements['vline_x']:.2f} is present.\")\n",
                "        else:\n",
                "            messages.append(f\"Vertical line at x={expected_elements['vline_x']:.2f} is missing.\")\n",
                "            all_correct = False\n",
                "\n",
                "    # Check for hline\n",
                "    if \"hline_y\" in expected_elements:\n",
                "        hline_found = any(shape.type == 'line' and shape.y0 == expected_elements[\"hline_y\"] and shape.y1 == expected_elements[\"hline_y\"] for shape in fig.layout.shapes if shape.type == 'line')\n",
                "        if hline_found:\n",
                "            messages.append(f\"Horizontal line at y={expected_elements['hline_y']:.2f} is present.\")\n",
                "        else:\n",
                "            messages.append(f\"Horizontal line at y={expected_elements['hline_y']:.2f} is missing.\")\n",
                "            all_correct = False\n",
                "\n",
                "    # Check for specific annotations (text labels on chart)\n",
                "    if \"annotations_text\" in expected_elements:\n",
                "        present_annotation_texts = [anno.text for anno in fig.layout.annotations if anno.text is not None]\n",
                "        for expected_anno_text in expected_elements[\"annotations_text\"]:\n",
                "            if expected_anno_text in present_annotation_texts:\n",
                "                messages.append(f\"Annotation '{expected_anno_text}' is present.\")\n",
                "            else:\n",
                "                messages.append(f\"Annotation '{expected_anno_text}' is missing. Present annotations: {present_annotation_texts}\")\n",
                "                all_correct = False\n",
                "                \n",
                "    if all_correct:\n",
                "        display_feedback(True, \"All checked plot elements are correct!\", \"\")\n",
                "    else:\n",
                "        feedback_msg = \"Some plot elements are incorrect or missing:<ul>\" + \"\".join([f\"<li>{m}</li>\" for m in messages]) + \"</ul>\"\n",
                "        display_feedback(False, \"\", feedback_msg)\n",
                "    return all_correct\n",
                "\n",
                "def check_mean_calculation(calculated_value, expected_value, value_name, tolerance=1e-2):\n",
                "    \"\"\"Checks if a calculated mean value is close to the expected value.\"\"\"\n",
                "    if abs(calculated_value - expected_value) < tolerance:\n",
                "        display_feedback(True, f\"{value_name} calculation is correct (value: {calculated_value:.2f}).\", \"\")\n",
                "        return True\n",
                "    else:\n",
                "        display_feedback(False, \"\", f\"{value_name} calculation is incorrect. Expected around {expected_value:.2f}, got {calculated_value:.2f}.\")\n",
                "        return False\n",
                "\n",
                "# --- Data Loading and Initial Preparation ---\n",
                "data_url = \"../_static/college-cost/national.csv\"\n",
                "\n",
                "national_df = pd.read_csv(data_url)\n",
                "\n",
                "# Filter for 'exclusive and cheap' schools\n",
                "exclusivencheap_df = national_df[\n",
                "    (national_df['ADM_RATE'].notna()) & (national_df['ADM_RATE'] < 0.2) & \n",
                "    (national_df['COSTT4_A'].notna()) & (national_df['COSTT4_A'] < 50000)\n",
                "].copy()\n",
                "\n",
                "# Calculate stats for glue text (rounded as in Rmd)\n",
                "# Ensure ADM_RATE and COSTT4_A are numeric and handle potential NaNs before mean calculation\n",
                "valid_adm_rates = national_df['ADM_RATE'].dropna()\n",
                "valid_costs = national_df['COSTT4_A'].dropna()\n",
                "\n",
                "average_admit_rate_glue = round(valid_adm_rates.mean() * 100, 0) if not valid_adm_rates.empty else 0\n",
                "average_cost_glue = round(valid_costs.mean(), 0) if not valid_costs.empty else 0\n",
                "\n",
                "# Calculate precise stats for chart lines (unrounded)\n",
                "actual_average_admit_rate = valid_adm_rates.mean() if not valid_adm_rates.empty else 0\n",
                "actual_average_cost = valid_costs.mean() if not valid_costs.empty else 0\n",
                "\n",
                "# Expected values for grading Exercise 2\n",
                "expected_ex2_avg_admit_rate = actual_average_admit_rate \n",
                "expected_ex2_avg_cost = actual_average_cost\n",
                "\n",
                "# Expected values for Exercise 3 lines\n",
                "ex3_vline_x_expected = actual_average_admit_rate\n",
                "ex3_hline_y_expected = actual_average_cost"
            ]
        },
        {
            "cell_type": "code",
            "execution_count": null,
            "id": "22cf0ca5",
            "metadata": {
                "tags": [
                    "hide-input",
                    "hide-output"
                ]
            },
            "outputs": [],
            "source": [
                "from myst_nb import glue\n",
                "\n",
                "glue(\"average_admit_rate_text\", f\"{average_admit_rate_glue:,.0f}\", display=False)\n",
                "glue(\"average_cost_text\", f\"{average_cost_glue:,.0f}\", display=False)"
            ]
        },
        {
            "cell_type": "markdown",
            "metadata": {},
            "source": [
                "## The Goal\n",
                "\n",
                "In this lesson, you'll learn about the critical role of text elements in creating effective data visualizations for journalism. By the end of this tutorial, you'll understand how to craft compelling headlines, write informative subtitles, add clear axis labels, and use strategic annotations to guide readers through your charts. You'll practice applying these text elements to a scatterplot, gaining hands-on experience in transforming raw data into a story-driven visualization. These skills will enable you to create more impactful and informative graphics that effectively communicate your data stories to readers."
            ]
        },
        {
            "cell_type": "markdown",
            "metadata": {},
            "source": [
                "## Why Visualize Data?\n",
                "\n",
                "In 2016, a group of Harvard and MIT researchers set out to answer a set of what seems like simple questions: What gets people's attention when looking at a chart? And what do they remember? \n",
                "\n",
                "The answer surprises people who have never made charts before. Because the answer is, at least at first, the headline on the chart.\n",
                "\n",
                "That's right: Words. Not shapes or colors. Words. When you track people's eyes, that's where they go first, more often than not. \n",
                "\n",
                "\"When participants were shown visualizations with titles during encoding, the titles were fixated 59% of the time,\" according to [Borkin et. al](http://olivalab.mit.edu/Papers/07192646.pdf). \"Correspondingly, during the recall phase of the experiment, titles were the element most likely to be described if present.\"\n",
                "\n",
                "So not only is the title what people are looking at first, it's the title that acts as an anchor to memory. \n",
                "\n",
                "In short: the headline (or title depending on who you are asking) is incredibly important. In video storytelling, there's an old saying: If you have bad audio, you have bad video. A similar saying here could be this: if you have a bad title, you have a bad graphic.\n",
                "\n",
                "In fact, [researchers at the University of Illinois in 2018](https://www.zcliu.org/vistitles/CHI18-VisTitles.pdf) found that if you give people a chart, and you give one group a title that frames it positively and another group that frames it negatively, their interpretation of the chart will be influenced by the headline. In other words, give people a graph showing the volume of water is 50 percent. One is given a title that says something to the effect of half full, the other gets half empty, and both will walk away with very different feelings about exactly the same data.\n",
                "\n",
                "Designers have always known that text is important, they just never had the science to back them up. No less than William Playfair in 1801 wrote \"that those who do not, at the first sight, understand the manner of inspecting the Charts, will read with attention the few lines of directions facing the first Chart, after which they will find all the difficulty entirely vanish, and as much information may be obtained in five minutes as would require whole days to imprint on the memory.\"\n",
                "\n",
                "Just be careful what you're imprinting."
            ]
        },
        {
            "cell_type": "markdown",
            "metadata": {},
            "source": [
                "## The Basics\n",
                "\n",
                "We started down this road a bit in the tables tutorial, but let's repeat some important stuff from that. Text is a vital part of a good graphic. Some text is absolutely required. \n",
                "\n",
                "These are the pieces of a good graphic:\n",
                "\n",
                "-   Headline\n",
                "-   Chatter\n",
                "-   The main body\n",
                "-   Annotations\n",
                "-   Labels\n",
                "-   Source line\n",
                "-   Credit line\n",
                "\n",
                "The first on that list is the first for a reason. The headline is an incredibly important part of any graphic. It's often the first thing a reader will see. It's got to entice people in, tell them a little bit about what they're going to see, and help tell the story.\n",
                "\n",
                "The second item is the chatter -- the text underneath that headline. It needs to work with the headline to further the story, drive people toward the point, maybe add some context.\n",
                "\n",
                "The two bits of text are extremely important. Let's set up a chart and talk about how to do it wrong and how to do it better."
            ]
        },
        {
            "cell_type": "code",
            "execution_count": null,
            "id": "72b47130",
            "metadata": {
                "tags": [
                    "skip-execution"
                ]
            },
            "outputs": [],
            "source": [
                "import pandas as pd\n",
                "import plotly.express as px\n",
                "import plotly.graph_objects as go"
            ]
        },
        {
            "cell_type": "markdown",
            "metadata": {},
            "source": [
                "The data and the chart code isn't important for you to follow along. The code is nothing special -- it's a riff off of work we've done before. Under the hood, I've loaded up all colleges and universities, and we're going to look at comparing how exclusive a school is vs. how much it costs.\n",
                "\n",
                "Let's bring up the scatterplot with an odd group of schools -- colleges that admit fewer than 20 percent of applicants, but cost less than \\$50,000 a year to attend -- as a starting place."
            ]
        },
        {
            "cell_type": "code",
            "execution_count": null,
            "metadata": {
                "jupyter": {
                    "source_hidden": false
                },
                "tags": [
                    "skip-execution"
                ]
            },
            "outputs": [],
            "source": [
                "\n",
                "# Create the base figure object\n",
                "fig_bubble1 = go.Figure()\n",
                "\n",
                "# Add all schools as grey points (background layer)\n",
                "fig_bubble1.add_trace(go.Scatter(\n",
                "    x=national_df['ADM_RATE'], \n",
                "    y=national_df['COSTT4_A'], \n",
                "    mode='markers', \n",
                "    marker=dict(color='lightgrey', size=5),\n",
                "    name='All Schools (National)',\n",
                "    hoverinfo='skip' # Don't show hover for these background points by default\n",
                "))\n",
                "\n",
                "# Add 'exclusive and cheap' schools as red points with labels\n",
                "fig_bubble1.add_trace(go.Scatter(\n",
                "    x=exclusivencheap_df['ADM_RATE'], \n",
                "    y=exclusivencheap_df['COSTT4_A'], \n",
                "    mode='markers+text', # Show both markers and text labels\n",
                "    text=exclusivencheap_df['INSTNM'], # Use school name for labels\n",
                "    marker=dict(color='red', size=7),\n",
                "    textfont=dict(size=9, color='darkred'),\n",
                "    textposition=\"top right\",\n",
                "    name='Exclusive & Relatively Inexpensive',\n",
                "    customdata=exclusivencheap_df[['INSTNM', 'ADM_RATE', 'COSTT4_A']], # Data for hover\n",
                "    hovertemplate = (\n",
                "        \"<b>%{customdata[0]}</b><br>\" +\n",
                "        \"Admit Rate: %{x:.2%}<br>\" +\n",
                "        \"Cost: $%{y:,.0f}\" +\n",
                "        \"<extra></extra>\" # Hides the trace name from hover\n",
                "    )\n",
                "))\n",
                "\n",
                "# Basic layout updates\n",
                "fig_bubble1.update_layout(\n",
                "    title_text='Initial Scatterplot of College Data',\n",
                "    xaxis_title='Admission Rate',\n",
                "    yaxis_title='Average Annual Cost',\n",
                "    height=600,\n",
                "    showlegend=True\n",
                ")\n",
                "\n",
                "fig_bubble1.show()"
            ]
        },
        {
            "cell_type": "markdown",
            "metadata": {},
            "source": [
                "This chart is missing major parts -- required for any chart.\n",
                "\n",
                "To fix this, we add labels -- using `update_layout` in Plotly. Each graphic -- regardless of type -- needs a title, subtitle, caption, x and y. Your title is your headline. The subtitle is called chatter -- a sentence under the headline that explains a little about the graphic. The caption is where you'll put the source of your data and the credit line -- your name. x and y should be in each layout update, but sometimes what x and y are is obvious and you can leave them blank. For example: A bar chart with states on the y axis doesn't need to label them as States. It's obvious by the rest of the chart. In our case, nothing is obvious unless you've seen this data before. None of our readers have.\n",
                "\n",
                "First, let's start with some headline basics:\n",
                "\n",
                "-   Your headline should be about what the chart is about, **not what makes up the chart**. What story is the chart telling? What made it interesting to you? Don't tell me what the stats are, tell me what it says.\n",
                "-   Your headline should be specific. **Generic headlines are boring and ignored**.\n",
                "-   Your headline should, most often, have a verb. It's not a 100 percent requirement, but a headline without a verb means you're trying to be cute and ...\n",
                "-   Your headline shouldn't be overly cute. Trying to get away with slang, a very Of The Moment cultural reference that will be forgotten soon, or some inside joke is asking for trouble.\n",
                "-   Your headline should provoke a reaction."
            ]
        },
        {
            "cell_type": "markdown",
            "metadata": {},
            "source": [
                "### Exercise 1: Adding a headline, some chatter and some better labels\n",
                "\n",
                "Let's add some text to our plot here. For your x and y labels, spell out and properly space and capitalize the initial characters of the column names. For a headline, use `Exclusive doesn't mean expensive` and for a subtitle, use this: `According to the federal Department of Education, there are seven schools who admit fewer than 20 percent of applicants but are among the most affordable.` On our x axis is the `Admit rate` and on the y axis is the `Average annual cost`. The caption should be `Source: US Department of Education | By Your Name`."
            ]
        },
        {
            "cell_type": "code",
            "execution_count": null,
            "metadata": {
                "jupyter": {
                    "source_hidden": false
                },
                "tags": [
                    "skip-execution"
                ]
            },
            "outputs": [],
            "source": [
                "fig_ex1 = go.Figure() # Start with a fresh figure for the exercise\n",
                "\n",
                "fig_ex1.add_trace(go.Scatter(\n",
                "    x=national_df['ADM_RATE'], \n",
                "    y=national_df['COSTT4_A'], \n",
                "    mode='markers', \n",
                "    marker=dict(color='lightgrey', size=5),\n",
                "    name='All Schools (National)',\n",
                "    hoverinfo='skip'\n",
                "))\n",
                "\n",
                "fig_ex1.add_trace(go.Scatter(\n",
                "    x=exclusivencheap_df['ADM_RATE'], \n",
                "    y=exclusivencheap_df['COSTT4_A'], \n",
                "    mode='markers+text',\n",
                "    text=exclusivencheap_df['INSTNM'],\n",
                "    marker=dict(color='red', size=7),\n",
                "    textfont=dict(size=9, color='darkred'),\n",
                "    textposition=\"top right\",\n",
                "    name='Exclusive & Relatively Inexpensive',\n",
                "    customdata=exclusivencheap_df[['INSTNM', 'ADM_RATE', 'COSTT4_A']],\n",
                "    hovertemplate = (\n",
                "        \"<b>%{customdata[0]}</b><br>\" +\n",
                "        \"Admit Rate: %{x:.2%}<br>\" +\n",
                "        \"Cost: $%{y:,.0f}\" +\n",
                "        \"<extra></extra>\"\n",
                "    )\n",
                "))\n",
                "\n",
                "# Define the text elements for the plot\n",
                "title_text = \"____\"  # Headline\n",
                "subtitle_text = \"____\" # Chatter\n",
                "xaxis_label = \"____\"\n",
                "yaxis_label = \"____\"\n",
                "caption_text = \"____\"\n",
                "\n",
                "# Update the layout with these elements\n",
                "# Combine title and subtitle using HTML for formatting\n",
                "full_title = f\"{title_text}<br><sub>{subtitle_text}</sub>\"\n",
                "\n",
                "fig_ex1.update_layout(\n",
                "    title_text=full_title,\n",
                "    xaxis_title=xaxis_label,\n",
                "    yaxis_title=yaxis_label,\n",
                "    height=700, # Increased height for better label visibility\n",
                "    showlegend=True,\n",
                "    legend=dict(yanchor=\"top\", y=0.99, xanchor=\"left\", x=0.01),\n",
                "    # Add caption as an annotation\n",
                "    annotations=[\n",
                "        dict(\n",
                "            text=caption_text,\n",
                "            showarrow=False,\n",
                "            xref=\"paper\", yref=\"paper\",\n",
                "            x=0, y=-0.1, # Positioned at the bottom left; adjust y as needed\n",
                "            xanchor='left', yanchor='top',\n",
                "            align='left'\n",
                "        )\n",
                "    ],\n",
                "    margin=dict(b=80) # Add bottom margin for caption\n",
                ")\n",
                "\n",
                "# Format axes\n",
                "fig_ex1.update_xaxes(tickformat='.0%') # Format x-axis as percentage\n",
                "fig_ex1.update_yaxes(tickprefix='$', tickformat=',.0f') # Format y-axis as currency\n",
                "\n",
                "fig_ex1.show()"
            ]
        },
        {
            "cell_type": "markdown",
            "metadata": {},
            "source": [
                "The headline here works because it lays out a provocative premise (especially for parents). The chatter reveals what's in the chart without pointing at it -- show don't tell. Our x and y labels are clearer and let the reader know what's going on."
            ]
        },
        {
            "cell_type": "markdown",
            "metadata": {},
            "source": [
                "## Annotations\n",
                "\n",
                "Another important part of a chart -- but not every chart -- is annotation. Sometimes, you need to label something in a chart to help the reader out. It can be a point or series of points. Or it can be regions of a chart. Let's return to our bubble chart.\n",
                "\n",
                "Annotations also help us draw attention to things, or help the reader understand what they're looking at.\n",
                "\n",
                "We're going to add some lines to our chart that represent the average admit rate and average cost. To get that, we first have to calculate that. It's simple -- just a `mean()` calculation on the relevant columns."
            ]
        },
        {
            "cell_type": "markdown",
            "metadata": {},
            "source": [
                "### Exercise 2: The means\n",
                "\n",
                "If you don't remember what these columns are, look at your chart code above. They're the x (`ADM_RATE`) and y (`COSTT4_A`) in the scatterplot. Calculate their means from the `national_df` DataFrame and store them in `average_admit_rate_ex2` and `average_cost_ex2`."
            ]
        },
        {
            "cell_type": "code",
            "execution_count": null,
            "metadata": {
                "jupyter": {
                    "source_hidden": false
                },
                "tags": [
                    "skip-execution"
                ]
            },
            "outputs": [],
            "source": [
                "average_admit_rate_ex2 = national_df['____'].mean()\n",
                "average_cost_ex2 = national_df['____'].mean()\n",
                "# Check the calculations\n",
                "check_mean_calculation(average_admit_rate_ex2, expected_ex2_avg_admit_rate, \"Average Admit Rate\")\n",
                "check_mean_calculation(average_cost_ex2, expected_ex2_avg_cost, \"Average Cost\")"
            ]
        },
        {
            "cell_type": "markdown",
            "metadata": {},
            "source": [
                "So what does that say? It says the average college admits about {glue:text}`average_admit_rate_text` percent of students and costs an average of ${glue:text}`average_cost_text` to attend for a year."
            ]
        },
        {
            "cell_type": "markdown",
            "metadata": {},
            "source": [
                "To add lines for the average admit rate and average cost, we're going to use Plotly's `add_hline()` and `add_vline()` methods. The averages will create lines to divide the chart into four corners. On the upper right quadrant -- lots of kids getting admitted, super expensive. On the lower left quadrant, nobody getting in, but super cheap. These methods just require an intercept value (`x` for `add_vline` and `y` for `add_hline`). We get the values for those from the averages we just made.\n",
                "\n",
                "To label these quadrants, we're going to use `fig.add_annotation()` and we'll just put numbers in the `x` and the `y` to move them where we need them. We can get those numbers by looking at the x and y axis of our chart and guessing. After that, it's increasing or decreasing the number, depending on which direction we want to move it around."
            ]
        },
        {
            "cell_type": "markdown",
            "metadata": {},
            "source": [
                "### Exercise 3: Adding lines and labels\n",
                "\n",
                "Note here -- I'm only labeling two sections of the chart. There is such a thing as too much. We want to tell the story here with the most efficient use of elements -- text, color, shape."
            ]
        },
        {
            "cell_type": "code",
            "execution_count": null,
            "metadata": {
                "jupyter": {
                    "source_hidden": false
                },
                "tags": [
                    "skip-execution"
                ]
            },
            "outputs": [],
            "source": [
                "fig_ex3 = go.Figure() # Start fresh for the exercise\n",
                "\n",
                "# Add national data points (grey)\n",
                "fig_ex3.add_trace(go.Scatter(\n",
                "    x=national_df['ADM_RATE'], \n",
                "    y=national_df['COSTT4_A'], \n",
                "    mode='markers', \n",
                "    marker=dict(color='lightgrey', size=5),\n",
                "    name='All Schools (National)',\n",
                "    hoverinfo='skip'\n",
                "))\n",
                "\n",
                "# Add exclusive and cheap schools (red with labels)\n",
                "fig_ex3.add_trace(go.Scatter(\n",
                "    x=exclusivencheap_df['ADM_RATE'], \n",
                "    y=exclusivencheap_df['COSTT4_A'], \n",
                "    mode='markers+text', \n",
                "    text=exclusivencheap_df['INSTNM'],\n",
                "    marker=dict(color='red', size=7),\n",
                "    textfont=dict(size=8, color='darkred'), # Adjusted size from R's size=3\n",
                "    textposition=\"top right\",\n",
                "    name='Exclusive & Relatively Inexpensive',\n",
                "    customdata=exclusivencheap_df[['INSTNM', 'ADM_RATE', 'COSTT4_A']],\n",
                "    hovertemplate = (\n",
                "        \"<b>%{customdata[0]}</b><br>\" +\n",
                "        \"Admit Rate: %{x:.2%}<br>\" +\n",
                "        \"Cost: $%{y:,.0f}\" +\n",
                "        \"<extra></extra>\"\n",
                "    )\n",
                "))\n",
                "\n",
                "fig_ex3.add_vline(x=____, line_width=1, line_dash=\"dash\", line_color=\"grey\")\n",
                "fig_ex3.add_hline(y=____, line_width=1, line_dash=\"dash\", line_color=\"grey\")\n",
                "\n",
                "fig_ex3.add_annotation(\n",
                "    x=0.87, \n",
                "    y=85000, \n",
                "    text=\"____\", \n",
                "    showarrow=False, \n",
                "    font=dict(color=\"blue\", size=10)\n",
                ")\n",
                "\n",
                "fig_ex3.add_annotation(\n",
                "    x=0.3, \n",
                "    y=15000, \n",
                "    text=\"____\", \n",
                "    showarrow=False, \n",
                "    font=dict(color=\"blue\", size=10)\n",
                ")\n",
                "\n",
                "# Apply layout from Exercise 1 (title, labels, caption)\n",
                "title_text_ex3 = \"Exclusive doesn't mean expensive\"\n",
                "subtitle_text_ex3 = \"According to the federal Department of Education, there are seven schools who admit fewer than 20 percent of applicants but are among the most affordable.\"\n",
                "xaxis_label_ex3 = \"Admit rate\"\n",
                "yaxis_label_ex3 = \"Average annual cost\"\n",
                "caption_text_ex3 = \"Source: US Department of Education | By Your Name\"\n",
                "full_title_ex3 = f\"{title_text_ex3}<br><sub>{subtitle_text_ex3}</sub>\"\n",
                "\n",
                "fig_ex3.update_layout(\n",
                "    title_text=full_title_ex3,\n",
                "    xaxis_title=xaxis_label_ex3,\n",
                "    yaxis_title=yaxis_label_ex3,\n",
                "    height=700,\n",
                "    showlegend=True,\n",
                "    legend=dict(yanchor=\"top\", y=0.99, xanchor=\"left\", x=0.01),\n",
                "    annotations=fig_ex3.layout.annotations + tuple([\n",
                "        dict(\n",
                "            text=caption_text_ex3,\n",
                "            showarrow=False,\n",
                "            xref=\"paper\", yref=\"paper\",\n",
                "            x=0, y=-0.12, # Adjusted y for potentially more space needed\n",
                "            xanchor='left', yanchor='top',\n",
                "            align='left'\n",
                "        )\n",
                "    ]),\n",
                "    margin=dict(b=100) # Increased bottom margin for caption and labels\n",
                ")\n",
                "fig_ex3.update_xaxes(tickformat='.0%')\n",
                "fig_ex3.update_yaxes(tickprefix='$', tickformat=',.0f')\n",
                "\n",
                "fig_ex3.show()"
            ]
        },
        {
            "cell_type": "markdown",
            "metadata": {},
            "source": [
                "This is a good start. It's got some warts -- the grey background, a lack of any real typography, but we're getting to that. Note how I also made the dots for the cheap and exclusive schools red, the bulk of them grey and the lines blue (for annotations, lines are grey here). We're talking about color in the next tutorial."
            ]
        },
        {
            "cell_type": "markdown",
            "metadata": {},
            "source": [
                "## The Recap\n",
                "\n",
                "Throughout this lesson, you've learned how to enhance your data visualizations with key text elements. You've practiced writing headlines that grab attention and convey the main story, crafting subtitles that provide context, and adding clear labels to guide readers through your chart. You've also explored how to use annotations to highlight key insights and divide your chart into meaningful sections. Remember, effective data journalism isn't just about the numbers — it's about using text strategically to tell a compelling story. As you continue to create visualizations, always consider how you can use headlines, labels, and annotations to make your charts more accessible and impactful for your audience."
            ]
        },
        {
            "cell_type": "markdown",
            "metadata": {},
            "source": [
                "## Terms to Know\n",
                "\n",
                "- **Headline (Title)**: The main title of a chart that should convey the key message or story of the visualization. In Plotly, set via `layout.title.text`.\n",
                "- **Chatter (Subtitle)**: A brief explanatory text below the headline that provides context or additional information about the chart. Often combined with the title using HTML (e.g., `<br><sub>Subtitle</sub>`) in Plotly.\n",
                "- **Annotation**: Text or graphical elements added to a chart to highlight or explain specific data points or trends. In Plotly, added via `fig.add_annotation()` or as part of `layout.annotations`.\n",
                "- **Caption**: Text below a chart that provides information about the data source and creator. Typically added as an annotation in Plotly, positioned at the bottom.\n",
                "- **`fig.update_layout()`**: A core Plotly method to modify various aspects of a figure's layout, including titles, axis labels, legend, margins, and adding annotations.\n",
                "- **`fig.add_annotation()`**: A Plotly method to add a text or graphical annotation to a figure at specified coordinates or relative positions.\n",
                "- **`fig.add_vline()`**: A Plotly method to add a vertical line to a plot at a specified x-coordinate, often used for showing averages or thresholds.\n",
                "- **`fig.add_hline()`**: A Plotly method to add a horizontal line to a plot at a specified y-coordinate, often used for showing averages or thresholds.\n",
                "- **`mode='markers+text'`**: In `go.Scatter`, this mode displays both the data points (markers) and their corresponding text labels directly on the plot.\n",
                "- **`textposition`**: An argument in `go.Scatter` (when `mode` includes 'text') that controls the position of text labels relative to their markers (e.g., 'top center', 'middle right')."
            ]
        }
    ],
    "metadata": {
        "kernelspec": {
            "display_name": "Python 3 (ipykernel)",
            "language": "python",
            "name": "python3"
        },
        "language_info": {
            "codemirror_mode": {
                "name": "ipython",
                "version": 3
            },
            "file_extension": ".py",
            "mimetype": "text/x-python",
            "name": "python",
            "nbconvert_exporter": "python",
            "pygments_lexer": "ipython3",
            "version": "3.10"
        },
        "mystnb": {
            "execution_mode": "cache"
        }
    },
    "nbformat": 4,
    "nbformat_minor": 5
}
