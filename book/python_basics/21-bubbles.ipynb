{
    "cells": [
        {
            "cell_type": "markdown",
            "metadata": {},
            "source": [
                "# Data Journalism Lesson 21: Bubble charts\n",
                "\n",
                "Adding a new dimension to scatterplots."
            ]
        },
        {
            "cell_type": "code",
            "execution_count": null,
            "metadata": {
                "tags": [
                    "hide-input",
                    "thebe-init"
                ]
            },
            "outputs": [],
            "source": [
                "import warnings\n",
                "from IPython.core.interactiveshell import InteractiveShell\n",
                "\n",
                "# Keep hold of the real method\n",
                "_orig_should_run = InteractiveShell.should_run_async\n",
                "\n",
                "# Wrap it so that any DeprecationWarning it emits is silenced\n",
                "def should_run_async(self, code, *args, **kwargs):\n",
                "    with warnings.catch_warnings():\n",
                "        warnings.simplefilter(\"ignore\", category=DeprecationWarning)\n",
                "        return _orig_should_run(self, code, *args, **kwargs)\n",
                "\n",
                "# Apply the monkey‑patch\n",
                "InteractiveShell.should_run_async = should_run_async"
            ]
        },
        {
            "cell_type": "code",
            "execution_count": null,
            "metadata": {
                "tags": [
                    "hide-input",
                    "thebe-init",
                    "skip-execution"
                ]
            },
            "outputs": [],
            "source": [
                "import micropip\n",
                "await micropip.install('plotly')\n",
                "await micropip.install(\"nbformat>=4.2.0\")"
            ]
        },
        {
            "cell_type": "code",
            "execution_count": null,
            "metadata": {
                "tags": [
                    "hide-input",
                    "thebe-init"
                ]
            },
            "outputs": [],
            "source": [
                "from IPython.display import display, HTML\n",
                "import pandas as pd\n",
                "\n",
                "# --- Simple Grading/Checking Functions ---\n",
                "def display_feedback(correct, message_correct, message_incorrect):\n",
                "    if correct:\n",
                "        display(HTML(f'<div style=\"background-color: #dff0d8; padding: 10px; border-radius: 5px;\"><strong>Correct!</strong> {message_correct}</div>'))\n",
                "    else:\n",
                "        display(HTML(f'<div style=\"background-color: #f2dede; padding: 10px; border-radius: 5px;\"><strong>Not quite!</strong> {message_incorrect}</div>'))\n",
                "\n",
                "def check_df_exists(df, df_name, expected_min_rows=None, expected_cols=None):\n",
                "    if not isinstance(df, pd.DataFrame) or df.empty:\n",
                "        if not (expected_min_rows == 0 and isinstance(df, pd.DataFrame)): # Allow empty if 0 rows expected\n",
                "            display_feedback(False, f'{df_name} DataFrame is not loaded correctly or is unexpectedly empty.', 'Please check the loading or filtering process.')\n",
                "            return False\n",
                "    msg_correct = f'{df_name} DataFrame checked.'\n",
                "    correct = True\n",
                "    msg_incorrect_list = []\n",
                "\n",
                "    if expected_min_rows is not None and len(df) < expected_min_rows:\n",
                "        msg_incorrect_list.append(f' Expected at least {expected_min_rows} rows, got {len(df)}.')\n",
                "        correct = False\n",
                "    if expected_cols is not None:\n",
                "      if not all(col in df.columns for col in expected_cols):\n",
                "        missing_cols = [col for col in expected_cols if col not in df.columns]\n",
                "        msg_incorrect_list.append(f' Missing expected columns: {missing_cols}.')\n",
                "        correct = False\n",
                "    \n",
                "    if correct:\n",
                "        display_feedback(True, msg_correct, '')\n",
                "    else:\n",
                "        display_feedback(False, '', ' '.join(msg_incorrect_list))\n",
                "    return correct\n",
                "\n",
                "def check_plot_params(fig_params, expected_params, plot_name):\n",
                "    # This is a simplified conceptual check. Actual Plotly parameter checking can be intricate.\n",
                "    # We'll check for presence of key arguments if they were strings or simple values.\n",
                "    correct = True\n",
                "    messages = []\n",
                "    for p_name, p_val_expected in expected_params.items():\n",
                "        p_val_actual = fig_params.get(p_name)\n",
                "        if p_val_actual == p_val_expected:\n",
                "            messages.append(f'Correct {p_name} for {plot_name}.')\n",
                "        else:\n",
                "            correct = False\n",
                "            messages.append(f'Incorrect {p_name} for {plot_name}. Expected \\'{p_val_expected}\\', got \\'{p_val_actual}\\'.')\n",
                "    \n",
                "    final_message_correct = f'Key plot parameters for {plot_name} seem correct!'\n",
                "    final_message_incorrect = ' '.join(messages)\n",
                "    if not messages: # If no specific params were checked, assume basic creation.\n",
                "        display_feedback(True, f'{plot_name} created.', '')\n",
                "        return\n",
                "    display_feedback(correct, final_message_correct, final_message_incorrect)"
            ]
        },
        {
            "cell_type": "code",
            "execution_count": null,
            "metadata": {
                "tags": [
                    "hide-input",
                    "thebe-init"
                ]
            },
            "outputs": [],
            "source": [
                "# --- State Setup and Data Loading ---\n",
                "default_state_abbr = 'MN'\n",
                "state_full_name = \"Minnesota\"\n",
                "\n",
                "bigpublic_colleges_url = \"../_static/college-cost/bigpublic.csv\"\n",
                "\n",
                "bigpublic_df_initial = pd.read_csv(bigpublic_colleges_url)\n",
                "state_college_df_initial = bigpublic_df_initial[bigpublic_df_initial['STABBR'] == default_state_abbr].copy()\n",
                "state_college_count_expected = len(state_college_df_initial)"
            ]
        },
        {
            "cell_type": "code",
            "execution_count": null,
            "id": "299cef56",
            "metadata": {
                "tags": [
                    "hide-input",
                    "hide-output"
                ]
            },
            "outputs": [],
            "source": [
                "from myst_nb import glue\n",
                "\n",
                "glue(\"state_full_name\", state_full_name, display=False)\n",
                "glue(\"state_abbr\", default_state_abbr, display=False)\n",
                "glue(\"state_college_name\", state_college_df_initial['INSTNM'].iloc[0] if state_college_count_expected > 0 else \"[No college found for state]\", display=False)\n",
                "glue(\"state_college_count\", state_college_count_expected, display=False)"
            ]
        },
        {
            "cell_type": "markdown",
            "metadata": {},
            "source": [
                "## The Goal\n",
                "\n",
                "In this lesson, you'll learn how to create bubble charts, which add a third dimension to scatterplots through varying circle sizes. By the end of this tutorial, you'll understand when bubble charts are effective, how to construct them using Plotly Express, and how to enhance them with transparency and labels. You'll practice filtering data, adjusting visual elements, and using Plotly's built-in text capabilities for clear labeling. These skills will enable you to visualize complex relationships between three variables, a powerful tool for uncovering and communicating insights in your data journalism projects."
            ]
        },
        {
            "cell_type": "markdown",
            "metadata": {},
            "source": [
                "## Why Visualize Data?\n",
                "\n",
                "Here is the real talk: Bubble charts are hard. \n",
                "\n",
                "The reason they are hard is not because of the code, or the complexity or anything like that. It is a scatterplot with magnitude added -- the size of the dot in the scatterplot has meaning. The hard part is seeing when a bubble chart works and when it doesn't. \n",
                "\n",
                "If you want to see it work spectacularly well, [watch a semi-famous TED Talk by Hans Rosling](https://www.youtube.com/watch?v=hVimVzgtD6w) from 2006 where bubble charts were the centerpiece. It's worth watching. It'll change your perspective on the world. No seriously. It will.\n",
                "\n",
                "That TED Talk, and the software his son created that you can see doing the visuals for his talk, turned a public health professor from Sweden into a bit of a global celebrity, to a very nerdy group of people. Rosling, with his son and daughter, started the Gapminder Foundation to further develop the software, which in 2007 was bought by Google. Time Magazine named him one of the 100 most influential people in 2012. Harvard University and the United Nations gave him awards. He wrote books about his worldview -- that we as a society vastly underestimate the progress the world has made across a number of different issues. A cottage industry of critics -- He's naive! He's a pollyanna! -- and defenders popped up, as it does when you have an enormous amount of attention on you. \n",
                "\n",
                "All because a professor used bubble charts in a talk on YouTube.\n",
                "\n",
                "In a 2005 paper about their idea to use software to visualize global health and development data, the Roslings (Hans and his two children) wrote that \"the representation of time by movement in scattergrams with carefully designed interfaces has proven to bring statistics beyond the eye to hit the brain.\"\n",
                "\n",
                "But even they weren't sure it would actually work. But they had a vision. This graphic appeared in a paper published by the Organization for Economic Co-operation and Development -- the OECD. \n",
                "\n",
                "```{image} ../figures/free-aha-wow.png\n",
                ":alt: Visual representation of different join types\n",
                ":width: 600px\n",
                ":align: center\n",
                "```\n",
                "\n",
                "Free! Aha! Wow!\n",
                "\n",
                "But Rosling's talks -- and his relentless enthusiasm for the data as it really is -- were infectious. And since then, people have wanted bubble charts. \n",
                "\n",
                "And we're back to the original problem: They're hard. Not hard to make, but hard to make *well* and interpret correctly."
            ]
        },
        {
            "cell_type": "markdown",
            "metadata": {},
            "source": [
                "## The Basics\n",
                "\n",
                "To show how hard they are to get right (though easy to code), let's try to make one. It should be quickly obvious to you that the code isn't the hard part. \n",
                "\n",
                "To make a bubble chart with Plotly Express, you're making a scatterplot, just like we did in the previous exercise. Then you're adding one more element -- the `size` of the dot.\n",
                "\n",
                "I've got a subset of data from the last exercise. It's the same cost vs. completion data, but this time, it's only for the largest public universities in each state. For almost every state, this is Big State U, where they have Big Time sports teams and jerseys you can buy in stores all over the state. A *lot* of media attention goes to exclusive private universities -- the Ivy League, for example -- but the truth is the overwhelming plurality of college educated adults went to Big State U. \n",
                "\n",
                "We don't need any new libraries from last time. We need `pandas` and `plotly.express`."
            ]
        },
        {
            "cell_type": "code",
            "execution_count": null,
            "metadata": {
                "tags": [
                    "skip-execution"
                ]
            },
            "outputs": [],
            "source": [
                "import pandas as pd\n",
                "import plotly.express as px\n",
                "import plotly.graph_objects as go"
            ]
        },
        {
            "cell_type": "markdown",
            "metadata": {},
            "source": [
                "And the data:"
            ]
        },
        {
            "cell_type": "code",
            "execution_count": null,
            "metadata": {
                "tags": [
                    "skip-execution"
                ]
            },
            "outputs": [],
            "source": [
                "bigpublic_df = pd.read_csv(\"../_static/college-cost/bigpublic.csv\")"
            ]
        },
        {
            "cell_type": "markdown",
            "metadata": {},
            "source": [
                "A bubble chart is just a scatterplot with one additional element in the aesthetic -- a `size`. Let's make the scatterplot version first. Let's first take a peek at the data."
            ]
        },
        {
            "cell_type": "code",
            "execution_count": null,
            "metadata": {
                "tags": [
                    "skip-execution"
                ]
            },
            "outputs": [],
            "source": [
                "display(____.head())"
            ]
        },
        {
            "cell_type": "markdown",
            "metadata": {},
            "source": [
                "### Exercise 1: First, we scatterplot\n",
                "\n",
                "To make this scatterplot, let's just repeat what we did last time: the cost (`COSTT4_A`) on the x-axis, the completion rate (`C150_4`) on the y-axis."
            ]
        },
        {
            "cell_type": "code",
            "execution_count": null,
            "metadata": {
                "tags": [
                    "skip-execution"
                ]
            },
            "outputs": [],
            "source": [
                "fig_ex1 = px.scatter(\n",
                "    data_frame=____,\n",
                "    x=____, # Cost\n",
                "    y=____, # Completion Rate\n",
                "    title='Cost vs. Completion for Large Public Universities (Scatterplot)'\n",
                ")\n",
                "fig_ex1.show()"
            ]
        },
        {
            "cell_type": "markdown",
            "metadata": {},
            "source": [
                "Looks like a scatterplot, eh? But which of these schools are really big and which ones ... aren't? This is where the bubble chart comes in.\n",
                "\n",
                "### Exercise 2: The bubble chart\n",
                "\n",
                "Let's add the `size` element. From our peek at the data above, we want to add the column that has the number of undergrads in it. That's `UGDS` (UnderGraduate Degree Seeking students)."
            ]
        },
        {
            "cell_type": "code",
            "execution_count": null,
            "metadata": {
                "tags": [
                    "skip-execution"
                ]
            },
            "outputs": [],
            "source": [
                "fig_ex2 = px.scatter(\n",
                "    data_frame=____,\n",
                "    x=____,\n",
                "    y=____,\n",
                "    size=____,\n",
                "    title='Cost vs. Completion vs. Size for Large Public Universities (Bubble Chart)'\n",
                ")\n",
                "fig_ex2.show()"
            ]
        },
        {
            "cell_type": "markdown",
            "metadata": {},
            "source": [
                "What does this chart tell you? Seems there are some big schools that cost a bunch and are graduating a ton of people. There are some smaller schools who are kinda in the middle. And there's a small handful of small state schools who are graduating fewer than 40 percent of first-time first-year students.\n",
                "\n",
                "Our chart needs some improvement.\n",
                "\n",
                "### Exercise 3: Adding transparency and scaling size\n",
                "\n",
                "We can make this more readable by adding an `opacity` argument (transparency) to `px.scatter()`. Plotly Express automatically scales the bubble sizes, but you can influence the maximum size with `size_max` if needed, or adjust the overall scaling with marker sizeref/sizemode via `update_traces` for more control (though `size_max` is simpler for a quick adjustment).\n",
                "\n",
                "Let's try an `opacity` of 0.6 (Plotly uses 0 to 1 for opacity). Let's use a moderate `size_max` like 30 or 40 to ensure bubbles aren't too overwhelming."
            ]
        },
        {
            "cell_type": "code",
            "execution_count": null,
            "metadata": {
                "tags": [
                    "skip-execution"
                ]
            },
            "outputs": [],
            "source": [
                "fig_ex3 = px.scatter(\n",
                "    data_frame=____,\n",
                "    x=____,\n",
                "    y=____,\n",
                "    size=____,\n",
                "    opacity=____,\n",
                "    size_max=____,\n",
                "    title='Cost vs. Completion vs. Size (Adjusted Bubbles)'\n",
                ")\n",
                "fig_ex3.show()"
            ]
        },
        {
            "cell_type": "markdown",
            "metadata": {},
            "source": [
                "Better? The transparency helps with overlapping bubbles, and `size_max` gives some control over how large the biggest bubbles get.\n",
                "\n",
                "### Exercise 4: Adding a focus\n",
                "\n",
                "What would help the most is if we added a school to focus on. So let's add your state's largest public university to this chart. First step - filtering. Let's call the dataframe `state_college_df`."
            ]
        },
        {
            "cell_type": "code",
            "execution_count": null,
            "metadata": {
                "tags": [
                    "skip-execution"
                ]
            },
            "outputs": [],
            "source": [
                "_____ = bigpublic_df[bigpublic_df['STABBR'] == _____]"
            ]
        },
        {
            "cell_type": "markdown",
            "metadata": {},
            "source": [
                "You now have one school in {glue:text}`state_full_name`: {glue:text}`state_college_name`."
            ]
        },
        {
            "cell_type": "markdown",
            "metadata": {},
            "source": [
                "### Exercise 5: Adding a red dot and labels\n",
                "\n",
                "Let's add that school to the chart. We'll create the base chart with all universities (semi-transparent bubbles), then add a new trace specifically for the `state_college_df`.\n",
                "This new trace will:\n",
                "- Use the same x, y, and size aesthetics.\n",
                "- Have a different color (e.g., 'red').\n",
                "- Include text labels for the institution name (`INSTNM`).\n",
                "\n",
                "We will use `fig.add_trace()` with `go.Scatter` for the highlighted point(s) to control its appearance and add text."
            ]
        },
        {
            "cell_type": "code",
            "execution_count": null,
            "metadata": {
                "tags": [
                    "skip-execution"
                ]
            },
            "outputs": [],
            "source": [
                "# Start with the base bubble chart from Exercise 3\n",
                "fig_ex5 = px.scatter(\n",
                "    data_frame=bigpublic_df,\n",
                "    x='COSTT4_A',\n",
                "    y='C150_4',\n",
                "    size='UGDS',\n",
                "    opacity=0.3, # Make base points semi-transparent\n",
                "    size_max=40,\n",
                "    title=f'Cost vs. Completion vs. Size, Highlighting {state_full_name}'\n",
                ")\n",
                "fig_ex5.update_traces(marker=dict(line=dict(width=0.5, color='DarkSlateGrey'))) # Add border to bubbles\n",
                "\n",
                "fig_ex5.add_trace(go.Scatter(\n",
                "    x=state_college_df[____], # Cost\n",
                "    y=state_college_df[____], # Completion Rate\n",
                "    mode='markers+text',\n",
                "    text=state_college_df[____],\n",
                "    textposition='top center',\n",
                "    textfont=dict(size=10, color='black'),\n",
                "    marker=dict(\n",
                "        size=state_college_df[____], # UGDS for size\n",
                "        color=____,\n",
                "        sizemode='area',\n",
                "        sizeref=fig_ex5.data[0].marker.sizeref, # Use sizeref from base plot for consistency\n",
                "        sizemin=fig_ex5.data[0].marker.sizemin if 'sizemin' in fig_ex5.data[0].marker else 4,\n",
                "        opacity=0.9,\n",
                "        line=dict(width=1, color='DarkSlateGrey')\n",
                "    ),\n",
                "    name=state_full_name # For legend, if shown\n",
                "))\n",
                "\n",
                "fig_ex5.update_layout(showlegend=False)\n",
                "fig_ex5.show()"
            ]
        },
        {
            "cell_type": "markdown",
            "metadata": {},
            "source": [
                "And what story does that tell? Where does your state's biggest public university fit in this picture? Is that a good or a bad thing? The next step after this? What about other schools that are similar to your state's largest? These institutions are multi-billion dollar entities in your state. They're a big deal."
            ]
        },
        {
            "cell_type": "markdown",
            "metadata": {},
            "source": [
                "## The Recap\n",
                "\n",
                "Throughout this lesson, you've mastered the creation of bubble charts using Plotly Express and Plotly Graph Objects, learning to visualize relationships between three variables simultaneously. You've practiced transforming scatterplots into bubble charts by mapping a variable to the `size` aesthetic, adjusting transparency (`opacity`) and maximum bubble size (`size_max`) for clarity, and adding labels to highlight key data points. Remember, while bubble charts can be powerful for showing an additional dimension of data, they're most effective when used judiciously - when the relationships between all three variables tell a compelling story and the chart doesn't become too cluttered. Going forward, consider how bubble charts might reveal hidden patterns in your datasets, but always balance their complexity with the clarity of your message."
            ]
        },
        {
            "cell_type": "markdown",
            "metadata": {},
            "source": [
                "## Terms to Know\n",
                "\n",
                "- **Bubble chart**: A variation of a scatterplot where data points are represented by circles (bubbles) whose sizes correspond to a third numerical variable.\n",
                "- **`px.scatter()`**: The Plotly Express function used to create scatterplots and bubble charts (by utilizing the `size` argument).\n",
                "- **`size` argument (in `px.scatter`)**: Maps a numerical column to the size of the markers, creating a bubble chart.\n",
                "- **`opacity` argument (in `px.scatter`)**: Controls the transparency of the markers (0.0 fully transparent, 1.0 fully opaque).\n",
                "- **`size_max` argument (in `px.scatter`)**: Sets the maximum diameter (in pixels) for the largest bubble in the chart.\n",
                "- **`go.Scatter()`**: A trace type from `plotly.graph_objects` that can be used to add more customized layers, like highlighted bubbles with text, to a figure.\n",
                "- **`text` argument (in `go.Scatter` or `px.scatter`)**: Used to specify text labels for data points.\n",
                "- **`mode='markers+text'`**: A mode for `go.Scatter` traces to display both markers and their associated text labels."
            ]
        }
    ],
    "metadata": {
        "kernelspec": {
            "display_name": "Python 3",
            "language": "python",
            "name": "python3"
        },
        "language_info": {
            "codemirror_mode": {
                "name": "ipython",
                "version": 3
            },
            "file_extension": ".py",
            "mimetype": "text/x-python",
            "name": "python",
            "nbconvert_exporter": "python",
            "pygments_lexer": "ipython3",
            "version": "3.11"
        },
        "mystnb": {
            "execution_mode": "cache"
        }
    },
    "nbformat": 4,
    "nbformat_minor": 5
}
