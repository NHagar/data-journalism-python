{
    "cells": [
        {
            "cell_type": "markdown",
            "metadata": {},
            "source": [
                "# Data Journalism Lesson 28: Datawrapper for maps\n",
                "\n",
                "Making quick graphics for publication."
            ]
        },
        {
            "cell_type": "markdown",
            "metadata": {},
            "source": [
                "## The Goal\n",
                "\n",
                "In this lesson, you'll learn how to create interactive maps using Datawrapper, a powerful online visualization tool. By the end of this tutorial, you'll understand how to prepare data for mapping, create symbol maps with customized colors and tooltips, and add essential elements like titles and source information. You'll practice these skills using real groundhog prediction data, gaining hands-on experience in transforming raw data into an engaging, interactive visualization. This ability to create professional-looking maps will be invaluable for presenting geographic data in your journalism projects."
            ]
        },
        {
            "cell_type": "markdown",
            "metadata": {},
            "source": [
                "## Why Visualize Data?\n",
                "\n",
                "Past students in my data journalism class have heard me say this before: if I could make my 16-week class a 32-week class, the first 16 weeks would stay the same. They would remain the same chapters you've worked through here. The remaining 16 weeks would be all about maps. \n",
                "\n",
                "Maps are a truly incredible data journalism tool. They are a universal language that nearly all of us speak. They are built for things like context, but also allow us to indulge in a little selfishness. What do you do every time you see a weather map? Find your neighborhood right? What do you do when you see a county map shaded by anything? Find yours, no? Here's a map of every university in the country and some piece of data about it that you really want to know. The first dot you're clicking on is your university, guaranteed. \n",
                "\n",
                "The problem is that maps are hard. If you're a university student reading this right now, somewhere on your campus are whole sections of multiple courses at multiple levels of the curriculum that are all about using Geographic Information Systems to do analysis. Geographic analysis has all of the problems of data analysis -- incomplete, incorrect, poorly formatted data, for example -- and adds to it the math of representing physical space. \n",
                "\n",
                "What types of problems are those? Well, consider this: The Earth is not round. No, this isn't Flat Earth Propaganda making its way into this textbook. The Earth is a spheroid, and not only that, it's an oblate spheroid, which is a funny way of saying it's squished from the top, fattening out the middle. Now, take things on that oblate spheroid and take them from a three-dimensional shape and flatten them into a two-dimensional shape. Map nerds can go on all day about how the distortions that occur from that flattening screws up our understanding of the world. What I want you to understand is this: There are so many ways that people have come up with to solve this problem that counting them is impossible. There is no comprehensive list of map projections in the world *because the set of possible outcomes is infinite*. \n",
                "\n",
                "All that is to say that doing sophisticated analysis with maps and spatial data is hard. Enter Datawrapper."
            ]
        },
        {
            "cell_type": "markdown",
            "metadata": {},
            "source": [
                "## The Basics\n",
                "\n",
                "Making charts in Datawrapper is preposterously simple. Making maps is less so, but not hard. It involves you choosing a base map and making sure your data has geographic elements to them. Those might be FIPS numbers to match to counties. Those might be latitude and longitude coordinate points. There are others, but those are two of the biggest ones. \n",
                "\n",
                "First, we need some data. And for this one, we're going to have some fun. Throughout this course, you've dealt with mostly serious data. Plane crashes and tax-payer funded grants and college tuition bills. \n",
                "\n",
                "Let's return to the data we used for a waffle chart in Chapter 26: [Groundhog-Day.com](https://groundhog-day.com/). Groundhog Day, the day when a rodent in Pennslyvania comes out of a hole and if it sees its shadow, we're all miserable for a while longer because we're all sick of winter. Remember I told you that Punxatawny Phil is not the only weather prognosticating rodent in the United States? Not even close. There are 74 ... things ... that people consult about the the coming forecast. \n",
                "\n",
                "Why do I say things? Because the things people consult are ... eclectic. Sure there are lots of groundhogs -- 32 of them in 2024. But did you know that seven other communities in the United States and Canada consult a *DEAD* groundhog? Or, as Groundhog-Day.com politely describes them, taxidermied groundhogs. Six more ask a *person in a groundhog suit* if winter will end early. Then there are the places who don't use groundhogs, and instead use a chicken, or an alligator, or a lobster, beaver, bullfrog, prairie dog or ... a statue of a prairie dog. \n",
                "\n",
                "So like every presidential election, we have poll aggregators who average together poll results to try and predict a winner. You now are a Groundhog aggregator to find out the truth about if winter will end early or not. \n",
                "\n",
                "I've gone ahead to Groundhog-Day.com and scraped the data. You need this url:\n",
                "\n",
                "```\n",
                "[https://the-art-of-data-journalism.github.io/tutorial-data/groundhogs/predictions2024.csv](https://the-art-of-data-journalism.github.io/tutorial-data/groundhogs/predictions2024.csv)\n",
                "```\n",
                "\n",
                "In your Datawrapper dashboard, we want to start with a new chart. One thing Datawrapper does exceptionally well is create interactive maps. So let's make one.\n",
                "\n",
                "```{image} ../_static/images/datawrapper1.png\n",
                ":alt: Datawrapper dashboard showing 'Create new...' button with 'Map' option highlighted this time.\n",
                ":width: 100%\n",
                ":align: center\n",
                "```\n",
                "\n",
                "We're going to make a symbol map because our data is made up of points. Another common map type is the Choropleth map where each unit of geography is shaded in by the value.\n",
                "\n",
                "```{image} ../_static/images/datawrapper2.png\n",
                ":alt: Datawrapper map type selection screen, with 'Symbol map' highlighted.\n",
                ":width: 100%\n",
                ":align: center\n",
                "```\n",
                "\n",
                "Our data includes points in Canada, so we want to select North America as our base map and then proceed.\n",
                "\n",
                "```{image} ../_static/images/datawrapper3.png\n",
                ":alt: Datawrapper base map selection screen, with 'North America' selected.\n",
                ":width: 100%\n",
                ":align: center\n",
                "```\n",
                "\n",
                "Here's where that work of creating the data comes in. Similar to the last exercise, click the Link external data button below the Upload area. There you can paste in the url of your data into the box and then click Connect. \n",
                "\n",
                "```{image} ../_static/images/datawrapper4.png\n",
                ":alt: Datawrapper Step 2: Add your data - 'Link external dataset' option with groundhog data URL pasted.\n",
                ":width: 100%\n",
                ":align: center\n",
                "```\n",
                "\n",
                "We'll go to match and make sure Datawrapper found our latitude and longitude coordinates and that it all worked. While there, we're also going to select the column for the symbol color. That's the last box on the Match screen. Set it to shadow.\n",
                "\n",
                "```{image} ../_static/images/datawrapper5.png\n",
                ":alt: Datawrapper Step 2: Add your data - Match columns screen, showing latitude, longitude, and 'shadow' column selected for color.\n",
                ":width: 100%\n",
                ":align: center\n",
                "```\n",
                "\n",
                "Click proceed twice from there to get to the Refine screen. \n",
                "\n",
                "We'll start to work with color palettes. You should change it to Steps given that we're going to shade it by the shadow column -- which is only 1 or 0. \n",
                "\n",
                "```{image} ../_static/images/datawrapper6.png\n",
                ":alt: Datawrapper Step 3: Visualize - Refine tab, showing color palette options with 'Steps' selected.\n",
                ":width: 100%\n",
                ":align: center\n",
                "```\n",
                "\n",
                "Now we can fiddle with the legend to make it so instead of saying 1 or 0 it says long winter or early spring. \n",
                "\n",
                "```{image} ../_static/images/datawrapper7.png\n",
                ":alt: Datawrapper Step 3: Visualize - Refine tab, showing legend customization options, changing '0' to 'Early Spring' and '1' to 'Long Winter'.\n",
                ":width: 100%\n",
                ":align: center\n",
                "```\n",
                "\n",
                "Now we need to annotate our chart. We need a headline, some chatter (the description), the [data source](https://groundhog-day.com/) and a credit line. \n",
                "\n",
                "```{image} ../_static/images/datawrapper11.png\n",
                ":alt: Datawrapper Step 3: Visualize - Annotate tab, with fields for Title, Description, Notes, Data source, and Byline filled out for the groundhog map.\n",
                ":width: 100%\n",
                ":align: center\n",
                "```\n",
                "\n",
                "One great part of interactive maps are tooltips, where you can click on the dot and get information about it. So let's enable tooltips and customize them.\n",
                "\n",
                "```{image} ../_static/images/datawrapper9.png\n",
                ":alt: Datawrapper Step 3: Visualize - Annotate tab, scrolled down to Tooltip options, showing customization for map tooltips.\n",
                ":width: 100%\n",
                ":align: center\n",
                "```\n",
                "\n",
                "You can always test what you see on the tooltips using the preview map on the right. Hover over a dot, see what it looks like.\n",
                "\n",
                "```{image} ../_static/images/datawrapper10.png\n",
                ":alt: Datawrapper map preview showing a tooltip with customized information when hovering over a data point.\n",
                ":width: 100%\n",
                ":align: center\n",
                "```\n",
                "\n",
                "If you're happy with it, go on and proceed to the end. Similar to charts, you can publish the interactive version on your website, or you can save a static image out for other platforms that can't handle HTML embeds."
            ]
        },
        {
            "cell_type": "markdown",
            "metadata": {},
            "source": [
                "## The Recap\n",
                "\n",
                "Throughout this lesson, you've mastered the process of creating interactive maps with Datawrapper. You've learned to prepare your data, import it into Datawrapper, and customize various aspects of your map, including color schemes, legends, and tooltips. Remember, effective data visualization is about more than just plotting points -- it's about telling a story through your data. Consider how tools like Datawrapper can help you present complex geographic information in a clear, engaging format that resonates with your audience."
            ]
        },
        {
            "cell_type": "markdown",
            "metadata": {},
            "source": [
                "## Terms to Know\n",
                "\n",
                "- **Symbol map**: A type of map that uses symbols or markers to represent data points at specific geographic locations.\n",
                "- **Choropleth map**: A thematic map where areas are shaded or patterned proportionally to a statistical variable.\n",
                "- **Base map**: The underlying map onto which data is plotted, often showing geographic features like country borders or continents.\n",
                "- **Latitude**: The angular distance of a place north or south of the earth's equator, expressed in degrees.\n",
                "- **Longitude**: The angular distance of a place east or west of the Prime Meridian in Greenwich, London, expressed in degrees.\n",
                "- **Tooltip**: An informational box that appears when hovering over or clicking on a data point in an interactive visualization.\n",
                "- **Color palette**: A set of colors chosen to represent different categories or values in a visualization.\n",
                "- **Legend**: An explanatory list of the symbols or colors used on a map or chart.\n",
                "- **Chatter**: In journalism, a brief explanatory text that follows the headline and provides context for the visualization.\n",
                "- **Interactive map**: A digital map that allows users to interact with the data, often through clicking, hovering, or zooming."
            ]
        }
    ],
    "metadata": {
        "kernelspec": {
            "display_name": "Python 3 (ipykernel)",
            "language": "python",
            "name": "python3"
        },
        "language_info": {
            "codemirror_mode": {
                "name": "ipython",
                "version": 3
            },
            "file_extension": ".py",
            "mimetype": "text/x-python",
            "name": "python",
            "nbconvert_exporter": "python",
            "pygments_lexer": "ipython3",
            "version": "3.10"
        },
        "mystnb": {
            "execution_mode": "cache"
        }
    },
    "nbformat": 4,
    "nbformat_minor": 5
}
